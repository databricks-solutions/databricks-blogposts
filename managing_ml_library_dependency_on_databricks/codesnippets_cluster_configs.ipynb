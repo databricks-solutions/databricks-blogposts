{
 "cells": [
  {
   "cell_type": "markdown",
   "metadata": {
    "application/vnd.databricks.v1+cell": {
     "cellMetadata": {},
     "inputWidgets": {},
     "nuid": "7c5322c3-a07b-49fc-8a28-2441048030af",
     "showTitle": false,
     "tableResultSettingsMap": {},
     "title": ""
    }
   },
   "source": [
    "### Example Cluster Config JSON\n",
    "`Using a custom Docker container with specialized libraries on a standard cluster definition setup`"
   ]
  },
  {
   "cell_type": "code",
   "execution_count": 0,
   "metadata": {
    "application/vnd.databricks.v1+cell": {
     "cellMetadata": {},
     "inputWidgets": {},
     "nuid": "c28ecb76-bc78-4154-893b-486b7dd865e9",
     "showTitle": true,
     "tableResultSettingsMap": {},
     "title": "Cluster Config JSON"
    }
   },
   "outputs": [],
   "source": [
    "{\n",
    "\"cluster_name\": \"BioNemoDockerCluster\",\n",
    "\"spark_version\": \"14.3.x-scala2.12\",\n",
    "\"spark_conf\": {\"spark.databricks.unityCatalog.volumes.enabled\": \"true\"}, \n",
    "\"aws_attributes\": {\"zone_id\": \"us-west-2c\" }, //help to avoid capacity limits\n",
    "\"node_type_id\": \"g5.12xlarge\", \n",
    "//Specifies the type of EC2 instance to use, which is \"g5.12xlarge\" (A10G GPU instance)\n",
    "\"custom_tags\": {\"removeAfter\": \"yyy-mm-dd\",},\n",
    "\"autotermination_minutes\": 120,\n",
    "\"enable_elastic_disk\": true, //allow the cluster to dynamically increase disk space as needed\n",
    "\"docker_image\": {\n",
    "                \"url\": \"{docker_profile}/bionemo_dbx_v0_amd64:latest\", \n",
    "                //docker built with -platform amd64\n",
    "                \"basic_auth\": {\n",
    "                              \"username\": \"{{secrets/<scope>/docker_PAT_user}}\",\n",
    "                              \"password\": \"{{secrets/<scope>/docker_PAT_pw}}\"\n",
    "                              },\n",
    "                \"single_user_name\": \"{UUID_{groupname}_SP}\", \n",
    "                //here we specify a group_level Service Principal\n",
    "                \"data_security_mode\": \"DATA_SECURITY_MODE_DEDICATED\",\n",
    "                \"runtime_engine\": \"STANDARD\",\n",
    "                \"kind\": \"CLASSIC_PREVIEW\",\n",
    "                \"use_ml_runtime\": false,\n",
    "                \"is_single_node\": true,\n",
    "                \"num_workers\": 0,\n",
    "                \"apply_policy_default_values\": false\n",
    "                }\n",
    "}"
   ]
  }
 ],
 "metadata": {
  "application/vnd.databricks.v1+notebook": {
   "computePreferences": null,
   "dashboards": [],
   "environmentMetadata": {
    "base_environment": "",
    "environment_version": "2"
   },
   "inputWidgetPreferences": null,
   "language": "python",
   "notebookMetadata": {
    "pythonIndentUnit": 2
   },
   "notebookName": "codesnippets_cluster_configs",
   "widgets": {}
  },
  "language_info": {
   "name": "python"
  }
 },
 "nbformat": 4,
 "nbformat_minor": 0
}
