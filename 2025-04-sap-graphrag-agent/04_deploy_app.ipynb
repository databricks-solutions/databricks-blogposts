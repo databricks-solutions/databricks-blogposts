{
 "cells": [
  {
   "cell_type": "markdown",
   "metadata": {
    "application/vnd.databricks.v1+cell": {
     "cellMetadata": {
      "byteLimit": 2048000,
      "rowLimit": 10000
     },
     "inputWidgets": {},
     "nuid": "0691d780-d414-428c-bb8f-5044d96d652b",
     "showTitle": false,
     "tableResultSettingsMap": {},
     "title": ""
    }
   },
   "source": [
    "# Deploy the App\n",
    "Use Databricks SDK with notebook authentication."
   ]
  },
  {
   "cell_type": "code",
   "execution_count": 0,
   "metadata": {
    "application/vnd.databricks.v1+cell": {
     "cellMetadata": {
      "byteLimit": 2048000,
      "rowLimit": 10000
     },
     "inputWidgets": {},
     "nuid": "8a45a799-78b8-4804-8c10-fab53acee733",
     "showTitle": false,
     "tableResultSettingsMap": {},
     "title": ""
    }
   },
   "outputs": [],
   "source": [
    "%pip install PyYAML\n",
    "%restart_python"
   ]
  },
  {
   "cell_type": "code",
   "execution_count": 0,
   "metadata": {
    "application/vnd.databricks.v1+cell": {
     "cellMetadata": {
      "byteLimit": 2048000,
      "rowLimit": 10000
     },
     "inputWidgets": {},
     "nuid": "3c4f18c9-764d-4ced-a77f-ba19a76da358",
     "showTitle": false,
     "tableResultSettingsMap": {},
     "title": ""
    }
   },
   "outputs": [],
   "source": [
    "from databricks.sdk import WorkspaceClient\n",
    "from databricks.sdk.service import apps\n",
    "\n",
    "w = WorkspaceClient()\n",
    "\n",
    "app_name = \"chainlink\""
   ]
  },
  {
   "cell_type": "code",
   "execution_count": 0,
   "metadata": {
    "application/vnd.databricks.v1+cell": {
     "cellMetadata": {
      "byteLimit": 2048000,
      "rowLimit": 10000
     },
     "inputWidgets": {},
     "nuid": "effdd0af-712e-49a6-970a-1621156e9af3",
     "showTitle": false,
     "tableResultSettingsMap": {},
     "title": ""
    }
   },
   "outputs": [],
   "source": [
    "from databricks.sdk.service.apps import App\n",
    "\n",
    "try:\n",
    "    existing_app = w.apps.get(name=app_name)\n",
    "except:\n",
    "    existing_app = None\n",
    "\n",
    "if not existing_app:\n",
    "    print(f'Creating app {app_name}...')\n",
    "    app = App(name=app_name)\n",
    "    w.apps.create_and_wait(app=app)\n",
    "else:\n",
    "    print(f'App {app_name} already exists.')"
   ]
  },
  {
   "cell_type": "code",
   "execution_count": 0,
   "metadata": {
    "application/vnd.databricks.v1+cell": {
     "cellMetadata": {
      "byteLimit": 2048000,
      "rowLimit": 10000
     },
     "inputWidgets": {},
     "nuid": "2fd22593-fc09-4def-90ec-015fcd063efe",
     "showTitle": false,
     "tableResultSettingsMap": {},
     "title": ""
    }
   },
   "outputs": [],
   "source": [
    "import os\n",
    "from databricks.sdk.service.apps import AppDeployment\n",
    "\n",
    "app_deployment = AppDeployment(\n",
    "    source_code_path=os.getcwd() + \"/_resources/streamlit\"\n",
    ")\n",
    "\n",
    "print(f'Deploying app {app_name} from source code...')\n",
    "deployment = w.apps.deploy(\n",
    "    app_name=app_name,\n",
    "    app_deployment=app_deployment\n",
    ").result()\n",
    "print('App deployed.')"
   ]
  },
  {
   "cell_type": "markdown",
   "metadata": {
    "application/vnd.databricks.v1+cell": {
     "cellMetadata": {
      "byteLimit": 2048000,
      "rowLimit": 10000
     },
     "inputWidgets": {},
     "nuid": "e118d5fe-e84a-4e65-bc3e-01e168eaf228",
     "showTitle": false,
     "tableResultSettingsMap": {},
     "title": ""
    }
   },
   "source": [
    "## Grant App Permission to Serving Endpoint\n",
    "Need to grant CAN_QUERY permission on endpoint to app service principal"
   ]
  },
  {
   "cell_type": "code",
   "execution_count": 0,
   "metadata": {
    "application/vnd.databricks.v1+cell": {
     "cellMetadata": {
      "byteLimit": 2048000,
      "rowLimit": 10000
     },
     "inputWidgets": {},
     "nuid": "68f98693-45ba-40b7-a9f7-1432993d486b",
     "showTitle": false,
     "tableResultSettingsMap": {},
     "title": ""
    }
   },
   "outputs": [],
   "source": [
    "import yaml\n",
    "\n",
    "def read_config(file_path):\n",
    "    try:\n",
    "        with open(file_path, 'r') as file:\n",
    "            config = yaml.safe_load(file)\n",
    "            return config\n",
    "    except FileNotFoundError:\n",
    "        print(f\"File {file_path} not found.\")\n",
    "        return None\n",
    "\n",
    "config = read_config('./_resources/streamlit/app.yaml')"
   ]
  },
  {
   "cell_type": "code",
   "execution_count": 0,
   "metadata": {
    "application/vnd.databricks.v1+cell": {
     "cellMetadata": {
      "byteLimit": 2048000,
      "rowLimit": 10000
     },
     "inputWidgets": {},
     "nuid": "816633f5-9d1b-4b23-b49a-18881b7c92ea",
     "showTitle": false,
     "tableResultSettingsMap": {},
     "title": ""
    }
   },
   "outputs": [],
   "source": [
    "from databricks.sdk.service.serving import ServingEndpointAccessControlRequest, ServingEndpointPermissionLevel\n",
    "\n",
    "# Define the serving endpoint ID and permissions\n",
    "# Note: Using SDK overwrites permissions so you need to make sure the creator still has permission\n",
    "# (also granting access to person running this notebook)\n",
    "serving_endpoint_id = w.serving_endpoints.get(name=config.get('env')[0]['value']).id\n",
    "serving_endpoint_creator = w.serving_endpoints.get(name=config.get('env')[0]['value']).creator\n",
    "existing_app = w.apps.get(name=app_name)\n",
    "\n",
    "access_control_list = [\n",
    "    ServingEndpointAccessControlRequest(\n",
    "        user_name=serving_endpoint_creator,\n",
    "        permission_level=ServingEndpointPermissionLevel[\"CAN_MANAGE\"]\n",
    "    ),\n",
    "    ServingEndpointAccessControlRequest(\n",
    "        user_name=w.current_user.me().user_name,\n",
    "        permission_level=ServingEndpointPermissionLevel[\"CAN_MANAGE\"]\n",
    "    ),\n",
    "    ServingEndpointAccessControlRequest(\n",
    "        user_name=existing_app.service_principal_client_id,\n",
    "        permission_level=ServingEndpointPermissionLevel[\"CAN_QUERY\"]\n",
    "    )\n",
    "]\n",
    "\n",
    "# Grant permissions to the serving endpoint\n",
    "w.serving_endpoints.set_permissions(\n",
    "    serving_endpoint_id=serving_endpoint_id,\n",
    "    access_control_list=access_control_list\n",
    ")\n",
    "\n",
    "print(f\"Permissions granted successfully for serving endpoint {serving_endpoint_id}.\")"
   ]
  }
 ],
 "metadata": {
  "application/vnd.databricks.v1+notebook": {
   "computePreferences": null,
   "dashboards": [],
   "environmentMetadata": {
    "base_environment": "",
    "environment_version": "2"
   },
   "inputWidgetPreferences": null,
   "language": "python",
   "notebookMetadata": {
    "pythonIndentUnit": 2
   },
   "notebookName": "04_deploy_app",
   "widgets": {}
  },
  "language_info": {
   "name": "python"
  }
 },
 "nbformat": 4,
 "nbformat_minor": 0
}
