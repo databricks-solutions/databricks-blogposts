{
 "cells": [
  {
   "cell_type": "markdown",
   "metadata": {
    "application/vnd.databricks.v1+cell": {
     "cellMetadata": {},
     "inputWidgets": {},
     "nuid": "8b1303eb-628f-47be-91ee-cb0c66163a32",
     "showTitle": false,
     "tableResultSettingsMap": {},
     "title": ""
    }
   },
   "source": [
    "\n",
    "# Intelligent Investment Decisions with Databricks\n",
    "\n",
    "## AI is transforming portfolio management\n",
    "\n",
    "In the competitive world of global finance, portfolio managers face immense pressure to make data-driven decisions in real time. But traditional methods of stock analysis are slow, manual, and prone to missed opportunities.\n",
    "\n",
    "Modern financial institutions are turning to AI to revolutionize investment strategies, combining speed, accuracy, and personalization.\n",
    "\n",
    "- But—manual processes and lack of real-time insights slow down decision-making!\n",
    "- Portfolio managers need tools that combine speed and intelligence.\n",
    "\n",
    "\n",
    "<br style=\"clear: both\">\n",
    "\n",
    "## Investment decisions are data + analysis.\n",
    "\n",
    "Investment management is complex because delivering value isn't just about intuition or expertise.  \n",
    "The process involves multiple steps—data collection, stock analysis, trend identification, risk assessment, and actionable recommendations.  \n",
    "Stepping back, all these steps are powered by **data + intelligent tools**.\n",
    "\n",
    "<img style=\"float:right;margin-top:10px\" width=\"500px\" src=\"/Workspace/Users/sarbani.maiti@databricks.com/BLOGATHON_Investment_Assistant/agent_app_img\" />\n",
    "\n",
    "<img src=\"/Workspace/Users/sarbani.maiti@databricks.com/BLOGATHON_Investment_Assistant/woman_image\" style=\"float:left;\" width=\"80px\"> \n",
    "<h4 style=\"padding:10px 0px 0px 5px\">Sophia, as a Portfolio Manager at CapitalCatalyst, needs an AI assistant to streamline her Investment analysis workflow:</h3>\n",
    "\n",
    "\n",
    "- Identify customer preferences & company names\n",
    "- Retrieve real-time stock data & trends\n",
    "- Analyze stocks using historical & market data\n",
    "- Provide actionable \"Buy,\" \"Sell,\" or \"Hold\" recommendations\n",
    "- Justify recommendations with clear insights\n",
    "- Highlight missing data for transparency**\n",
    "\n",
    "\n",
    "**Sophia needs a cutting-edge AI Assistant which empowers portfolio managers to make smarter investment decisions. \n",
    "\n",
    "Let's see how can we build a AI driven Investment Assistant with Databricks Agent Framework.\n"
   ]
  },
  {
   "cell_type": "markdown",
   "metadata": {
    "application/vnd.databricks.v1+cell": {
     "cellMetadata": {},
     "inputWidgets": {},
     "nuid": "e0064620-c037-4b3d-be12-4d47b6cca236",
     "showTitle": false,
     "tableResultSettingsMap": {},
     "title": ""
    }
   },
   "source": [
    "# Building a domain specific AI Agent using Databricks Agent Framework\n",
    "\n",
    "##  Investment Assistant Features\n",
    "\n",
    "### Step 1: Identifying Company Names and Customer IDs\n",
    "- The Agent can identify company names and customer IDs when explicitly provided by the user.\n",
    "- This helps in tailoring investment recommendations to specific customer profiles and companies.\n",
    "\n",
    "### Step 2: Retrieving Stock Ticker Symbols\n",
    "- The Agent can retrieve stock ticker symbols from the internet if they are not provided by the user.\n",
    "-  This ensures accurate identification of the stock in question for analysis.\n",
    "\n",
    "### Step 3: Analyzing Stocks for Investment Recommendations\n",
    "- The Agent uses various tools to analyze stocks and provide investment recommendations.\n",
    "- This involves a detailed analysis using customer preferences and stock data.\n",
    "\n",
    "###  Stock Analysis:\n",
    "3.1. **Customer Investment Preferences**:\n",
    "   - **Tool**: customer_investment_preferences\n",
    "   - **Usage**: Retrieve customer risk appetite and other preferences for personalized recommendations.\n",
    "\n",
    "3.2. **Current Stock Market Price**:\n",
    "   - **Tool**: finance_stock_quote\n",
    "   - **Usage**: Obtain the current market price and other relevant financial data for the stock.\n",
    "\n",
    "3.3. **Stock Summary/Insights**:\n",
    "   - **Tool**: finance_insight_api\n",
    "   - **Usage**: Gather insights and summaries about the stocks performance and market position.\n",
    "\n",
    "3.4. **Historical Stock Volume and Closing Price**:\n",
    "   - **Tool**: get_historical_closing_price`\n",
    "   - **Usage**: Extract historical data to understand stock trends and volatility.\n",
    "\n",
    "### Step 4: Generating Final Recommendations\n",
    "- The Agent generates recommendations based on the analysis, using specific numbers and insights.\n",
    "- Recommendations are categorized as **Buy**, **Hold**, or **Sell**, with detailed justification.\n",
    "\n",
    "### Step 5: Handling Missing Data\n",
    "- If any required data is unavailable, the Agent explicitly states which data is missing.\n",
    "- This ensures transparency and allows for recommendations based on available information.\n",
    "\n",
    "### Step 6: Output Format\n",
    "- The Agent follows a structured output format for recommendations.\n",
    "- This includes bolded recommendations followed by detailed justification, ensuring clarity and comprehensiveness.\n",
    "\n",
    "By following these steps, the Agent provides a comprehensive and personalized investment analysis, leveraging available tools and data to assist users in making informed investment decisions."
   ]
  },
  {
   "cell_type": "markdown",
   "metadata": {
    "application/vnd.databricks.v1+cell": {
     "cellMetadata": {},
     "inputWidgets": {},
     "nuid": "5a37c090-0547-45d8-9366-9eccb4416489",
     "showTitle": false,
     "tableResultSettingsMap": {},
     "title": ""
    }
   },
   "source": [
    "## This notebook will \n",
    "\n",
    "- Create the required Agent tools - functions\n",
    "- Create the sample data & upload in Delta Tables\n"
   ]
  },
  {
   "cell_type": "markdown",
   "metadata": {
    "application/vnd.databricks.v1+cell": {
     "cellMetadata": {},
     "inputWidgets": {},
     "nuid": "71a72715-593f-44d1-840a-57bba05a0e4b",
     "showTitle": false,
     "tableResultSettingsMap": {},
     "title": ""
    }
   },
   "source": [
    "%md\n",
    "## Create UC-Functions to access the yahoo finance API\n",
    "\n",
    "Get access to :\n",
    "https://www.financeapi.net/\n",
    "\n",
    "Create your own API-KEY ( free key will have limitations, please check the dashboard, limk below)\n",
    "\n",
    "Access to Yahoofinace dashboard : \n",
    " https://www.financeapi.net/dashboard\n",
    "\n",
    " \n",
    "\n",
    "Yahoofinance alternative \n",
    "\n",
    "https://site.financialmodelingprep.com/developer/docs#balance-sheet-statements-financial-statements\n"
   ]
  },
  {
   "cell_type": "markdown",
   "metadata": {
    "application/vnd.databricks.v1+cell": {
     "cellMetadata": {},
     "inputWidgets": {},
     "nuid": "fa263aed-fb54-40a6-97a2-c7d74f9f444b",
     "showTitle": false,
     "tableResultSettingsMap": {},
     "title": ""
    }
   },
   "source": [
    "I have used one specfic researcher \"Argus Research\" to limit the number of tokens"
   ]
  },
  {
   "cell_type": "code",
   "execution_count": 0,
   "metadata": {
    "application/vnd.databricks.v1+cell": {
     "cellMetadata": {
      "byteLimit": 2048000,
      "rowLimit": 10000
     },
     "inputWidgets": {},
     "nuid": "253fd0f3-14c3-4c18-9ab6-fb6c71e6c22c",
     "showTitle": false,
     "tableResultSettingsMap": {},
     "title": ""
    }
   },
   "outputs": [
    {
     "output_type": "execute_result",
     "data": {
      "text/plain": [
       "DataFrame[]"
      ]
     },
     "execution_count": 1,
     "metadata": {},
     "output_type": "execute_result"
    }
   ],
   "source": [
    "# Drop the existing function if it exists to avoid conflicts\n",
    "spark.sql('DROP FUNCTION IF EXISTS sarbanimaiti_catalog.agent_demo.finance_insight_api;')\n",
    "\n",
    "# Create or replace the Unity Catalog function for financial insights\n",
    "spark.sql('''\n",
    "CREATE OR REPLACE FUNCTION sarbanimaiti_catalog.agent_demo.finance_insight_api (query STRING)\n",
    "RETURNS STRING\n",
    "LANGUAGE PYTHON\n",
    "COMMENT 'Returns financial insights for a given ticker symbol.'\n",
    "AS\n",
    "$$\n",
    "try:\n",
    "    # Import requests module to make HTTP requests\n",
    "    import requests\n",
    "    # Define the API endpoint for financial insights\n",
    "    url = \"https://yfapi.net/ws/insights/v1/finance/insights\"\n",
    "\n",
    "    # Set the query parameter with the symbol provided to the function\n",
    "    params = {\"symbol\": query}\n",
    "\n",
    "    # Include your API key in the request headers for authentication\n",
    "    headers = {\n",
    "        'x-api-key': \"Enter_your_key_here\"\n",
    "    }\n",
    "\n",
    "    # Make a GET request to the API\n",
    "    response = requests.request(\"GET\", url, headers=headers, params=params)\n",
    "\n",
    "    # Initialize an empty list to hold summaries\n",
    "    summaries = []\n",
    "    # Parse the JSON response\n",
    "    data = response.json()\n",
    "    # Control variable to ensure only one summary is added\n",
    "    cntrol = 1\n",
    "\n",
    "    # Iterate through the reports in the response\n",
    "    for report in data['finance']['result']['reports']:\n",
    "        # Check if the report is from Argus Research and control is 1\n",
    "        if report['provider'] == \"Argus Research\" and cntrol ==1:\n",
    "            # Append the summary to the summaries list\n",
    "            summaries.append(report['summary'])\n",
    "            # Update control to prevent adding more summaries\n",
    "            cntrol = cntrol + 1\n",
    "\n",
    "    # Return the list of summaries\n",
    "    return summaries\n",
    "except Exception as e:\n",
    "    # Return an error message if an exception occurs\n",
    "    return \"Error calling YouTube Search API: {{e}}\".format(e=str(e))\n",
    "$$;\n",
    "''')"
   ]
  },
  {
   "cell_type": "code",
   "execution_count": 0,
   "metadata": {
    "application/vnd.databricks.v1+cell": {
     "cellMetadata": {
      "byteLimit": 2048000,
      "implicitDf": true,
      "rowLimit": 10000
     },
     "inputWidgets": {},
     "nuid": "ad442ff8-df32-4a00-8eea-5e1671e28820",
     "showTitle": false,
     "tableResultSettingsMap": {},
     "title": ""
    }
   },
   "outputs": [],
   "source": [
    "# Test the finance_insight_api function with 'AAPL' as the parameter and collect the result\n",
    "result = spark.sql(\"SELECT sarbanimaiti_catalog.agent_demo.finance_insight_api('AAPL')\").collect()"
   ]
  },
  {
   "cell_type": "code",
   "execution_count": 0,
   "metadata": {
    "application/vnd.databricks.v1+cell": {
     "cellMetadata": {
      "byteLimit": 2048000,
      "rowLimit": 10000
     },
     "inputWidgets": {},
     "nuid": "c0db8fca-97ce-4870-83d8-42ff5f64df1d",
     "showTitle": false,
     "tableResultSettingsMap": {},
     "title": ""
    }
   },
   "outputs": [
    {
     "output_type": "execute_result",
     "data": {
      "text/plain": [
       "[Row(sarbanimaiti_catalog.agent_demo.finance_insight_api(AAPL)='[\\'Which of the market-dominant and so-called \"Magnificent 7\" stocks might be the best investments? During the first phase of unbridled AI enthusiasm, all of the Mag 7 were loved as their opportunity appeared to be almost unlimited. The market is now more skeptical toward perceived AI winners, which has led to a natural tendency to rank the group on their go-forward prospects. We see Amazon moving up in the ranks, while Nvidia continues to command the top spot.  All the Mag 7 names have something in common. They are all dominant in at least one core competency; and they have leveraged the immense cash flows thrown off by their core competencies to invest in and develop the generative AI opportunity. \"Ranking\" the Mag 7 on their intermediate-term prospects, therefore, involves assessing each company\\\\\\'s ability to defend and nurture its core business while using that strength to gain share within the AI ecosystem. For this week\\\\\\'s list, we analyze and rank the Mag 7 (from top to bottom) on their apparent intermediate-term prospects. We expect our rankings for the Mag 7 to be fluid, but do not foresee any movement in first or last place.* Nvidia (NVDA): We continue to put Nvidia at the top of the Mag 7 list. Unlike the other six names, Nvidia\\\\\\'s core competency is artificial intelligence. The need for realistic rendering in GPU-based gaming, Nvidia\\\\\\'s founding business, laid the groundwork for the applications acceleration and the massively parallel computing that are cornerstones of training large language models (LLMs) and enabling inference. We rank Nvidia number one based on the evidence in the company\\\\\\'s own growth numbers, which are stellar. In its recent fiscal 4Q25, revenue of $39 billion grew 78% annually. At its GTC event in March 2025, Nvidia forecast that data-center revenue would exceed $1 trillion annually in the next few years, and that the entire global industrial infrastructure represented a $50 trillion opportunity for AI renewal. Nvidia also provides much more than its industry leading GPUs, including its CUDA software library, and is \"turbo-charging\" agentic AI development with open-reasoning models, platforms, and partnerships. The best evidence of Nvidia\\\\\\'s momentum is the growth of the enterprise infrastructure companies using Nvidia solutions to support the mainstreaming of AI. Micron\\\\\\'s data-center revenue tripled year over year and now exceeds 50% of total company revenue. Micron increased the TAM for its high-bandwidth memory (HBM) opportunity to $35 billion as of March 2025, up from $20 billion approximately half a year ago. Among the leading U.S.-based GPU server providers, Dell Technologies posted $10 billion in AI sever revenue in FY25 and expects $15 billion in FY26. Hewlett-Packard Enterprise exited fiscal 1Q25 with $8.3 billion in cumulative AI systems and services orders. The leaders in data center interconnects (DCIs), Broadcom and Marvell, are both reporting explosive growth in these categories. * Meta Platforms (META): Meta Platforms in second place because it has been among the most successful in leveraging its core competency (social media) into a leadership role in building LLMs, including multi-modal models. Snap has a limited opportunity, and X is stunted by self-inflicted wounds and perceived Musk contagion. Only Asia-based companies such as ByteDance (TikTok) represent a real threat. We see some risk to the core business from seemingly endless EU and U.S. congressional opposition; and Meta\\\\\\'s social-media cornerstones (Facebook, Instagram, and WhatsApp) could be carved cleanly in three. We do not see that happening, however. Meta has successfully pivoted from the Zuckerberg\\\\\\'s expensive obsession with the metaverse to the more-practical and fast-developing AI opportunity. Unlike AWS, Microsoft Azure, and Google Cloud, Meta is successfully enabling and advancing leading LLMs even though it is not a major provider of hybrid cloud services. We see Meta first and foremost deploying AI internally to improve operating efficiency and personal targeting so as to optimize the company\\\\\\'s social media user base, which exceeds 3.3 billion. Facebook Reality Labs, which houses Meta\\\\\\'s Gen AI business, posted revenue of $2.1 billion in 2024, just 1% of total Meta revenue. Currently, this is mainly a hardware-based business (Quest VR headsets, Ray-Ban AR glasses), but we see long-term growth opportunity as Meta\\\\\\'s Llama LLMs go mainstream. Much as Apple capitalized on the vast iOS installed base and targeted the individual with iCloud, Meta could offer a personalized AI offering to its more-than three billion users.* Amazon.com (AMZN): In third place is Amazon. Amazon\\\\\\'s online retail operations and particularly its Prime business are without a global peer. The combined retail operating margin (Americas and International) for 4Q24 was 6.1%, by far the highest in our model going back to company\\\\\\'s inception. Prime\\\\\\'s media is now rivaling Netflix in content quality and volume.  AWS is the leading CSP globally, and its rising margins and cash flows are funding the company\\\\\\'s Gen AI opportunity. Amazon was quick to replace the head of AWS in May 2024 when the board perceived that the company was lagging in Gen AI. AWS is at a $110 billion annual revenue run rate and margins are at or near record highs. Both internally and in partnership with Anthropic and others, AI has produced Bedrock Marketplace, where clients can choose from over 100 LLMs; Trainium and Trainium 2 accelerators; and Amazon Nova, an extensive family of foundational models. * Apple (AAPL): Fourth place goes to Apple. Apple\\\\\\'s core competency is global leadership in technology devices and services. Apple has been somewhat disappointing in its early efforts in AI. The company is even going outside its usual reliance on internal capabilities to enlist support from companies such as OpenAI. But we have long regarded Apple as a product perfector, not a product pioneer; early iteration mobile phones such as DynaTAC and StarTAC amazed, but they are long gone while iPhone grows in dominance. Investors are also concerned about Apple\\\\\\'s declining China sales. Yet in the most-recent fiscal 1Q25, Apple grew revenue in all other regions. The company\\\\\\'s massive iOS installed base exceeds 2.2 billion, providing fertile ground for continued growth in services.* Microsoft (MSFT): In the fifth spot is Microsoft. Microsoft has leveraged is core competency in enterprise software into Azure, the number two CSP behind AWS. Like all of the companies mentioned above that are not named Nvidia, Microsoft is challenged in getting sufficient supply of advanced Blackwell products to build and run its most-advanced models. Microsoft\\\\\\'s cloud business has never been as profitable as AWS, although that may partly be due to which assets are allocated to the cloud division. Microsoft has had a few missteps in rolling out its Gen AI models, and both CNBC and Invezz recently questioned whether Microsoft was becoming an AI laggard. We note, however, that Microsoft Copilot has seen meaningful share gains and represents the first real threat to our sixth-place company.* Alphabet (GOOGL): Ranked sixth is Alphabet. Alphabet, of course, used to be named Google, and that name has been synonymous with internet search for decades. AI-assisted products such as Copilot and OpenAI\\\\\\'s SearchGPT may be starting to cut into Google\\\\\\'s search dominance. With many enterprises and consumers using Microsoft Edge as their browsers, Copilot \"conveniently\" pops up atop many searches. Google is seen as a pioneer in AI, created technologies underpinning early LLMs, and was a leader in the space until OpenAI exploded on the scene. After the hasty and flubbed Bard launch, Google Cloud has done much better with Gemini. Alphabet, like Meta, has been a particular target of U.S. and EU regulators. In August 2024, Alphabet was named a monopolist in a case brought by the Justice Department and 37 states. Breaking up Alphabet, however, would cleave the one big profitable business of Google Search and perhaps YouTube from all the expensive and unprofitable growth areas in Other Bets, including Waymo, Google Cloud, and the AI initiative. * Tesla (TSLA): At the tail end of the Mag 7 ranking is Tesla, whose core competency is electric vehicles. This space is becoming crowded, and China\\\\\\'s BYD is much bigger and has developed fast-charging technology that is currently unmatched. The U.S. under President Biden sought to protect Tesla and U.S. EVs with massive tariffs on EV imports. Tesla CEO Elon Musk and President Trump are in sync, although the current president previously disparaged EVs in favor of internal combustion engines (ICE) vehicles. Tesla, like X (the former Twitter), is suffering some level of Musk contagion, although the number of users reselling their cars due to perceptions about Musk is not yet a major impediment. Instead, we see Tesla at risk from commoditization of EVs and competition from rivals, both domestic and foreign. While we did not incorporate valuation into our rankings, these companies are not hugely expensive due to the recent correction in growth sectors and the generally strong operating prospects for core businesses.\\']')]"
      ]
     },
     "execution_count": 3,
     "metadata": {},
     "output_type": "execute_result"
    }
   ],
   "source": [
    "result"
   ]
  },
  {
   "cell_type": "code",
   "execution_count": 0,
   "metadata": {
    "application/vnd.databricks.v1+cell": {
     "cellMetadata": {
      "byteLimit": 2048000,
      "rowLimit": 10000
     },
     "inputWidgets": {},
     "nuid": "9d19ba5e-0da3-45a0-a1ae-ebd85ce3ebc5",
     "showTitle": false,
     "tableResultSettingsMap": {},
     "title": ""
    }
   },
   "outputs": [
    {
     "output_type": "execute_result",
     "data": {
      "text/plain": [
       "DataFrame[]"
      ]
     },
     "execution_count": 4,
     "metadata": {},
     "output_type": "execute_result"
    }
   ],
   "source": [
    "# # Drop the existing function to avoid conflicts\n",
    "# spark.sql('DROP FUNCTION IF EXISTS sarbanimaiti_catalog.finance_stock_quote.finance_api;')\n",
    "\n",
    "# Define a new function in the Unity Catalog\n",
    "spark.sql('''\n",
    "CREATE OR REPLACE FUNCTION sarbanimaiti_catalog.agent_demo.finance_stock_quote (query STRING)\n",
    "RETURNS STRING\n",
    "LANGUAGE PYTHON\n",
    "COMMENT 'Returns financial summary of ticker.'\n",
    "AS\n",
    "$$\n",
    "try:\n",
    "    # Import requests to enable HTTP calls\n",
    "    import requests\n",
    "    # API endpoint for fetching finance quotes\n",
    "    url = \"https://yfapi.net/v6/finance/quote\"\n",
    "    # Parameters for the API call, specifying the stock symbols\n",
    "    params = {\"symbols\": query}\n",
    "    # Headers for the API call, including the API key for authentication\n",
    "    headers = {\n",
    "        'x-api-key': \"Enter_your_key_here\"\n",
    "    }\n",
    "    # Execute the GET request with specified URL, headers, and parameters\n",
    "    response = requests.request(\"GET\", url, headers=headers, params=params)\n",
    "    # Return the JSON response from the API\n",
    "    return response.json()\n",
    "except Exception as e:\n",
    "    # Return an error message if an exception occurs\n",
    "    return \"Error calling YouTube Search API: {{e}}\".format(e=str(e))\n",
    "$$;\n",
    "''')"
   ]
  },
  {
   "cell_type": "code",
   "execution_count": 0,
   "metadata": {
    "application/vnd.databricks.v1+cell": {
     "cellMetadata": {
      "byteLimit": 2048000,
      "rowLimit": 10000
     },
     "inputWidgets": {},
     "nuid": "e67c6302-5d84-45e9-a1ea-a3214b859d00",
     "showTitle": false,
     "tableResultSettingsMap": {},
     "title": ""
    }
   },
   "outputs": [],
   "source": [
    "# Test the SQL function to get the real time price , financial summary for the ticker 'AAPL' and collect the result\n",
    "result = spark.sql(\"SELECT sarbanimaiti_catalog.agent_demo.finance_stock_quote('AAPL')\").collect()"
   ]
  },
  {
   "cell_type": "code",
   "execution_count": 0,
   "metadata": {
    "application/vnd.databricks.v1+cell": {
     "cellMetadata": {
      "byteLimit": 2048000,
      "rowLimit": 10000
     },
     "inputWidgets": {},
     "nuid": "e07b3af6-2f3b-49c0-86f8-1caa723e4711",
     "showTitle": false,
     "tableResultSettingsMap": {},
     "title": ""
    }
   },
   "outputs": [
    {
     "output_type": "execute_result",
     "data": {
      "text/plain": [
       "[Row(sarbanimaiti_catalog.agent_demo.finance_stock_quote(AAPL)=\"{'quoteResponse': {'result': [{'language': 'en-US', 'region': 'US', 'quoteType': 'EQUITY', 'typeDisp': 'Equity', 'quoteSourceName': 'Nasdaq Real Time Price', 'triggerable': True, 'customPriceAlertConfidence': 'HIGH', 'currency': 'USD', 'marketState': 'PRE', 'hasPrePostMarketData': True, 'firstTradeDateMilliseconds': 345479400000, 'corporateActions': [], 'preMarketTime': 1743508443, 'regularMarketTime': 1743451201, 'exchange': 'NMS', 'messageBoardId': 'finmb_24937', 'exchangeTimezoneName': 'America/New_York', 'exchangeTimezoneShortName': 'EDT', 'gmtOffSetMilliseconds': -14400000, 'market': 'us_market', 'esgPopulated': False, 'regularMarketChangePercent': 1.9412626, 'regularMarketPrice': 222.13, 'shortName': 'Apple Inc.', 'longName': 'Apple Inc.', 'priceHint': 2, 'preMarketChange': -2.1900024, 'preMarketChangePercent': -0.98591024, 'preMarketPrice': 219.94, 'regularMarketChange': 4.230011, 'regularMarketDayHigh': 224.97, 'regularMarketDayRange': '216.24 - 224.97', 'regularMarketDayLow': 216.24, 'regularMarketVolume': 65078252, 'regularMarketPreviousClose': 217.9, 'bid': 219.54, 'ask': 224.89, 'bidSize': 30, 'askSize': 5, 'fullExchangeName': 'NasdaqGS', 'financialCurrency': 'USD', 'regularMarketOpen': 217.22, 'averageDailyVolume3Month': 52962733, 'averageDailyVolume10Day': 49524090, 'fiftyTwoWeekLowChange': 58.050003, 'fiftyTwoWeekLowChangePercent': 0.35379085, 'fiftyTwoWeekRange': '164.08 - 260.1', 'fiftyTwoWeekHighChange': -37.97, 'fiftyTwoWeekHighChangePercent': -0.14598231, 'fiftyTwoWeekLow': 164.08, 'fiftyTwoWeekHigh': 260.1, 'fiftyTwoWeekChangePercent': 31.562424, 'dividendDate': 1739404800, 'earningsTimestamp': 1738272600, 'earningsTimestampStart': 1746010740, 'earningsTimestampEnd': 1746446400, 'earningsCallTimestampStart': 1738274400, 'earningsCallTimestampEnd': 1738274400, 'isEarningsDateEstimate': True, 'trailingAnnualDividendRate': 0.99, 'trailingPE': 35.202854, 'dividendRate': 1.0, 'trailingAnnualDividendYield': 0.0045433687, 'dividendYield': 0.45, 'epsTrailingTwelveMonths': 6.31, 'epsForward': 8.31, 'epsCurrentYear': 7.32671, 'priceEpsCurrentYear': 30.317837, 'sharesOutstanding': 15022100480, 'bookValue': 4.438, 'fiftyDayAverage': 230.2496, 'fiftyDayAverageChange': -8.119598, 'fiftyDayAverageChangePercent': -0.03526433, 'twoHundredDayAverage': 229.0951, 'twoHundredDayAverageChange': -6.965088, 'twoHundredDayAverageChangePercent': -0.030402606, 'marketCap': 3336859287552, 'forwardPE': 26.730444, 'priceToBook': 50.051823, 'sourceInterval': 15, 'exchangeDataDelayedBy': 0, 'averageAnalystRating': '2.0 - Buy', 'tradeable': False, 'cryptoTradeable': False, 'displayName': 'Apple', 'symbol': 'AAPL'}], 'error': None}}\")]"
      ]
     },
     "execution_count": 6,
     "metadata": {},
     "output_type": "execute_result"
    }
   ],
   "source": [
    "result"
   ]
  },
  {
   "cell_type": "markdown",
   "metadata": {
    "application/vnd.databricks.v1+cell": {
     "cellMetadata": {},
     "inputWidgets": {},
     "nuid": "bf58cee1-4c1f-4d56-a52b-51922a2851e5",
     "showTitle": false,
     "tableResultSettingsMap": {},
     "title": ""
    }
   },
   "source": [
    "## Create the stock historical price tables\n",
    "\n",
    "##### Upload the stock historical files from \"sample_stock_hist_files\" folder to your Unity catalog Volume. \n",
    "In real case these files can be sourced in various ways.\n",
    "\n",
    "##### Then  run the below code to :\n",
    "- Merge all the files in one spark data frame\n",
    "- Then upload the themerged file in spark delta table which will be used in UC function (Agent Tool)"
   ]
  },
  {
   "cell_type": "code",
   "execution_count": 0,
   "metadata": {
    "application/vnd.databricks.v1+cell": {
     "cellMetadata": {
      "byteLimit": 2048000,
      "rowLimit": 10000
     },
     "inputWidgets": {},
     "nuid": "8117310a-1ed7-4741-809d-5918800170b9",
     "showTitle": false,
     "tableResultSettingsMap": {},
     "title": ""
    }
   },
   "outputs": [],
   "source": [
    "from pyspark.sql.functions import input_file_name, col, regexp_extract\n",
    "\n",
    "# Function to rename columns to remove spaces and special characters\n",
    "def rename_columns(df):\n",
    "    return df.select([col(c).alias(c.replace(\" \", \"_\").replace(\"Adj Close\", \"Adj_Close\")) for c in df.columns])\n",
    "\n",
    "# Load CSV files and add a column with the file name, then rename columns\n",
    "tsla_df = rename_columns(\n",
    "    spark.read.option(\"header\", \"true\")\n",
    "    .csv(\"/Volumes/sarbanimaiti_catalog/agent_demo/stocks_historical_price/stock_hist_price/TSLA_prices.csv\")\n",
    "    .withColumn(\"stock_name\", regexp_extract(input_file_name(), r'([^/]+)(?=\\.)', 1).substr(0, 4))\n",
    "    \n",
    ")\n",
    "\n",
    "aapl_df = rename_columns(\n",
    "    spark.read.option(\"header\", \"true\")\n",
    "    .csv(\"/Volumes/sarbanimaiti_catalog/agent_demo/stocks_historical_price/stock_hist_price/AAPL_prices.csv\")\n",
    "    .withColumn(\"stock_name\", regexp_extract(input_file_name(), r'([^/]+)(?=\\.)', 1).substr(0, 4))\n",
    ")\n",
    "\n",
    "googl_df = rename_columns(\n",
    "    spark.read.option(\"header\", \"true\")\n",
    "    .csv(\"/Volumes/sarbanimaiti_catalog/agent_demo/stocks_historical_price/stock_hist_price/GOOGL_prices.csv\")\n",
    "    .withColumn(\"stock_name\", regexp_extract(input_file_name(), r'([^/]+)(?=\\.)', 1).substr(0, 4))\n",
    ")\n",
    "\n",
    "jnj_df = rename_columns(\n",
    "    spark.read.option(\"header\", \"true\")\n",
    "    .csv(\"/Volumes/sarbanimaiti_catalog/agent_demo/stocks_historical_price/stock_hist_price/JNJ_prices.csv\")\n",
    "    .withColumn(\"stock_name\", regexp_extract(input_file_name(), r'([^/]+)(?=\\.)', 1).substr(0, 3))\n",
    ")\n",
    "\n",
    "jpm_df = rename_columns(\n",
    "    spark.read.option(\"header\", \"true\")\n",
    "    .csv(\"/Volumes/sarbanimaiti_catalog/agent_demo/stocks_historical_price/stock_hist_price/JPM_prices.csv\")\n",
    "    .withColumn(\"stock_name\", regexp_extract(input_file_name(), r'([^/]+)(?=\\.)', 1).substr(0, 3))\n",
    ")\n",
    "\n",
    "amzn_df = rename_columns(\n",
    "    spark.read.option(\"header\", \"true\")\n",
    "    .csv(\"/Volumes/sarbanimaiti_catalog/agent_demo/stocks_historical_price/stock_hist_price/AMZN_prices.csv\")\n",
    "    .withColumn(\"stock_name\", regexp_extract(input_file_name(), r'([^/]+)(?=\\.)', 1).substr(0, 4))\n",
    ")\n",
    "\n",
    "\n",
    "# Union all dataframes\n",
    "merged_df = tsla_df.union(aapl_df).union(googl_df).union(jnj_df).union(jpm_df).union(amzn_df)\n",
    "\n",
    "# Write to a Delta table\n",
    "merged_df.write.format(\"delta\").mode(\"overwrite\").saveAsTable(\"sarbanimaiti_catalog.agent_demo.merged_stock_prices\")"
   ]
  },
  {
   "cell_type": "code",
   "execution_count": 0,
   "metadata": {
    "application/vnd.databricks.v1+cell": {
     "cellMetadata": {
      "byteLimit": 2048000,
      "implicitDf": true,
      "rowLimit": 10000
     },
     "inputWidgets": {},
     "nuid": "5f95c672-e653-40b5-86c6-68f2f7c50ca5",
     "showTitle": false,
     "tableResultSettingsMap": {},
     "title": ""
    }
   },
   "outputs": [
    {
     "output_type": "display_data",
     "data": {
      "text/html": [
       "<style scoped>\n",
       "  .table-result-container {\n",
       "    max-height: 300px;\n",
       "    overflow: auto;\n",
       "  }\n",
       "  table, th, td {\n",
       "    border: 1px solid black;\n",
       "    border-collapse: collapse;\n",
       "  }\n",
       "  th, td {\n",
       "    padding: 5px;\n",
       "  }\n",
       "  th {\n",
       "    text-align: left;\n",
       "  }\n",
       "</style><div class='table-result-container'><table class='table-result'><thead style='background-color: white'><tr><th>stock_name</th></tr></thead><tbody><tr><td>JNJ</td></tr><tr><td>AAPL</td></tr><tr><td>JPM</td></tr><tr><td>AMZN</td></tr><tr><td>GOOGL</td></tr><tr><td>TSLA</td></tr></tbody></table></div>"
      ]
     },
     "metadata": {
      "application/vnd.databricks.v1+output": {
       "addedWidgets": {},
       "aggData": [],
       "aggError": "",
       "aggOverflow": false,
       "aggSchema": [],
       "aggSeriesLimitReached": false,
       "aggType": "",
       "arguments": {},
       "columnCustomDisplayInfos": {},
       "data": [
        [
         "JNJ"
        ],
        [
         "AAPL"
        ],
        [
         "JPM"
        ],
        [
         "AMZN"
        ],
        [
         "GOOGL"
        ],
        [
         "TSLA"
        ]
       ],
       "datasetInfos": [
        {
         "name": "_sqldf",
         "schema": {
          "fields": [
           {
            "metadata": {},
            "name": "stock_name",
            "nullable": true,
            "type": "string"
           }
          ],
          "type": "struct"
         },
         "tableIdentifier": null,
         "typeStr": "pyspark.sql.connect.dataframe.DataFrame"
        }
       ],
       "dbfsResultPath": null,
       "isJsonSchema": true,
       "metadata": {
        "createTempViewForImplicitDf": true,
        "dataframeName": "_sqldf",
        "executionCount": 1
       },
       "overflow": false,
       "plotOptions": {
        "customPlotOptions": {},
        "displayType": "table",
        "pivotAggregation": null,
        "pivotColumns": null,
        "xColumns": null,
        "yColumns": null
       },
       "removedWidgets": [],
       "schema": [
        {
         "metadata": "{}",
         "name": "stock_name",
         "type": "\"string\""
        }
       ],
       "type": "table"
      }
     },
     "output_type": "display_data"
    }
   ],
   "source": [
    "%sql\n",
    "-- verify the table \n",
    "SELECT DISTINCT stock_name FROM sarbanimaiti_catalog.agent_demo.merged_stock_prices"
   ]
  },
  {
   "cell_type": "markdown",
   "metadata": {
    "application/vnd.databricks.v1+cell": {
     "cellMetadata": {},
     "inputWidgets": {},
     "nuid": "90b830bb-4401-4215-be8f-7754594466e1",
     "showTitle": false,
     "tableResultSettingsMap": {},
     "title": ""
    }
   },
   "source": [
    "## Create Agent Tool : Extract stock closing price from history table"
   ]
  },
  {
   "cell_type": "code",
   "execution_count": 0,
   "metadata": {
    "application/vnd.databricks.v1+cell": {
     "cellMetadata": {
      "byteLimit": 2048000,
      "implicitDf": true,
      "rowLimit": 10000
     },
     "inputWidgets": {},
     "nuid": "7f2d7a3a-7ea4-4f6d-b9cb-addf7e0ad45a",
     "showTitle": false,
     "tableResultSettingsMap": {},
     "title": ""
    }
   },
   "outputs": [
    {
     "output_type": "display_data",
     "data": {
      "text/html": [
       "<style scoped>\n",
       "  .table-result-container {\n",
       "    max-height: 300px;\n",
       "    overflow: auto;\n",
       "  }\n",
       "  table, th, td {\n",
       "    border: 1px solid black;\n",
       "    border-collapse: collapse;\n",
       "  }\n",
       "  th, td {\n",
       "    padding: 5px;\n",
       "  }\n",
       "  th {\n",
       "    text-align: left;\n",
       "  }\n",
       "</style><div class='table-result-container'><table class='table-result'><thead style='background-color: white'><tr></tr></thead><tbody></tbody></table></div>"
      ]
     },
     "metadata": {
      "application/vnd.databricks.v1+output": {
       "addedWidgets": {},
       "aggData": [],
       "aggError": "",
       "aggOverflow": false,
       "aggSchema": [],
       "aggSeriesLimitReached": false,
       "aggType": "",
       "arguments": {},
       "columnCustomDisplayInfos": {},
       "data": [],
       "datasetInfos": [],
       "dbfsResultPath": null,
       "isJsonSchema": true,
       "metadata": {
        "dataframeName": null
       },
       "overflow": false,
       "plotOptions": {
        "customPlotOptions": {},
        "displayType": "table",
        "pivotAggregation": null,
        "pivotColumns": null,
        "xColumns": null,
        "yColumns": null
       },
       "removedWidgets": [],
       "schema": [],
       "type": "table"
      }
     },
     "output_type": "display_data"
    }
   ],
   "source": [
    "%sql\n",
    "--Drop the existing function to avoid conflicts\n",
    "DROP FUNCTION IF EXISTS sarbanimaiti_catalog.agent_demo.get_historical_closing_price;"
   ]
  },
  {
   "cell_type": "code",
   "execution_count": 0,
   "metadata": {
    "application/vnd.databricks.v1+cell": {
     "cellMetadata": {
      "byteLimit": 2048000,
      "implicitDf": true,
      "rowLimit": 10000
     },
     "inputWidgets": {},
     "nuid": "ca41db02-98bf-4fc8-aa27-6ebd33ee9ffc",
     "showTitle": false,
     "tableResultSettingsMap": {},
     "title": ""
    }
   },
   "outputs": [],
   "source": [
    "%sql\n",
    "\n",
    "-- This function takes stock ticker and duration in terms of year as input, refer the corresponding stock historical price table and fetch the historical closing price & volume of the stock for that duration. \n",
    "-- Duration in year  eg : '3'\n",
    "CREATE OR REPLACE FUNCTION sarbanimaiti_catalog.agent_demo.get_hist_closing_price (\n",
    "  stock_ticker STRING COMMENT 'Stock ticker will be passed in the query',\n",
    "  yr_duration  BIGINT COMMENT 'Duration for which stock volume and closing price will be extracted'\n",
    "  \n",
    ")\n",
    "returns table(Date DATE , Close FLOAT, Volume INT)\n",
    "return\n",
    "(\n",
    "WITH FilteredStocks AS (\n",
    "  SELECT\n",
    "    Date,\n",
    "    Close,\n",
    "    Volume,\n",
    "    stock_name\n",
    "  FROM\n",
    "    sarbanimaiti_catalog.agent_demo.merged_stock_prices\n",
    "  WHERE\n",
    "    stock_name = stock_ticker\n",
    "    AND datediff(CURRENT_DATE(), Date) <= 800 * yr_duration\n",
    ")\n",
    "SELECT\n",
    "  Date,\n",
    "  Close,\n",
    "  Volume\n",
    "FROM\n",
    "  FilteredStocks\n",
    "ORDER BY\n",
    "  Date ASC\n",
    ")\n"
   ]
  },
  {
   "cell_type": "markdown",
   "metadata": {
    "application/vnd.databricks.v1+cell": {
     "cellMetadata": {},
     "inputWidgets": {},
     "nuid": "dea4d5a9-283f-4553-a52b-eece98578798",
     "showTitle": false,
     "tableResultSettingsMap": {},
     "title": ""
    }
   },
   "source": [
    "#### Test the tool "
   ]
  },
  {
   "cell_type": "code",
   "execution_count": 0,
   "metadata": {
    "application/vnd.databricks.v1+cell": {
     "cellMetadata": {
      "byteLimit": 2048000,
      "implicitDf": true,
      "rowLimit": 10000
     },
     "inputWidgets": {},
     "nuid": "b17bcba9-3345-48bd-b535-14d62bf2bf46",
     "showTitle": false,
     "tableResultSettingsMap": {},
     "title": ""
    }
   },
   "outputs": [
    {
     "output_type": "display_data",
     "data": {
      "text/html": [
       "<style scoped>\n",
       "  .table-result-container {\n",
       "    max-height: 300px;\n",
       "    overflow: auto;\n",
       "  }\n",
       "  table, th, td {\n",
       "    border: 1px solid black;\n",
       "    border-collapse: collapse;\n",
       "  }\n",
       "  th, td {\n",
       "    padding: 5px;\n",
       "  }\n",
       "  th {\n",
       "    text-align: left;\n",
       "  }\n",
       "</style><div class='table-result-container'><table class='table-result'><thead style='background-color: white'><tr><th>Date</th><th>Close</th><th>Volume</th></tr></thead><tbody><tr><td>2023-01-09</td><td>137.37</td><td>8482300</td></tr><tr><td>2023-01-10</td><td>138.6</td><td>9048700</td></tr><tr><td>2023-01-11</td><td>139.63</td><td>8703700</td></tr><tr><td>2023-01-12</td><td>139.49</td><td>11001700</td></tr><tr><td>2023-01-13</td><td>143.01</td><td>20200000</td></tr><tr><td>2023-01-17</td><td>140.8</td><td>14292900</td></tr><tr><td>2023-01-18</td><td>136.57</td><td>13392600</td></tr><tr><td>2023-01-19</td><td>134.75</td><td>13303400</td></tr><tr><td>2023-01-20</td><td>135.08</td><td>13092500</td></tr><tr><td>2023-01-23</td><td>137.27</td><td>10487100</td></tr><tr><td>2023-01-24</td><td>138.45</td><td>6945000</td></tr><tr><td>2023-01-25</td><td>139.12</td><td>8967000</td></tr><tr><td>2023-01-26</td><td>139.98</td><td>7487600</td></tr><tr><td>2023-01-27</td><td>140.32</td><td>7489900</td></tr><tr><td>2023-01-30</td><td>139.13</td><td>6729300</td></tr><tr><td>2023-01-31</td><td>139.96</td><td>9188700</td></tr><tr><td>2023-02-01</td><td>139.59</td><td>8841800</td></tr><tr><td>2023-02-02</td><td>138.94</td><td>11822100</td></tr><tr><td>2023-02-03</td><td>141.09</td><td>11501200</td></tr><tr><td>2023-02-06</td><td>141.92</td><td>8406200</td></tr><tr><td>2023-02-07</td><td>143.65</td><td>10447900</td></tr><tr><td>2023-02-08</td><td>142.64</td><td>6958000</td></tr><tr><td>2023-02-09</td><td>140.42</td><td>6443100</td></tr><tr><td>2023-02-10</td><td>141.04</td><td>6582900</td></tr><tr><td>2023-02-13</td><td>142.57</td><td>7134600</td></tr><tr><td>2023-02-14</td><td>143.2</td><td>9249400</td></tr><tr><td>2023-02-15</td><td>143.8</td><td>6728300</td></tr><tr><td>2023-02-16</td><td>141.82</td><td>8165300</td></tr><tr><td>2023-02-17</td><td>142.24</td><td>7948800</td></tr><tr><td>2023-02-21</td><td>139.63</td><td>9996300</td></tr><tr><td>2023-02-22</td><td>138.56</td><td>11107500</td></tr><tr><td>2023-02-23</td><td>139.67</td><td>8068000</td></tr><tr><td>2023-02-24</td><td>140.93</td><td>9126900</td></tr><tr><td>2023-02-27</td><td>142.16</td><td>10014700</td></tr><tr><td>2023-02-28</td><td>143.35</td><td>11019800</td></tr><tr><td>2023-03-01</td><td>142.55</td><td>7139200</td></tr><tr><td>2023-03-02</td><td>141.07</td><td>11106800</td></tr><tr><td>2023-03-03</td><td>143.66</td><td>9513100</td></tr><tr><td>2023-03-06</td><td>142.82</td><td>9261300</td></tr><tr><td>2023-03-07</td><td>138.62</td><td>11747600</td></tr><tr><td>2023-03-08</td><td>137.8</td><td>10002500</td></tr><tr><td>2023-03-09</td><td>130.34</td><td>25888100</td></tr><tr><td>2023-03-10</td><td>133.65</td><td>37599700</td></tr><tr><td>2023-03-13</td><td>131.25</td><td>42901100</td></tr><tr><td>2023-03-14</td><td>134.62</td><td>29648100</td></tr><tr><td>2023-03-15</td><td>128.26</td><td>34280600</td></tr><tr><td>2023-03-16</td><td>130.75</td><td>24558500</td></tr><tr><td>2023-03-17</td><td>125.81</td><td>38396000</td></tr><tr><td>2023-03-20</td><td>127.14</td><td>22875500</td></tr><tr><td>2023-03-21</td><td>130.55</td><td>17807800</td></tr><tr><td>2023-03-22</td><td>127.18</td><td>17250200</td></tr><tr><td>2023-03-23</td><td>126.84</td><td>16677600</td></tr><tr><td>2023-03-24</td><td>124.91</td><td>22311100</td></tr><tr><td>2023-03-27</td><td>128.49</td><td>18853900</td></tr><tr><td>2023-03-28</td><td>128.88</td><td>10820500</td></tr><tr><td>2023-03-29</td><td>129.14</td><td>14595300</td></tr><tr><td>2023-03-30</td><td>128.75</td><td>12134700</td></tr><tr><td>2023-03-31</td><td>130.31</td><td>13105200</td></tr><tr><td>2023-04-03</td><td>130.16</td><td>11775400</td></tr><tr><td>2023-04-04</td><td>128.42</td><td>11579900</td></tr><tr><td>2023-04-05</td><td>127.61</td><td>9614700</td></tr><tr><td>2023-04-06</td><td>127.47</td><td>8760200</td></tr><tr><td>2023-04-10</td><td>127.89</td><td>9477300</td></tr><tr><td>2023-04-11</td><td>128.52</td><td>10516300</td></tr><tr><td>2023-04-12</td><td>128.5</td><td>11821000</td></tr><tr><td>2023-04-13</td><td>128.99</td><td>12450200</td></tr><tr><td>2023-04-14</td><td>138.73</td><td>43931300</td></tr><tr><td>2023-04-17</td><td>139.83</td><td>16050500</td></tr><tr><td>2023-04-18</td><td>141.4</td><td>13760100</td></tr><tr><td>2023-04-19</td><td>141.22</td><td>9158100</td></tr><tr><td>2023-04-20</td><td>140.81</td><td>10586200</td></tr><tr><td>2023-04-21</td><td>140.54</td><td>11842500</td></tr><tr><td>2023-04-24</td><td>140.73</td><td>7567500</td></tr><tr><td>2023-04-25</td><td>137.67</td><td>10629300</td></tr><tr><td>2023-04-26</td><td>135.23</td><td>14416100</td></tr><tr><td>2023-04-27</td><td>137.05</td><td>9041100</td></tr><tr><td>2023-04-28</td><td>138.24</td><td>9881800</td></tr><tr><td>2023-05-01</td><td>141.2</td><td>20415800</td></tr><tr><td>2023-05-02</td><td>138.92</td><td>14113400</td></tr><tr><td>2023-05-03</td><td>135.98</td><td>12930900</td></tr><tr><td>2023-05-04</td><td>134.12</td><td>17089200</td></tr><tr><td>2023-05-05</td><td>136.74</td><td>11259100</td></tr><tr><td>2023-05-08</td><td>137.07</td><td>7484900</td></tr><tr><td>2023-05-09</td><td>136.41</td><td>7343600</td></tr><tr><td>2023-05-10</td><td>136.48</td><td>8133400</td></tr><tr><td>2023-05-11</td><td>136.05</td><td>7057300</td></tr><tr><td>2023-05-12</td><td>134.1</td><td>9986400</td></tr><tr><td>2023-05-15</td><td>135.23</td><td>7639500</td></tr><tr><td>2023-05-16</td><td>134.32</td><td>6477200</td></tr><tr><td>2023-05-17</td><td>138.45</td><td>12711500</td></tr><tr><td>2023-05-18</td><td>139.5</td><td>10999600</td></tr><tr><td>2023-05-19</td><td>139.18</td><td>13490700</td></tr><tr><td>2023-05-22</td><td>138.03</td><td>11402500</td></tr><tr><td>2023-05-23</td><td>136.59</td><td>9514900</td></tr><tr><td>2023-05-24</td><td>135.34</td><td>8578000</td></tr><tr><td>2023-05-25</td><td>135.67</td><td>8472500</td></tr><tr><td>2023-05-26</td><td>136.94</td><td>8579900</td></tr><tr><td>2023-05-30</td><td>137.46</td><td>7399900</td></tr><tr><td>2023-05-31</td><td>135.71</td><td>14219900</td></tr><tr><td>2023-06-01</td><td>137.58</td><td>12248100</td></tr><tr><td>2023-06-02</td><td>140.47</td><td>12917200</td></tr><tr><td>2023-06-05</td><td>139.09</td><td>8511900</td></tr><tr><td>2023-06-06</td><td>139.34</td><td>9329500</td></tr><tr><td>2023-06-07</td><td>140.69</td><td>9281400</td></tr><tr><td>2023-06-08</td><td>140.73</td><td>7368100</td></tr><tr><td>2023-06-09</td><td>141.01</td><td>7249100</td></tr><tr><td>2023-06-12</td><td>141.0</td><td>7596600</td></tr><tr><td>2023-06-13</td><td>142.02</td><td>7701600</td></tr><tr><td>2023-06-14</td><td>141.49</td><td>9068700</td></tr><tr><td>2023-06-15</td><td>143.09</td><td>9343100</td></tr><tr><td>2023-06-16</td><td>143.26</td><td>13812100</td></tr><tr><td>2023-06-20</td><td>142.53</td><td>8428600</td></tr><tr><td>2023-06-21</td><td>142.32</td><td>9926500</td></tr><tr><td>2023-06-22</td><td>139.58</td><td>10075200</td></tr><tr><td>2023-06-23</td><td>138.85</td><td>9907500</td></tr><tr><td>2023-06-26</td><td>139.19</td><td>8429700</td></tr><tr><td>2023-06-27</td><td>139.2</td><td>8154000</td></tr><tr><td>2023-06-28</td><td>138.59</td><td>7558600</td></tr><tr><td>2023-06-29</td><td>143.43</td><td>15423200</td></tr><tr><td>2023-06-30</td><td>145.44</td><td>14208500</td></tr><tr><td>2023-07-03</td><td>146.61</td><td>8021600</td></tr><tr><td>2023-07-05</td><td>144.64</td><td>8934900</td></tr><tr><td>2023-07-06</td><td>143.21</td><td>9709500</td></tr><tr><td>2023-07-07</td><td>144.34</td><td>8977500</td></tr><tr><td>2023-07-10</td><td>145.15</td><td>9100100</td></tr><tr><td>2023-07-11</td><td>147.42</td><td>11265600</td></tr><tr><td>2023-07-12</td><td>148.15</td><td>11323200</td></tr><tr><td>2023-07-13</td><td>148.87</td><td>11234900</td></tr><tr><td>2023-07-14</td><td>149.77</td><td>27011600</td></tr><tr><td>2023-07-17</td><td>153.38</td><td>17262400</td></tr><tr><td>2023-07-18</td><td>153.66</td><td>13491700</td></tr><tr><td>2023-07-19</td><td>154.25</td><td>12510000</td></tr><tr><td>2023-07-20</td><td>156.15</td><td>9935900</td></tr><tr><td>2023-07-21</td><td>154.95</td><td>10633100</td></tr><tr><td>2023-07-24</td><td>158.0</td><td>14381400</td></tr><tr><td>2023-07-25</td><td>156.82</td><td>9944700</td></tr><tr><td>2023-07-26</td><td>157.76</td><td>8728600</td></tr><tr><td>2023-07-27</td><td>156.02</td><td>10778400</td></tr><tr><td>2023-07-28</td><td>156.91</td><td>9103800</td></tr><tr><td>2023-07-31</td><td>157.96</td><td>8892700</td></tr><tr><td>2023-08-01</td><td>157.18</td><td>6853900</td></tr><tr><td>2023-08-02</td><td>155.4</td><td>8299400</td></tr><tr><td>2023-08-03</td><td>156.35</td><td>6084000</td></tr><tr><td>2023-08-04</td><td>156.02</td><td>6206600</td></tr><tr><td>2023-08-07</td><td>156.76</td><td>7251800</td></tr><tr><td>2023-08-08</td><td>155.88</td><td>8623400</td></tr><tr><td>2023-08-09</td><td>153.79</td><td>6277800</td></tr><tr><td>2023-08-10</td><td>153.56</td><td>5995100</td></tr><tr><td>2023-08-11</td><td>154.45</td><td>5178000</td></tr><tr><td>2023-08-14</td><td>154.77</td><td>5044300</td></tr><tr><td>2023-08-15</td><td>150.83</td><td>10300300</td></tr><tr><td>2023-08-16</td><td>150.19</td><td>6978200</td></tr><tr><td>2023-08-17</td><td>148.63</td><td>9953900</td></tr><tr><td>2023-08-18</td><td>148.97</td><td>8516900</td></tr><tr><td>2023-08-21</td><td>149.48</td><td>8327000</td></tr><tr><td>2023-08-22</td><td>146.38</td><td>9682000</td></tr><tr><td>2023-08-23</td><td>147.37</td><td>7858000</td></tr><tr><td>2023-08-24</td><td>147.23</td><td>6534000</td></tr><tr><td>2023-08-25</td><td>147.05</td><td>6695500</td></tr><tr><td>2023-08-28</td><td>147.56</td><td>5094100</td></tr><tr><td>2023-08-29</td><td>148.76</td><td>6337000</td></tr><tr><td>2023-08-30</td><td>148.16</td><td>6277300</td></tr><tr><td>2023-08-31</td><td>146.33</td><td>10933900</td></tr><tr><td>2023-09-01</td><td>146.82</td><td>7902100</td></tr><tr><td>2023-09-05</td><td>145.2</td><td>7854700</td></tr><tr><td>2023-09-06</td><td>144.96</td><td>8629200</td></tr><tr><td>2023-09-07</td><td>143.72</td><td>8373700</td></tr><tr><td>2023-09-08</td><td>143.83</td><td>7107900</td></tr><tr><td>2023-09-11</td><td>144.46</td><td>6854200</td></tr><tr><td>2023-09-12</td><td>146.34</td><td>8363200</td></tr><tr><td>2023-09-13</td><td>146.41</td><td>8325900</td></tr><tr><td>2023-09-14</td><td>149.25</td><td>10034900</td></tr><tr><td>2023-09-15</td><td>148.81</td><td>19824100</td></tr><tr><td>2023-09-18</td><td>149.12</td><td>6512400</td></tr><tr><td>2023-09-19</td><td>148.93</td><td>7943400</td></tr><tr><td>2023-09-20</td><td>148.3</td><td>7332000</td></tr><tr><td>2023-09-21</td><td>147.14</td><td>8052400</td></tr><tr><td>2023-09-22</td><td>145.73</td><td>7071700</td></tr><tr><td>2023-09-25</td><td>146.45</td><td>7044700</td></tr><tr><td>2023-09-26</td><td>144.93</td><td>7468400</td></tr><tr><td>2023-09-27</td><td>145.78</td><td>6717800</td></tr><tr><td>2023-09-28</td><td>147.59</td><td>8868100</td></tr><tr><td>2023-09-29</td><td>145.02</td><td>11915700</td></tr><tr><td>2023-10-02</td><td>143.77</td><td>9170600</td></tr><tr><td>2023-10-03</td><td>142.71</td><td>9431100</td></tr><tr><td>2023-10-04</td><td>143.35</td><td>8128700</td></tr><tr><td>2023-10-05</td><td>142.9</td><td>8576200</td></tr><tr><td>2023-10-06</td><td>145.1</td><td>10269400</td></tr><tr><td>2023-10-09</td><td>144.77</td><td>6964900</td></tr><tr><td>2023-10-10</td><td>145.65</td><td>11288800</td></tr><tr><td>2023-10-11</td><td>146.15</td><td>8698200</td></tr><tr><td>2023-10-12</td><td>145.81</td><td>10484400</td></tr><tr><td>2023-10-13</td><td>148.0</td><td>29427000</td></tr><tr><td>2023-10-16</td><td>147.85</td><td>12663500</td></tr><tr><td>2023-10-17</td><td>147.53</td><td>11482700</td></tr><tr><td>2023-10-18</td><td>145.91</td><td>9620300</td></tr><tr><td>2023-10-19</td><td>145.29</td><td>11143600</td></tr><tr><td>2023-10-20</td><td>142.95</td><td>13332000</td></tr><tr><td>2023-10-23</td><td>141.0</td><td>10133400</td></tr><tr><td>2023-10-24</td><td>141.17</td><td>8881400</td></tr><tr><td>2023-10-25</td><td>140.4</td><td>8242600</td></tr><tr><td>2023-10-26</td><td>140.76</td><td>9109400</td></tr><tr><td>2023-10-27</td><td>135.69</td><td>17434700</td></tr><tr><td>2023-10-30</td><td>137.42</td><td>9855500</td></tr><tr><td>2023-10-31</td><td>139.06</td><td>9672500</td></tr><tr><td>2023-11-01</td><td>138.94</td><td>9432000</td></tr><tr><td>2023-11-02</td><td>141.42</td><td>10186200</td></tr><tr><td>2023-11-03</td><td>143.0</td><td>9533100</td></tr><tr><td>2023-11-06</td><td>144.08</td><td>7625100</td></tr><tr><td>2023-11-07</td><td>144.01</td><td>6297900</td></tr><tr><td>2023-11-08</td><td>144.72</td><td>7618200</td></tr><tr><td>2023-11-09</td><td>144.29</td><td>7992500</td></tr><tr><td>2023-11-10</td><td>146.43</td><td>7983300</td></tr><tr><td>2023-11-13</td><td>145.78</td><td>6676300</td></tr><tr><td>2023-11-14</td><td>148.44</td><td>9927700</td></tr><tr><td>2023-11-15</td><td>149.74</td><td>8365300</td></tr><tr><td>2023-11-16</td><td>151.45</td><td>8126200</td></tr><tr><td>2023-11-17</td><td>152.82</td><td>7812400</td></tr><tr><td>2023-11-20</td><td>153.29</td><td>7019000</td></tr><tr><td>2023-11-21</td><td>152.97</td><td>7083500</td></tr><tr><td>2023-11-22</td><td>153.33</td><td>5174500</td></tr><tr><td>2023-11-24</td><td>153.54</td><td>3496900</td></tr><tr><td>2023-11-27</td><td>153.19</td><td>6259100</td></tr><tr><td>2023-11-28</td><td>153.54</td><td>6582700</td></tr><tr><td>2023-11-29</td><td>154.32</td><td>9126100</td></tr><tr><td>2023-11-30</td><td>156.08</td><td>9869800</td></tr><tr><td>2023-12-01</td><td>156.84</td><td>8913000</td></tr><tr><td>2023-12-04</td><td>157.99</td><td>9607500</td></tr><tr><td>2023-12-05</td><td>157.97</td><td>9135600</td></tr><tr><td>2023-12-06</td><td>156.31</td><td>9366000</td></tr><tr><td>2023-12-07</td><td>156.79</td><td>8130900</td></tr><tr><td>2023-12-08</td><td>158.52</td><td>7366200</td></tr><tr><td>2023-12-11</td><td>159.1</td><td>8093900</td></tr><tr><td>2023-12-12</td><td>160.52</td><td>10223000</td></tr><tr><td>2023-12-13</td><td>161.06</td><td>12379100</td></tr><tr><td>2023-12-14</td><td>163.99</td><td>13643000</td></tr><tr><td>2023-12-15</td><td>165.23</td><td>20305900</td></tr><tr><td>2023-12-18</td><td>166.23</td><td>8469600</td></tr><tr><td>2023-12-19</td><td>168.45</td><td>10345700</td></tr><tr><td>2023-12-20</td><td>166.55</td><td>10734700</td></tr><tr><td>2023-12-21</td><td>167.5</td><td>7601700</td></tr><tr><td>2023-12-22</td><td>167.4</td><td>6574900</td></tr><tr><td>2023-12-26</td><td>168.39</td><td>4683600</td></tr><tr><td>2023-12-27</td><td>169.4</td><td>6428600</td></tr><tr><td>2023-12-28</td><td>170.3</td><td>6320100</td></tr><tr><td>2023-12-29</td><td>170.1</td><td>6431800</td></tr><tr><td>2024-01-02</td><td>172.08</td><td>9977400</td></tr><tr><td>2024-01-03</td><td>171.33</td><td>9852300</td></tr><tr><td>2024-01-04</td><td>171.41</td><td>11972500</td></tr><tr><td>2024-01-05</td><td>172.27</td><td>10064200</td></tr><tr><td>2024-01-08</td><td>172.02</td><td>11229900</td></tr><tr><td>2024-01-09</td><td>170.66</td><td>9923600</td></tr><tr><td>2024-01-10</td><td>171.02</td><td>9670200</td></tr><tr><td>2024-01-11</td><td>170.3</td><td>11919500</td></tr><tr><td>2024-01-12</td><td>169.05</td><td>19429200</td></tr><tr><td>2024-01-16</td><td>167.99</td><td>17206400</td></tr><tr><td>2024-01-17</td><td>167.09</td><td>11107500</td></tr><tr><td>2024-01-18</td><td>167.42</td><td>9382300</td></tr><tr><td>2024-01-19</td><td>170.31</td><td>13114400</td></tr><tr><td>2024-01-22</td><td>170.11</td><td>12837500</td></tr><tr><td>2024-01-23</td><td>168.99</td><td>8360800</td></tr><tr><td>2024-01-24</td><td>170.5</td><td>9967100</td></tr><tr><td>2024-01-25</td><td>172.94</td><td>8873500</td></tr><tr><td>2024-01-26</td><td>172.28</td><td>7443000</td></tr><tr><td>2024-01-29</td><td>172.73</td><td>6971200</td></tr><tr><td>2024-01-30</td><td>176.27</td><td>10822100</td></tr></tbody></table></div>"
      ]
     },
     "metadata": {
      "application/vnd.databricks.v1+output": {
       "addedWidgets": {},
       "aggData": [],
       "aggError": "",
       "aggOverflow": false,
       "aggSchema": [],
       "aggSeriesLimitReached": false,
       "aggType": "",
       "arguments": {},
       "columnCustomDisplayInfos": {},
       "data": [
        [
         "2023-01-09",
         137.37,
         8482300
        ],
        [
         "2023-01-10",
         138.6,
         9048700
        ],
        [
         "2023-01-11",
         139.63,
         8703700
        ],
        [
         "2023-01-12",
         139.49,
         11001700
        ],
        [
         "2023-01-13",
         143.01,
         20200000
        ],
        [
         "2023-01-17",
         140.8,
         14292900
        ],
        [
         "2023-01-18",
         136.57,
         13392600
        ],
        [
         "2023-01-19",
         134.75,
         13303400
        ],
        [
         "2023-01-20",
         135.08,
         13092500
        ],
        [
         "2023-01-23",
         137.27,
         10487100
        ],
        [
         "2023-01-24",
         138.45,
         6945000
        ],
        [
         "2023-01-25",
         139.12,
         8967000
        ],
        [
         "2023-01-26",
         139.98,
         7487600
        ],
        [
         "2023-01-27",
         140.32,
         7489900
        ],
        [
         "2023-01-30",
         139.13,
         6729300
        ],
        [
         "2023-01-31",
         139.96,
         9188700
        ],
        [
         "2023-02-01",
         139.59,
         8841800
        ],
        [
         "2023-02-02",
         138.94,
         11822100
        ],
        [
         "2023-02-03",
         141.09,
         11501200
        ],
        [
         "2023-02-06",
         141.92,
         8406200
        ],
        [
         "2023-02-07",
         143.65,
         10447900
        ],
        [
         "2023-02-08",
         142.64,
         6958000
        ],
        [
         "2023-02-09",
         140.42,
         6443100
        ],
        [
         "2023-02-10",
         141.04,
         6582900
        ],
        [
         "2023-02-13",
         142.57,
         7134600
        ],
        [
         "2023-02-14",
         143.2,
         9249400
        ],
        [
         "2023-02-15",
         143.8,
         6728300
        ],
        [
         "2023-02-16",
         141.82,
         8165300
        ],
        [
         "2023-02-17",
         142.24,
         7948800
        ],
        [
         "2023-02-21",
         139.63,
         9996300
        ],
        [
         "2023-02-22",
         138.56,
         11107500
        ],
        [
         "2023-02-23",
         139.67,
         8068000
        ],
        [
         "2023-02-24",
         140.93,
         9126900
        ],
        [
         "2023-02-27",
         142.16,
         10014700
        ],
        [
         "2023-02-28",
         143.35,
         11019800
        ],
        [
         "2023-03-01",
         142.55,
         7139200
        ],
        [
         "2023-03-02",
         141.07,
         11106800
        ],
        [
         "2023-03-03",
         143.66,
         9513100
        ],
        [
         "2023-03-06",
         142.82,
         9261300
        ],
        [
         "2023-03-07",
         138.62,
         11747600
        ],
        [
         "2023-03-08",
         137.8,
         10002500
        ],
        [
         "2023-03-09",
         130.34,
         25888100
        ],
        [
         "2023-03-10",
         133.65,
         37599700
        ],
        [
         "2023-03-13",
         131.25,
         42901100
        ],
        [
         "2023-03-14",
         134.62,
         29648100
        ],
        [
         "2023-03-15",
         128.26,
         34280600
        ],
        [
         "2023-03-16",
         130.75,
         24558500
        ],
        [
         "2023-03-17",
         125.81,
         38396000
        ],
        [
         "2023-03-20",
         127.14,
         22875500
        ],
        [
         "2023-03-21",
         130.55,
         17807800
        ],
        [
         "2023-03-22",
         127.18,
         17250200
        ],
        [
         "2023-03-23",
         126.84,
         16677600
        ],
        [
         "2023-03-24",
         124.91,
         22311100
        ],
        [
         "2023-03-27",
         128.49,
         18853900
        ],
        [
         "2023-03-28",
         128.88,
         10820500
        ],
        [
         "2023-03-29",
         129.14,
         14595300
        ],
        [
         "2023-03-30",
         128.75,
         12134700
        ],
        [
         "2023-03-31",
         130.31,
         13105200
        ],
        [
         "2023-04-03",
         130.16,
         11775400
        ],
        [
         "2023-04-04",
         128.42,
         11579900
        ],
        [
         "2023-04-05",
         127.61,
         9614700
        ],
        [
         "2023-04-06",
         127.47,
         8760200
        ],
        [
         "2023-04-10",
         127.89,
         9477300
        ],
        [
         "2023-04-11",
         128.52,
         10516300
        ],
        [
         "2023-04-12",
         128.5,
         11821000
        ],
        [
         "2023-04-13",
         128.99,
         12450200
        ],
        [
         "2023-04-14",
         138.73,
         43931300
        ],
        [
         "2023-04-17",
         139.83,
         16050500
        ],
        [
         "2023-04-18",
         141.4,
         13760100
        ],
        [
         "2023-04-19",
         141.22,
         9158100
        ],
        [
         "2023-04-20",
         140.81,
         10586200
        ],
        [
         "2023-04-21",
         140.54,
         11842500
        ],
        [
         "2023-04-24",
         140.73,
         7567500
        ],
        [
         "2023-04-25",
         137.67,
         10629300
        ],
        [
         "2023-04-26",
         135.23,
         14416100
        ],
        [
         "2023-04-27",
         137.05,
         9041100
        ],
        [
         "2023-04-28",
         138.24,
         9881800
        ],
        [
         "2023-05-01",
         141.2,
         20415800
        ],
        [
         "2023-05-02",
         138.92,
         14113400
        ],
        [
         "2023-05-03",
         135.98,
         12930900
        ],
        [
         "2023-05-04",
         134.12,
         17089200
        ],
        [
         "2023-05-05",
         136.74,
         11259100
        ],
        [
         "2023-05-08",
         137.07,
         7484900
        ],
        [
         "2023-05-09",
         136.41,
         7343600
        ],
        [
         "2023-05-10",
         136.48,
         8133400
        ],
        [
         "2023-05-11",
         136.05,
         7057300
        ],
        [
         "2023-05-12",
         134.1,
         9986400
        ],
        [
         "2023-05-15",
         135.23,
         7639500
        ],
        [
         "2023-05-16",
         134.32,
         6477200
        ],
        [
         "2023-05-17",
         138.45,
         12711500
        ],
        [
         "2023-05-18",
         139.5,
         10999600
        ],
        [
         "2023-05-19",
         139.18,
         13490700
        ],
        [
         "2023-05-22",
         138.03,
         11402500
        ],
        [
         "2023-05-23",
         136.59,
         9514900
        ],
        [
         "2023-05-24",
         135.34,
         8578000
        ],
        [
         "2023-05-25",
         135.67,
         8472500
        ],
        [
         "2023-05-26",
         136.94,
         8579900
        ],
        [
         "2023-05-30",
         137.46,
         7399900
        ],
        [
         "2023-05-31",
         135.71,
         14219900
        ],
        [
         "2023-06-01",
         137.58,
         12248100
        ],
        [
         "2023-06-02",
         140.47,
         12917200
        ],
        [
         "2023-06-05",
         139.09,
         8511900
        ],
        [
         "2023-06-06",
         139.34,
         9329500
        ],
        [
         "2023-06-07",
         140.69,
         9281400
        ],
        [
         "2023-06-08",
         140.73,
         7368100
        ],
        [
         "2023-06-09",
         141.01,
         7249100
        ],
        [
         "2023-06-12",
         141.0,
         7596600
        ],
        [
         "2023-06-13",
         142.02,
         7701600
        ],
        [
         "2023-06-14",
         141.49,
         9068700
        ],
        [
         "2023-06-15",
         143.09,
         9343100
        ],
        [
         "2023-06-16",
         143.26,
         13812100
        ],
        [
         "2023-06-20",
         142.53,
         8428600
        ],
        [
         "2023-06-21",
         142.32,
         9926500
        ],
        [
         "2023-06-22",
         139.58,
         10075200
        ],
        [
         "2023-06-23",
         138.85,
         9907500
        ],
        [
         "2023-06-26",
         139.19,
         8429700
        ],
        [
         "2023-06-27",
         139.2,
         8154000
        ],
        [
         "2023-06-28",
         138.59,
         7558600
        ],
        [
         "2023-06-29",
         143.43,
         15423200
        ],
        [
         "2023-06-30",
         145.44,
         14208500
        ],
        [
         "2023-07-03",
         146.61,
         8021600
        ],
        [
         "2023-07-05",
         144.64,
         8934900
        ],
        [
         "2023-07-06",
         143.21,
         9709500
        ],
        [
         "2023-07-07",
         144.34,
         8977500
        ],
        [
         "2023-07-10",
         145.15,
         9100100
        ],
        [
         "2023-07-11",
         147.42,
         11265600
        ],
        [
         "2023-07-12",
         148.15,
         11323200
        ],
        [
         "2023-07-13",
         148.87,
         11234900
        ],
        [
         "2023-07-14",
         149.77,
         27011600
        ],
        [
         "2023-07-17",
         153.38,
         17262400
        ],
        [
         "2023-07-18",
         153.66,
         13491700
        ],
        [
         "2023-07-19",
         154.25,
         12510000
        ],
        [
         "2023-07-20",
         156.15,
         9935900
        ],
        [
         "2023-07-21",
         154.95,
         10633100
        ],
        [
         "2023-07-24",
         158.0,
         14381400
        ],
        [
         "2023-07-25",
         156.82,
         9944700
        ],
        [
         "2023-07-26",
         157.76,
         8728600
        ],
        [
         "2023-07-27",
         156.02,
         10778400
        ],
        [
         "2023-07-28",
         156.91,
         9103800
        ],
        [
         "2023-07-31",
         157.96,
         8892700
        ],
        [
         "2023-08-01",
         157.18,
         6853900
        ],
        [
         "2023-08-02",
         155.4,
         8299400
        ],
        [
         "2023-08-03",
         156.35,
         6084000
        ],
        [
         "2023-08-04",
         156.02,
         6206600
        ],
        [
         "2023-08-07",
         156.76,
         7251800
        ],
        [
         "2023-08-08",
         155.88,
         8623400
        ],
        [
         "2023-08-09",
         153.79,
         6277800
        ],
        [
         "2023-08-10",
         153.56,
         5995100
        ],
        [
         "2023-08-11",
         154.45,
         5178000
        ],
        [
         "2023-08-14",
         154.77,
         5044300
        ],
        [
         "2023-08-15",
         150.83,
         10300300
        ],
        [
         "2023-08-16",
         150.19,
         6978200
        ],
        [
         "2023-08-17",
         148.63,
         9953900
        ],
        [
         "2023-08-18",
         148.97,
         8516900
        ],
        [
         "2023-08-21",
         149.48,
         8327000
        ],
        [
         "2023-08-22",
         146.38,
         9682000
        ],
        [
         "2023-08-23",
         147.37,
         7858000
        ],
        [
         "2023-08-24",
         147.23,
         6534000
        ],
        [
         "2023-08-25",
         147.05,
         6695500
        ],
        [
         "2023-08-28",
         147.56,
         5094100
        ],
        [
         "2023-08-29",
         148.76,
         6337000
        ],
        [
         "2023-08-30",
         148.16,
         6277300
        ],
        [
         "2023-08-31",
         146.33,
         10933900
        ],
        [
         "2023-09-01",
         146.82,
         7902100
        ],
        [
         "2023-09-05",
         145.2,
         7854700
        ],
        [
         "2023-09-06",
         144.96,
         8629200
        ],
        [
         "2023-09-07",
         143.72,
         8373700
        ],
        [
         "2023-09-08",
         143.83,
         7107900
        ],
        [
         "2023-09-11",
         144.46,
         6854200
        ],
        [
         "2023-09-12",
         146.34,
         8363200
        ],
        [
         "2023-09-13",
         146.41,
         8325900
        ],
        [
         "2023-09-14",
         149.25,
         10034900
        ],
        [
         "2023-09-15",
         148.81,
         19824100
        ],
        [
         "2023-09-18",
         149.12,
         6512400
        ],
        [
         "2023-09-19",
         148.93,
         7943400
        ],
        [
         "2023-09-20",
         148.3,
         7332000
        ],
        [
         "2023-09-21",
         147.14,
         8052400
        ],
        [
         "2023-09-22",
         145.73,
         7071700
        ],
        [
         "2023-09-25",
         146.45,
         7044700
        ],
        [
         "2023-09-26",
         144.93,
         7468400
        ],
        [
         "2023-09-27",
         145.78,
         6717800
        ],
        [
         "2023-09-28",
         147.59,
         8868100
        ],
        [
         "2023-09-29",
         145.02,
         11915700
        ],
        [
         "2023-10-02",
         143.77,
         9170600
        ],
        [
         "2023-10-03",
         142.71,
         9431100
        ],
        [
         "2023-10-04",
         143.35,
         8128700
        ],
        [
         "2023-10-05",
         142.9,
         8576200
        ],
        [
         "2023-10-06",
         145.1,
         10269400
        ],
        [
         "2023-10-09",
         144.77,
         6964900
        ],
        [
         "2023-10-10",
         145.65,
         11288800
        ],
        [
         "2023-10-11",
         146.15,
         8698200
        ],
        [
         "2023-10-12",
         145.81,
         10484400
        ],
        [
         "2023-10-13",
         148.0,
         29427000
        ],
        [
         "2023-10-16",
         147.85,
         12663500
        ],
        [
         "2023-10-17",
         147.53,
         11482700
        ],
        [
         "2023-10-18",
         145.91,
         9620300
        ],
        [
         "2023-10-19",
         145.29,
         11143600
        ],
        [
         "2023-10-20",
         142.95,
         13332000
        ],
        [
         "2023-10-23",
         141.0,
         10133400
        ],
        [
         "2023-10-24",
         141.17,
         8881400
        ],
        [
         "2023-10-25",
         140.4,
         8242600
        ],
        [
         "2023-10-26",
         140.76,
         9109400
        ],
        [
         "2023-10-27",
         135.69,
         17434700
        ],
        [
         "2023-10-30",
         137.42,
         9855500
        ],
        [
         "2023-10-31",
         139.06,
         9672500
        ],
        [
         "2023-11-01",
         138.94,
         9432000
        ],
        [
         "2023-11-02",
         141.42,
         10186200
        ],
        [
         "2023-11-03",
         143.0,
         9533100
        ],
        [
         "2023-11-06",
         144.08,
         7625100
        ],
        [
         "2023-11-07",
         144.01,
         6297900
        ],
        [
         "2023-11-08",
         144.72,
         7618200
        ],
        [
         "2023-11-09",
         144.29,
         7992500
        ],
        [
         "2023-11-10",
         146.43,
         7983300
        ],
        [
         "2023-11-13",
         145.78,
         6676300
        ],
        [
         "2023-11-14",
         148.44,
         9927700
        ],
        [
         "2023-11-15",
         149.74,
         8365300
        ],
        [
         "2023-11-16",
         151.45,
         8126200
        ],
        [
         "2023-11-17",
         152.82,
         7812400
        ],
        [
         "2023-11-20",
         153.29,
         7019000
        ],
        [
         "2023-11-21",
         152.97,
         7083500
        ],
        [
         "2023-11-22",
         153.33,
         5174500
        ],
        [
         "2023-11-24",
         153.54,
         3496900
        ],
        [
         "2023-11-27",
         153.19,
         6259100
        ],
        [
         "2023-11-28",
         153.54,
         6582700
        ],
        [
         "2023-11-29",
         154.32,
         9126100
        ],
        [
         "2023-11-30",
         156.08,
         9869800
        ],
        [
         "2023-12-01",
         156.84,
         8913000
        ],
        [
         "2023-12-04",
         157.99,
         9607500
        ],
        [
         "2023-12-05",
         157.97,
         9135600
        ],
        [
         "2023-12-06",
         156.31,
         9366000
        ],
        [
         "2023-12-07",
         156.79,
         8130900
        ],
        [
         "2023-12-08",
         158.52,
         7366200
        ],
        [
         "2023-12-11",
         159.1,
         8093900
        ],
        [
         "2023-12-12",
         160.52,
         10223000
        ],
        [
         "2023-12-13",
         161.06,
         12379100
        ],
        [
         "2023-12-14",
         163.99,
         13643000
        ],
        [
         "2023-12-15",
         165.23,
         20305900
        ],
        [
         "2023-12-18",
         166.23,
         8469600
        ],
        [
         "2023-12-19",
         168.45,
         10345700
        ],
        [
         "2023-12-20",
         166.55,
         10734700
        ],
        [
         "2023-12-21",
         167.5,
         7601700
        ],
        [
         "2023-12-22",
         167.4,
         6574900
        ],
        [
         "2023-12-26",
         168.39,
         4683600
        ],
        [
         "2023-12-27",
         169.4,
         6428600
        ],
        [
         "2023-12-28",
         170.3,
         6320100
        ],
        [
         "2023-12-29",
         170.1,
         6431800
        ],
        [
         "2024-01-02",
         172.08,
         9977400
        ],
        [
         "2024-01-03",
         171.33,
         9852300
        ],
        [
         "2024-01-04",
         171.41,
         11972500
        ],
        [
         "2024-01-05",
         172.27,
         10064200
        ],
        [
         "2024-01-08",
         172.02,
         11229900
        ],
        [
         "2024-01-09",
         170.66,
         9923600
        ],
        [
         "2024-01-10",
         171.02,
         9670200
        ],
        [
         "2024-01-11",
         170.3,
         11919500
        ],
        [
         "2024-01-12",
         169.05,
         19429200
        ],
        [
         "2024-01-16",
         167.99,
         17206400
        ],
        [
         "2024-01-17",
         167.09,
         11107500
        ],
        [
         "2024-01-18",
         167.42,
         9382300
        ],
        [
         "2024-01-19",
         170.31,
         13114400
        ],
        [
         "2024-01-22",
         170.11,
         12837500
        ],
        [
         "2024-01-23",
         168.99,
         8360800
        ],
        [
         "2024-01-24",
         170.5,
         9967100
        ],
        [
         "2024-01-25",
         172.94,
         8873500
        ],
        [
         "2024-01-26",
         172.28,
         7443000
        ],
        [
         "2024-01-29",
         172.73,
         6971200
        ],
        [
         "2024-01-30",
         176.27,
         10822100
        ]
       ],
       "datasetInfos": [
        {
         "name": "_sqldf",
         "schema": {
          "fields": [
           {
            "metadata": {},
            "name": "Date",
            "nullable": true,
            "type": "date"
           },
           {
            "metadata": {},
            "name": "Close",
            "nullable": true,
            "type": "float"
           },
           {
            "metadata": {},
            "name": "Volume",
            "nullable": true,
            "type": "integer"
           }
          ],
          "type": "struct"
         },
         "tableIdentifier": null,
         "typeStr": "pyspark.sql.connect.dataframe.DataFrame"
        }
       ],
       "dbfsResultPath": null,
       "isJsonSchema": true,
       "metadata": {
        "createTempViewForImplicitDf": true,
        "dataframeName": "_sqldf",
        "executionCount": 7
       },
       "overflow": false,
       "plotOptions": {
        "customPlotOptions": {},
        "displayType": "table",
        "pivotAggregation": null,
        "pivotColumns": null,
        "xColumns": null,
        "yColumns": null
       },
       "removedWidgets": [],
       "schema": [
        {
         "metadata": "{}",
         "name": "Date",
         "type": "\"date\""
        },
        {
         "metadata": "{}",
         "name": "Close",
         "type": "\"float\""
        },
        {
         "metadata": "{}",
         "name": "Volume",
         "type": "\"integer\""
        }
       ],
       "type": "table"
      }
     },
     "output_type": "display_data"
    }
   ],
   "source": [
    "\n",
    "%sql\n",
    "SELECT * FROM sarbanimaiti_catalog.agent_demo.get_hist_closing_price('JPM', 1)"
   ]
  },
  {
   "cell_type": "markdown",
   "metadata": {
    "application/vnd.databricks.v1+cell": {
     "cellMetadata": {},
     "inputWidgets": {},
     "nuid": "a5a3fde7-c108-4a4d-b60a-c02e2c0e05f4",
     "showTitle": false,
     "tableResultSettingsMap": {},
     "title": ""
    }
   },
   "source": [
    "## Create table to load customer investment preference data\n",
    "\n",
    "Stesp:\n",
    "\n"
   ]
  },
  {
   "cell_type": "code",
   "execution_count": 0,
   "metadata": {
    "application/vnd.databricks.v1+cell": {
     "cellMetadata": {
      "byteLimit": 2048000,
      "rowLimit": 10000
     },
     "inputWidgets": {},
     "nuid": "93602364-277f-4c2e-9ad0-cf6dcb359e8a",
     "showTitle": false,
     "tableResultSettingsMap": {},
     "title": ""
    }
   },
   "outputs": [
    {
     "output_type": "stream",
     "name": "stdout",
     "output_type": "stream",
     "text": [
      "\u001B[43mNote: you may need to restart the kernel using %restart_python or dbutils.library.restartPython() to use updated packages.\u001B[0m\nCollecting Faker\n  Obtaining dependency information for Faker from https://files.pythonhosted.org/packages/64/82/f7d0c0a4ab512fd1572a315eec903d50a578c75d5aa894cf3f5cc04025e5/Faker-30.8.2-py3-none-any.whl.metadata\n  Downloading Faker-30.8.2-py3-none-any.whl.metadata (15 kB)\nRequirement already satisfied: python-dateutil>=2.4 in /databricks/python3/lib/python3.11/site-packages (from Faker) (2.8.2)\nRequirement already satisfied: typing-extensions in /databricks/python3/lib/python3.11/site-packages (from Faker) (4.10.0)\nRequirement already satisfied: six>=1.5 in /usr/lib/python3/dist-packages (from python-dateutil>=2.4->Faker) (1.16.0)\nDownloading Faker-30.8.2-py3-none-any.whl (1.8 MB)\n\u001B[?25l   \u001B[90m━━━━━━━━━━━━━━━━━━━━━━━━━━━━━━━━━━━━━━━━\u001B[0m \u001B[32m0.0/1.8 MB\u001B[0m \u001B[31m?\u001B[0m eta \u001B[36m-:--:--\u001B[0m\n\u001B[2K   \u001B[91m━━━\u001B[0m\u001B[90m╺\u001B[0m\u001B[90m━━━━━━━━━━━━━━━━━━━━━━━━━━━━━━━━━━━━\u001B[0m \u001B[32m0.1/1.8 MB\u001B[0m \u001B[31m4.8 MB/s\u001B[0m eta \u001B[36m0:00:01\u001B[0m\n\u001B[2K   \u001B[91m━━━━━━━━\u001B[0m\u001B[91m╸\u001B[0m\u001B[90m━━━━━━━━━━━━━━━━━━━━━━━━━━━━━━━\u001B[0m \u001B[32m0.4/1.8 MB\u001B[0m \u001B[31m6.2 MB/s\u001B[0m eta \u001B[36m0:00:01\u001B[0m\n\u001B[2K   \u001B[91m━━━━━━━━━━━━━━━\u001B[0m\u001B[90m╺\u001B[0m\u001B[90m━━━━━━━━━━━━━━━━━━━━━━━━\u001B[0m \u001B[32m0.7/1.8 MB\u001B[0m \u001B[31m7.0 MB/s\u001B[0m eta \u001B[36m0:00:01\u001B[0m\n\u001B[2K   \u001B[91m━━━━━━━━━━━━━━━━━━━━━\u001B[0m\u001B[91m╸\u001B[0m\u001B[90m━━━━━━━━━━━━━━━━━━\u001B[0m \u001B[32m1.0/1.8 MB\u001B[0m \u001B[31m7.4 MB/s\u001B[0m eta \u001B[36m0:00:01\u001B[0m\n\u001B[2K   \u001B[91m━━━━━━━━━━━━━━━━━━━━━━━━━━━━━━\u001B[0m\u001B[91m╸\u001B[0m\u001B[90m━━━━━━━━━\u001B[0m \u001B[32m1.4/1.8 MB\u001B[0m \u001B[31m8.3 MB/s\u001B[0m eta \u001B[36m0:00:01\u001B[0m\n\u001B[2K   \u001B[91m━━━━━━━━━━━━━━━━━━━━━━━━━━━━━━━━━━━━━━━\u001B[0m\u001B[91m╸\u001B[0m \u001B[32m1.8/1.8 MB\u001B[0m \u001B[31m9.1 MB/s\u001B[0m eta \u001B[36m0:00:01\u001B[0m\n\u001B[2K   \u001B[90m━━━━━━━━━━━━━━━━━━━━━━━━━━━━━━━━━━━━━━━━\u001B[0m \u001B[32m1.8/1.8 MB\u001B[0m \u001B[31m8.6 MB/s\u001B[0m eta \u001B[36m0:00:00\u001B[0m\n\u001B[?25hInstalling collected packages: Faker\nSuccessfully installed Faker-30.8.2\n\u001B[43mNote: you may need to restart the kernel using %restart_python or dbutils.library.restartPython() to use updated packages.\u001B[0m\n"
     ]
    }
   ],
   "source": [
    "%pip install Faker"
   ]
  },
  {
   "cell_type": "code",
   "execution_count": 0,
   "metadata": {
    "application/vnd.databricks.v1+cell": {
     "cellMetadata": {
      "byteLimit": 2048000,
      "rowLimit": 10000
     },
     "inputWidgets": {},
     "nuid": "8f06dbe6-7335-4137-9e34-8f6bb139e9b9",
     "showTitle": false,
     "tableResultSettingsMap": {},
     "title": ""
    }
   },
   "outputs": [
    {
     "output_type": "stream",
     "name": "stdout",
     "output_type": "stream",
     "text": [
      "Synthetic data generated and saved to 'customer_stock_preferences_synthetic.csv'.\n"
     ]
    }
   ],
   "source": [
    "import pandas as pd\n",
    "import random\n",
    "import json\n",
    "from faker import Faker\n",
    "\n",
    "# Initialize Faker for generating synthetic data\n",
    "fake = Faker()\n",
    "\n",
    "# Define ranges and options for generating data\n",
    "income_ranges = [\"low\", \"medium\", \"high\"]\n",
    "risk_tolerances = [\"low\", \"medium\", \"high\"]\n",
    "investment_horizons = [\"short-term\", \"medium-term\", \"long-term\"]\n",
    "investment_goals = [\"retirement\", \"wealth accumulation\", \"education\", \"savings\"]\n",
    "industries = [\"tech\", \"healthcare\", \"energy\", \"finance\", \"consumer goods\"]\n",
    "stock_types = [\"growth\", \"dividend\", \"blue-chip\", \"value\", \"penny\"]\n",
    "trading_frequencies = [\"daily\", \"weekly\", \"monthly\"]\n",
    "holding_periods = [\"days\", \"weeks\", \"months\", \"years\"]\n",
    "special_requirements_options = [\"ESG-focused investments\", \"no tobacco stocks\", \"\", \"\", \"\"]\n",
    "\n",
    "# Generate synthetic data\n",
    "data = []\n",
    "num_records = 100  # Number of records to generate\n",
    "\n",
    "for _ in range(num_records):\n",
    "    customer_id = fake.random_int(min=1000, max=9999)\n",
    "    age = fake.random_int(min=18, max=75)\n",
    "    gender = fake.random_element(elements=(\"Male\", \"Female\"))\n",
    "    income_range = fake.random_element(elements=income_ranges)\n",
    "    risk_tolerance = fake.random_element(elements=risk_tolerances)\n",
    "    investment_horizon = fake.random_element(elements=investment_horizons)\n",
    "    investment_goal = fake.random_element(elements=investment_goals)\n",
    "    preferred_industries = random.sample(industries, k=random.randint(1, 3))\n",
    "    preferred_stock_type = fake.random_element(elements=stock_types)\n",
    "    average_investment_amount = round(random.uniform(1000, 100000), 2)\n",
    "    trading_frequency = fake.random_element(elements=trading_frequencies)\n",
    "    holding_period = fake.random_element(elements=holding_periods)\n",
    "    historical_performance = json.dumps({\n",
    "        \"avg_return\": round(random.uniform(-10, 20), 2),\n",
    "        \"volatility\": round(random.uniform(0.5, 3.0), 2)\n",
    "    })\n",
    "    special_requirements = fake.random_element(elements=special_requirements_options)\n",
    "    \n",
    "    # Add record to data list\n",
    "    data.append([\n",
    "        customer_id, age, gender, income_range, risk_tolerance, investment_horizon, \n",
    "        investment_goal, preferred_industries, preferred_stock_type, \n",
    "        average_investment_amount, trading_frequency, holding_period, \n",
    "        historical_performance, special_requirements\n",
    "    ])\n",
    "\n",
    "# Create DataFrame\n",
    "columns = [\n",
    "    \"customer_id\", \"age\", \"gender\", \"income_range\", \"risk_tolerance\", \"investment_horizon\",\n",
    "    \"investment_goals\", \"preferred_industries\", \"preferred_stock_types\", \n",
    "    \"average_investment_amount\", \"trading_frequency\", \"holding_period\", \n",
    "    \"historical_performance\", \"special_requirements\"\n",
    "]\n",
    "df_synthetic = pd.DataFrame(data, columns=columns)\n",
    "\n",
    "# Save to CSV if needed\n",
    "#df_synthetic.to_csv(\"customer_stock_preferences_synthetic.csv\", index=False)\n",
    "\n",
    "print(\"Synthetic data generated and saved to 'customer_stock_preferences_synthetic.csv'.\")\n"
   ]
  },
  {
   "cell_type": "markdown",
   "metadata": {
    "application/vnd.databricks.v1+cell": {
     "cellMetadata": {},
     "inputWidgets": {},
     "nuid": "f10158e8-6149-4f62-8206-4f9b1e7516aa",
     "showTitle": false,
     "tableResultSettingsMap": {},
     "title": ""
    }
   },
   "source": [
    "#### Upload Customer Stock Preferences data to spark delta table "
   ]
  },
  {
   "cell_type": "code",
   "execution_count": 0,
   "metadata": {
    "application/vnd.databricks.v1+cell": {
     "cellMetadata": {},
     "inputWidgets": {},
     "nuid": "6d75004e-f14f-4c9b-9369-a002073d7f7c",
     "showTitle": false,
     "tableResultSettingsMap": {},
     "title": ""
    }
   },
   "outputs": [],
   "source": [
    "df_spark = spark.createDataFrame(df_synthetic)\n",
    "df_spark.write.format(\"delta\").mode(\"overwrite\").saveAsTable(\"sarbanimaiti_catalog.agent_demo.customer_investment_preferences\")"
   ]
  },
  {
   "cell_type": "markdown",
   "metadata": {
    "application/vnd.databricks.v1+cell": {
     "cellMetadata": {},
     "inputWidgets": {},
     "nuid": "d753ae76-2ee1-4740-a752-4df4708543c7",
     "showTitle": false,
     "tableResultSettingsMap": {},
     "title": ""
    }
   },
   "source": [
    "## Create Agent Tool : Extract Customer investment preference"
   ]
  },
  {
   "cell_type": "code",
   "execution_count": 0,
   "metadata": {
    "application/vnd.databricks.v1+cell": {
     "cellMetadata": {
      "byteLimit": 2048000,
      "implicitDf": true,
      "rowLimit": 10000
     },
     "inputWidgets": {},
     "nuid": "b077fe91-b709-4ada-a52d-16257ae54331",
     "showTitle": false,
     "tableResultSettingsMap": {},
     "title": ""
    }
   },
   "outputs": [
    {
     "output_type": "display_data",
     "data": {
      "text/html": [
       "<style scoped>\n",
       "  .table-result-container {\n",
       "    max-height: 300px;\n",
       "    overflow: auto;\n",
       "  }\n",
       "  table, th, td {\n",
       "    border: 1px solid black;\n",
       "    border-collapse: collapse;\n",
       "  }\n",
       "  th, td {\n",
       "    padding: 5px;\n",
       "  }\n",
       "  th {\n",
       "    text-align: left;\n",
       "  }\n",
       "</style><div class='table-result-container'><table class='table-result'><thead style='background-color: white'><tr></tr></thead><tbody></tbody></table></div>"
      ]
     },
     "metadata": {
      "application/vnd.databricks.v1+output": {
       "addedWidgets": {},
       "aggData": [],
       "aggError": "",
       "aggOverflow": false,
       "aggSchema": [],
       "aggSeriesLimitReached": false,
       "aggType": "",
       "arguments": {},
       "columnCustomDisplayInfos": {},
       "data": [],
       "datasetInfos": [],
       "dbfsResultPath": null,
       "isJsonSchema": true,
       "metadata": {
        "dataframeName": null
       },
       "overflow": false,
       "plotOptions": {
        "customPlotOptions": {},
        "displayType": "table",
        "pivotAggregation": null,
        "pivotColumns": null,
        "xColumns": null,
        "yColumns": null
       },
       "removedWidgets": [],
       "schema": [],
       "type": "table"
      }
     },
     "output_type": "display_data"
    }
   ],
   "source": [
    "%sql\n",
    "-- Again check that it exists\n",
    "DROP FUNCTION IF EXISTS sarbanimaiti_catalog.agent_demo.customer_investment_preferences;\n"
   ]
  },
  {
   "cell_type": "code",
   "execution_count": 0,
   "metadata": {
    "application/vnd.databricks.v1+cell": {
     "cellMetadata": {
      "byteLimit": 2048000,
      "implicitDf": true,
      "rowLimit": 10000
     },
     "inputWidgets": {},
     "nuid": "f4e52eb3-26ca-4e85-8678-5a7094666e48",
     "showTitle": false,
     "tableResultSettingsMap": {},
     "title": ""
    }
   },
   "outputs": [
    {
     "output_type": "display_data",
     "data": {
      "text/html": [
       "<style scoped>\n",
       "  .table-result-container {\n",
       "    max-height: 300px;\n",
       "    overflow: auto;\n",
       "  }\n",
       "  table, th, td {\n",
       "    border: 1px solid black;\n",
       "    border-collapse: collapse;\n",
       "  }\n",
       "  th, td {\n",
       "    padding: 5px;\n",
       "  }\n",
       "  th {\n",
       "    text-align: left;\n",
       "  }\n",
       "</style><div class='table-result-container'><table class='table-result'><thead style='background-color: white'><tr></tr></thead><tbody></tbody></table></div>"
      ]
     },
     "metadata": {
      "application/vnd.databricks.v1+output": {
       "addedWidgets": {},
       "aggData": [],
       "aggError": "",
       "aggOverflow": false,
       "aggSchema": [],
       "aggSeriesLimitReached": false,
       "aggType": "",
       "arguments": {},
       "columnCustomDisplayInfos": {},
       "data": [],
       "datasetInfos": [],
       "dbfsResultPath": null,
       "isJsonSchema": true,
       "metadata": {
        "dataframeName": null
       },
       "overflow": false,
       "plotOptions": {
        "customPlotOptions": {},
        "displayType": "table",
        "pivotAggregation": null,
        "pivotColumns": null,
        "xColumns": null,
        "yColumns": null
       },
       "removedWidgets": [],
       "schema": [],
       "type": "table"
      }
     },
     "output_type": "display_data"
    }
   ],
   "source": [
    "%sql\n",
    "\n",
    "-- This function takes stock ticker and duration in terms of year as input, refer the corresponding stock historical price table and fetch the historical closing price & volume of the stock for that duration. \n",
    "-- Duration in year  eg : '3'\n",
    "CREATE OR REPLACE FUNCTION sarbanimaiti_catalog.agent_demo.cust_investment_pref (\n",
    "  customerID BIGINT COMMENT 'Customer ID'\n",
    "  \n",
    ")\n",
    "returns table(\n",
    "  customer_id BIGINT, \n",
    "  age BIGINT,\n",
    "  gender STRING, \n",
    "  income_range STRING, \n",
    "  risk_tolerance STRING, \n",
    "  investment_horizon STRING, \n",
    "  investment_goals STRING, \n",
    "  preferred_industries STRING, \n",
    "  preferred_stock_types STRING, \n",
    "  average_investment_amount DOUBLE, \n",
    "  trading_frequency BIGINT, \n",
    "  holding_period BIGINT, \n",
    "  historical_performance DOUBLE, \n",
    "  special_requirements STRING)\n",
    "return\n",
    "(\n",
    "WITH CustomerPreference  AS (\n",
    "  SELECT\n",
    "    customer_id, \n",
    "    age,\n",
    "    gender, \n",
    "    income_range, \n",
    "    risk_tolerance, \n",
    "    investment_horizon, \n",
    "    investment_goals, \n",
    "    preferred_industries, \n",
    "    preferred_stock_types, \n",
    "    average_investment_amount, \n",
    "    trading_frequency, \n",
    "    holding_period, \n",
    "    historical_performance, \n",
    "    special_requirements\n",
    "  FROM\n",
    "    sarbanimaiti_catalog.agent_demo.customer_investment_preferences\n",
    "  WHERE\n",
    "    customer_id = customerID )\n",
    "  select * from CustomerPreference \n",
    ")\n"
   ]
  },
  {
   "cell_type": "code",
   "execution_count": 0,
   "metadata": {
    "application/vnd.databricks.v1+cell": {
     "cellMetadata": {
      "byteLimit": 2048000,
      "implicitDf": true,
      "rowLimit": 10000
     },
     "inputWidgets": {},
     "nuid": "5a5a15f1-1f19-4050-84e9-d573c12ea589",
     "showTitle": false,
     "tableResultSettingsMap": {},
     "title": ""
    }
   },
   "outputs": [
    {
     "output_type": "display_data",
     "data": {
      "text/html": [
       "<style scoped>\n",
       "  .table-result-container {\n",
       "    max-height: 300px;\n",
       "    overflow: auto;\n",
       "  }\n",
       "  table, th, td {\n",
       "    border: 1px solid black;\n",
       "    border-collapse: collapse;\n",
       "  }\n",
       "  th, td {\n",
       "    padding: 5px;\n",
       "  }\n",
       "  th {\n",
       "    text-align: left;\n",
       "  }\n",
       "</style><div class='table-result-container'><table class='table-result'><thead style='background-color: white'><tr><th>customer_id</th><th>age</th><th>gender</th><th>income_range</th><th>risk_tolerance</th><th>investment_horizon</th><th>investment_goals</th><th>preferred_industries</th><th>preferred_stock_types</th><th>average_investment_amount</th><th>trading_frequency</th><th>holding_period</th><th>historical_performance</th><th>special_requirements</th></tr></thead><tbody><tr><td>3584</td><td>30</td><td>Male</td><td>low</td><td>medium</td><td>long-term</td><td>wealth accumulation</td><td>['energy', 'consumer goods']</td><td>blue-chip</td><td>83886.24</td><td>null</td><td>null</td><td>null</td><td>null</td></tr></tbody></table></div>"
      ]
     },
     "metadata": {
      "application/vnd.databricks.v1+output": {
       "addedWidgets": {},
       "aggData": [],
       "aggError": "",
       "aggOverflow": false,
       "aggSchema": [],
       "aggSeriesLimitReached": false,
       "aggType": "",
       "arguments": {},
       "columnCustomDisplayInfos": {},
       "data": [
        [
         3584,
         30,
         "Male",
         "low",
         "medium",
         "long-term",
         "wealth accumulation",
         "['energy', 'consumer goods']",
         "blue-chip",
         83886.24,
         null,
         null,
         null,
         null
        ]
       ],
       "datasetInfos": [],
       "dbfsResultPath": null,
       "isJsonSchema": true,
       "metadata": {
        "dataframeName": "_sqldf",
        "executionCount": 3
       },
       "overflow": false,
       "plotOptions": {
        "customPlotOptions": {},
        "displayType": "table",
        "pivotAggregation": null,
        "pivotColumns": null,
        "xColumns": null,
        "yColumns": null
       },
       "removedWidgets": [],
       "schema": [
        {
         "metadata": "{}",
         "name": "customer_id",
         "type": "\"long\""
        },
        {
         "metadata": "{}",
         "name": "age",
         "type": "\"long\""
        },
        {
         "metadata": "{}",
         "name": "gender",
         "type": "\"string\""
        },
        {
         "metadata": "{}",
         "name": "income_range",
         "type": "\"string\""
        },
        {
         "metadata": "{}",
         "name": "risk_tolerance",
         "type": "\"string\""
        },
        {
         "metadata": "{}",
         "name": "investment_horizon",
         "type": "\"string\""
        },
        {
         "metadata": "{}",
         "name": "investment_goals",
         "type": "\"string\""
        },
        {
         "metadata": "{}",
         "name": "preferred_industries",
         "type": "\"string\""
        },
        {
         "metadata": "{}",
         "name": "preferred_stock_types",
         "type": "\"string\""
        },
        {
         "metadata": "{}",
         "name": "average_investment_amount",
         "type": "\"double\""
        },
        {
         "metadata": "{}",
         "name": "trading_frequency",
         "type": "\"long\""
        },
        {
         "metadata": "{}",
         "name": "holding_period",
         "type": "\"long\""
        },
        {
         "metadata": "{}",
         "name": "historical_performance",
         "type": "\"double\""
        },
        {
         "metadata": "{}",
         "name": "special_requirements",
         "type": "\"string\""
        }
       ],
       "type": "table"
      }
     },
     "output_type": "display_data"
    }
   ],
   "source": [
    "%sql\n",
    "--test function\n",
    "select * from sarbanimaiti_catalog.agent_demo.cust_investment_pref(3584)\n"
   ]
  },
  {
   "cell_type": "code",
   "execution_count": 0,
   "metadata": {
    "application/vnd.databricks.v1+cell": {
     "cellMetadata": {},
     "inputWidgets": {},
     "nuid": "62fab4a3-9ea5-42f5-950c-12dd1598dd02",
     "showTitle": false,
     "tableResultSettingsMap": {},
     "title": ""
    }
   },
   "outputs": [],
   "source": [
    "\n"
   ]
  }
 ],
 "metadata": {
  "application/vnd.databricks.v1+notebook": {
   "computePreferences": null,
   "dashboards": [],
   "environmentMetadata": {
    "base_environment": "",
    "environment_version": "1"
   },
   "inputWidgetPreferences": null,
   "language": "python",
   "notebookMetadata": {
    "mostRecentlyExecutedCommandWithImplicitDF": {
     "commandId": 990384398143806,
     "dataframes": [
      "_sqldf"
     ]
    },
    "pythonIndentUnit": 2
   },
   "notebookName": "1-Create-function-and-Sample-Data",
   "widgets": {}
  },
  "language_info": {
   "name": "python"
  }
 },
 "nbformat": 4,
 "nbformat_minor": 0
}
