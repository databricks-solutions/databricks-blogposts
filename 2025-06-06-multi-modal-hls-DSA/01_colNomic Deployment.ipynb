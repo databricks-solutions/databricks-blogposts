{
 "cells": [
  {
   "cell_type": "markdown",
   "metadata": {
    "application/vnd.databricks.v1+cell": {
     "cellMetadata": {},
     "inputWidgets": {},
     "nuid": "091e47d6-b785-436c-b72b-9622bb6caf13",
     "showTitle": false,
     "tableResultSettingsMap": {},
     "title": ""
    }
   },
   "source": [
    "#Requirements\n",
    "\n",
    "Required Compute Type: Classic Compute\n",
    "\n",
    "Required Runtime: 16.4 ML\n",
    "\n",
    "Compute Type: A10 or T4 GPU"
   ]
  },
  {
   "cell_type": "markdown",
   "metadata": {
    "application/vnd.databricks.v1+cell": {
     "cellMetadata": {},
     "inputWidgets": {},
     "nuid": "6e4a81ce-665a-4a6a-807a-499c911ade98",
     "showTitle": false,
     "tableResultSettingsMap": {},
     "title": ""
    }
   },
   "source": [
    "#Introduction\n",
    "\n",
    "This notebook is apart of the DSA Databricks Blog Post here: <insert link>\n",
    "\n",
    "We will be deploying a multi-modal embedding model called ColNomic. It is important to use a multi-modal embedding model so that we can embed different types of modalities. Please review the blog post as to how embedding spaces work to understand the importance of selecting a multi-modal embedding model. \n",
    "\n",
    "That said, after this notebook, you will be able to:\n",
    "1. Load and Register a Huggingface Multi-Modal Embedding Model to Unity Catalog\n",
    "2. Serve the model to Databricks Model Serving to process PDFs"
   ]
  },
  {
   "cell_type": "markdown",
   "metadata": {
    "application/vnd.databricks.v1+cell": {
     "cellMetadata": {},
     "inputWidgets": {},
     "nuid": "f972e359-9e5f-49f3-b3ce-11c21797153a",
     "showTitle": false,
     "tableResultSettingsMap": {},
     "title": ""
    }
   },
   "source": [
    "#Install your Dependencies"
   ]
  },
  {
   "cell_type": "code",
   "execution_count": 0,
   "metadata": {
    "application/vnd.databricks.v1+cell": {
     "cellMetadata": {
      "byteLimit": 2048000,
      "rowLimit": 10000
     },
     "inputWidgets": {},
     "nuid": "758f9350-46f5-4063-953b-1bfb830beb14",
     "showTitle": false,
     "tableResultSettingsMap": {},
     "title": ""
    }
   },
   "outputs": [
    {
     "output_type": "stream",
     "name": "stdout",
     "output_type": "stream",
     "text": [
      "Collecting git+https://github.com/illuin-tech/colpali\n  Cloning https://github.com/illuin-tech/colpali to /tmp/pip-req-build-lw444trk\n  Running command git clone --filter=blob:none --quiet https://github.com/illuin-tech/colpali /tmp/pip-req-build-lw444trk\n  Resolved https://github.com/illuin-tech/colpali to commit fbf9dcc70ef591dcadd1aa73ab019e97a60f272a\n  Installing build dependencies: started\n  Installing build dependencies: finished with status 'done'\n  Getting requirements to build wheel: started\n  Getting requirements to build wheel: finished with status 'done'\n  Preparing metadata (pyproject.toml): started\n  Preparing metadata (pyproject.toml): finished with status 'done'\nCollecting qwen-vl-utils\n  Downloading qwen_vl_utils-0.0.11-py3-none-any.whl.metadata (6.3 kB)\nRequirement already satisfied: accelerate in /databricks/python3/lib/python3.12/site-packages (1.5.2)\nCollecting accelerate\n  Downloading accelerate-1.7.0-py3-none-any.whl.metadata (19 kB)\nRequirement already satisfied: matplotlib in /databricks/python3/lib/python3.12/site-packages (3.8.4)\nCollecting matplotlib\n  Downloading matplotlib-3.10.3-cp312-cp312-manylinux_2_17_x86_64.manylinux2014_x86_64.whl.metadata (11 kB)\nRequirement already satisfied: numpy in /databricks/python3/lib/python3.12/site-packages (1.26.4)\nCollecting numpy\n  Downloading numpy-2.2.6-cp312-cp312-manylinux_2_17_x86_64.manylinux2014_x86_64.whl.metadata (62 kB)\n\u001B[?25l     \u001B[90m━━━━━━━━━━━━━━━━━━━━━━━━━━━━━━━━━━━━━━━━\u001B[0m \u001B[32m0.0/62.0 kB\u001B[0m \u001B[31m?\u001B[0m eta \u001B[36m-:--:--\u001B[0m\n\u001B[2K     \u001B[90m━━━━━━━━━━━━━━━━━━━━━━━━━━━━━━━━━━━━━━━━\u001B[0m \u001B[32m62.0/62.0 kB\u001B[0m \u001B[31m3.0 MB/s\u001B[0m eta \u001B[36m0:00:00\u001B[0m\n\u001B[?25hRequirement already satisfied: pillow in /databricks/python3/lib/python3.12/site-packages (10.3.0)\nCollecting pillow\n  Downloading pillow-11.2.1-cp312-cp312-manylinux_2_28_x86_64.whl.metadata (8.9 kB)\nRequirement already satisfied: scikit-learn in /databricks/python3/lib/python3.12/site-packages (1.4.2)\nCollecting scikit-learn\n  Downloading scikit_learn-1.6.1-cp312-cp312-manylinux_2_17_x86_64.manylinux2014_x86_64.whl.metadata (18 kB)\nRequirement already satisfied: torch==2.6.0 in /databricks/python3/lib/python3.12/site-packages (2.6.0+cu124)\nCollecting pdf2image\n  Downloading pdf2image-1.17.0-py3-none-any.whl.metadata (6.2 kB)\nRequirement already satisfied: requests in /databricks/python3/lib/python3.12/site-packages (2.32.2)\nCollecting requests\n  Using cached requests-2.32.3-py3-none-any.whl.metadata (4.6 kB)\nRequirement already satisfied: databricks-sdk in /databricks/python3/lib/python3.12/site-packages (0.30.0)\nCollecting databricks-sdk\n  Downloading databricks_sdk-0.55.0-py3-none-any.whl.metadata (39 kB)\nCollecting mlflow\n  Downloading mlflow-2.22.0-py3-none-any.whl.metadata (30 kB)\nCollecting databricks-vectorsearch\n  Downloading databricks_vectorsearch-0.56-py3-none-any.whl.metadata (2.8 kB)\nCollecting dspy\n  Downloading dspy-2.6.27-py3-none-any.whl.metadata (7.0 kB)\nRequirement already satisfied: filelock in /databricks/python3/lib/python3.12/site-packages (from torch==2.6.0) (3.13.1)\nRequirement already satisfied: typing-extensions>=4.10.0 in /databricks/python3/lib/python3.12/site-packages (from torch==2.6.0) (4.11.0)\nRequirement already satisfied: networkx in /databricks/python3/lib/python3.12/site-packages (from torch==2.6.0) (3.2.1)\nRequirement already satisfied: jinja2 in /databricks/python3/lib/python3.12/site-packages (from torch==2.6.0) (3.1.4)\nRequirement already satisfied: fsspec in /databricks/python3/lib/python3.12/site-packages (from torch==2.6.0) (2023.5.0)\nRequirement already satisfied: nvidia-cuda-nvrtc-cu12==12.4.127 in /databricks/python3/lib/python3.12/site-packages (from torch==2.6.0) (12.4.127)\nRequirement already satisfied: nvidia-cuda-runtime-cu12==12.4.127 in /databricks/python3/lib/python3.12/site-packages (from torch==2.6.0) (12.4.127)\nRequirement already satisfied: nvidia-cuda-cupti-cu12==12.4.127 in /databricks/python3/lib/python3.12/site-packages (from torch==2.6.0) (12.4.127)\nRequirement already satisfied: nvidia-cudnn-cu12==9.1.0.70 in /databricks/python3/lib/python3.12/site-packages (from torch==2.6.0) (9.1.0.70)\nRequirement already satisfied: nvidia-cublas-cu12==12.4.5.8 in /databricks/python3/lib/python3.12/site-packages (from torch==2.6.0) (12.4.5.8)\nRequirement already satisfied: nvidia-cufft-cu12==11.2.1.3 in /databricks/python3/lib/python3.12/site-packages (from torch==2.6.0) (11.2.1.3)\nRequirement already satisfied: nvidia-curand-cu12==10.3.5.147 in /databricks/python3/lib/python3.12/site-packages (from torch==2.6.0) (10.3.5.147)\nRequirement already satisfied: nvidia-cusolver-cu12==11.6.1.9 in /databricks/python3/lib/python3.12/site-packages (from torch==2.6.0) (11.6.1.9)\nRequirement already satisfied: nvidia-cusparse-cu12==12.3.1.170 in /databricks/python3/lib/python3.12/site-packages (from torch==2.6.0) (12.3.1.170)\nRequirement already satisfied: nvidia-cusparselt-cu12==0.6.2 in /databricks/python3/lib/python3.12/site-packages (from torch==2.6.0) (0.6.2)\nRequirement already satisfied: nvidia-nccl-cu12==2.21.5 in /databricks/python3/lib/python3.12/site-packages (from torch==2.6.0) (2.21.5)\nRequirement already satisfied: nvidia-nvtx-cu12==12.4.127 in /databricks/python3/lib/python3.12/site-packages (from torch==2.6.0) (12.4.127)\nRequirement already satisfied: nvidia-nvjitlink-cu12==12.4.127 in /databricks/python3/lib/python3.12/site-packages (from torch==2.6.0) (12.4.127)\nRequirement already satisfied: triton==3.2.0 in /databricks/python3/lib/python3.12/site-packages (from torch==2.6.0) (3.2.0)\nRequirement already satisfied: setuptools in /usr/local/lib/python3.12/dist-packages (from torch==2.6.0) (74.0.0)\nRequirement already satisfied: sympy==1.13.1 in /databricks/python3/lib/python3.12/site-packages (from torch==2.6.0) (1.13.1)\nRequirement already satisfied: mpmath<1.4,>=1.1.0 in /databricks/python3/lib/python3.12/site-packages (from sympy==1.13.1->torch==2.6.0) (1.3.0)\nCollecting peft<0.16.0,>=0.14.0 (from colpali_engine==0.3.11.dev8+gfbf9dcc)\n  Downloading peft-0.15.2-py3-none-any.whl.metadata (13 kB)\nRequirement already satisfied: scipy in /databricks/python3/lib/python3.12/site-packages (from colpali_engine==0.3.11.dev8+gfbf9dcc) (1.13.1)\nCollecting transformers<4.52.0,>=4.51.1 (from colpali_engine==0.3.11.dev8+gfbf9dcc)\n  Downloading transformers-4.51.3-py3-none-any.whl.metadata (38 kB)\nCollecting av (from qwen-vl-utils)\n  Downloading av-14.4.0-cp312-cp312-manylinux_2_17_x86_64.manylinux2014_x86_64.whl.metadata (4.6 kB)\nRequirement already satisfied: packaging in /databricks/python3/lib/python3.12/site-packages (from qwen-vl-utils) (24.1)\nRequirement already satisfied: psutil in /databricks/python3/lib/python3.12/site-packages (from accelerate) (5.9.0)\nRequirement already satisfied: pyyaml in /databricks/python3/lib/python3.12/site-packages (from accelerate) (6.0.1)\nRequirement already satisfied: huggingface-hub>=0.21.0 in /databricks/python3/lib/python3.12/site-packages (from accelerate) (0.29.3)\nRequirement already satisfied: safetensors>=0.4.3 in /databricks/python3/lib/python3.12/site-packages (from accelerate) (0.4.4)\nRequirement already satisfied: contourpy>=1.0.1 in /databricks/python3/lib/python3.12/site-packages (from matplotlib) (1.2.0)\nRequirement already satisfied: cycler>=0.10 in /databricks/python3/lib/python3.12/site-packages (from matplotlib) (0.11.0)\nRequirement already satisfied: fonttools>=4.22.0 in /databricks/python3/lib/python3.12/site-packages (from matplotlib) (4.51.0)\nRequirement already satisfied: kiwisolver>=1.3.1 in /databricks/python3/lib/python3.12/site-packages (from matplotlib) (1.4.4)\nRequirement already satisfied: pyparsing>=2.3.1 in /databricks/python3/lib/python3.12/site-packages (from matplotlib) (3.0.9)\nRequirement already satisfied: python-dateutil>=2.7 in /databricks/python3/lib/python3.12/site-packages (from matplotlib) (2.9.0.post0)\nRequirement already satisfied: joblib>=1.2.0 in /databricks/python3/lib/python3.12/site-packages (from scikit-learn) (1.4.2)\nCollecting threadpoolctl>=3.1.0 (from scikit-learn)\n  Downloading threadpoolctl-3.6.0-py3-none-any.whl.metadata (13 kB)\nRequirement already satisfied: charset-normalizer<4,>=2 in /databricks/python3/lib/python3.12/site-packages (from requests) (2.0.4)\nRequirement already satisfied: idna<4,>=2.5 in /databricks/python3/lib/python3.12/site-packages (from requests) (3.7)\nRequirement already satisfied: urllib3<3,>=1.21.1 in /databricks/python3/lib/python3.12/site-packages (from requests) (1.26.16)\nRequirement already satisfied: certifi>=2017.4.17 in /databricks/python3/lib/python3.12/site-packages (from requests) (2024.6.2)\nRequirement already satisfied: google-auth~=2.0 in /databricks/python3/lib/python3.12/site-packages (from databricks-sdk) (2.21.0)\nCollecting mlflow-skinny==2.22.0 (from mlflow)\n  Downloading mlflow_skinny-2.22.0-py3-none-any.whl.metadata (31 kB)\nRequirement already satisfied: Flask<4 in /databricks/python3/lib/python3.12/site-packages (from mlflow) (2.2.5)\nCollecting alembic!=1.10.0,<2 (from mlflow)\n  Downloading alembic-1.16.1-py3-none-any.whl.metadata (7.3 kB)\nCollecting docker<8,>=4.0.0 (from mlflow)\n  Downloading docker-7.1.0-py3-none-any.whl.metadata (3.8 kB)\nCollecting graphene<4 (from mlflow)\n  Downloading graphene-3.4.3-py2.py3-none-any.whl.metadata (6.9 kB)\nRequirement already satisfied: gunicorn<24 in /databricks/python3/lib/python3.12/site-packages (from mlflow) (20.1.0)\nRequirement already satisfied: markdown<4,>=3.3 in /databricks/python3/lib/python3.12/site-packages (from mlflow) (3.4.1)\nRequirement already satisfied: pandas<3 in /databricks/python3/lib/python3.12/site-packages (from mlflow) (1.5.3)\nRequirement already satisfied: pyarrow<20,>=4.0.0 in /databricks/python3/lib/python3.12/site-packages (from mlflow) (15.0.2)\nRequirement already satisfied: sqlalchemy<3,>=1.4.0 in /databricks/python3/lib/python3.12/site-packages (from mlflow) (2.0.30)\nRequirement already satisfied: cachetools<6,>=5.0.0 in /databricks/python3/lib/python3.12/site-packages (from mlflow-skinny==2.22.0->mlflow) (5.3.3)\nRequirement already satisfied: click<9,>=7.0 in /databricks/python3/lib/python3.12/site-packages (from mlflow-skinny==2.22.0->mlflow) (8.1.7)\nRequirement already satisfied: cloudpickle<4 in /databricks/python3/lib/python3.12/site-packages (from mlflow-skinny==2.22.0->mlflow) (2.2.1)\nRequirement already satisfied: fastapi<1 in /databricks/python3/lib/python3.12/site-packages (from mlflow-skinny==2.22.0->mlflow) (0.115.12)\nRequirement already satisfied: gitpython<4,>=3.1.9 in /databricks/python3/lib/python3.12/site-packages (from mlflow-skinny==2.22.0->mlflow) (3.1.37)\nRequirement already satisfied: importlib_metadata!=4.7.0,<9,>=3.7.0 in /databricks/python3/lib/python3.12/site-packages (from mlflow-skinny==2.22.0->mlflow) (6.0.0)\nRequirement already satisfied: opentelemetry-api<3,>=1.9.0 in /databricks/python3/lib/python3.12/site-packages (from mlflow-skinny==2.22.0->mlflow) (1.32.0)\nRequirement already satisfied: opentelemetry-sdk<3,>=1.9.0 in /databricks/python3/lib/python3.12/site-packages (from mlflow-skinny==2.22.0->mlflow) (1.32.0)\nRequirement already satisfied: protobuf<7,>=3.12.0 in /databricks/python3/lib/python3.12/site-packages (from mlflow-skinny==2.22.0->mlflow) (4.24.1)\nRequirement already satisfied: pydantic<3,>=1.10.8 in /databricks/python3/lib/python3.12/site-packages (from mlflow-skinny==2.22.0->mlflow) (2.8.2)\nRequirement already satisfied: sqlparse<1,>=0.4.0 in /databricks/python3/lib/python3.12/site-packages (from mlflow-skinny==2.22.0->mlflow) (0.4.2)\nRequirement already satisfied: uvicorn<1 in /databricks/python3/lib/python3.12/site-packages (from mlflow-skinny==2.22.0->mlflow) (0.34.1)\nCollecting deprecation>=2 (from databricks-vectorsearch)\n  Downloading deprecation-2.1.0-py2.py3-none-any.whl.metadata (4.6 kB)\nRequirement already satisfied: backoff>=2.2 in /databricks/python3/lib/python3.12/site-packages (from dspy) (2.2.1)\nRequirement already satisfied: openai>=0.28.1 in /databricks/python3/lib/python3.12/site-packages (from dspy) (1.69.0)\nCollecting pandas<3 (from mlflow)\n  Downloading pandas-2.2.3-cp312-cp312-manylinux_2_17_x86_64.manylinux2014_x86_64.whl.metadata (89 kB)\n\u001B[?25l     \u001B[90m━━━━━━━━━━━━━━━━━━━━━━━━━━━━━━━━━━━━━━━━\u001B[0m \u001B[32m0.0/89.9 kB\u001B[0m \u001B[31m?\u001B[0m eta \u001B[36m-:--:--\u001B[0m\n\u001B[2K     \u001B[90m━━━━━━━━━━━━━━━━━━━━━━━━━━━━━━━━━━━━━━━━\u001B[0m \u001B[32m89.9/89.9 kB\u001B[0m \u001B[31m9.0 MB/s\u001B[0m eta \u001B[36m0:00:00\u001B[0m\n\u001B[?25hRequirement already satisfied: regex>=2023.10.3 in /databricks/python3/lib/python3.12/site-packages (from dspy) (2023.10.3)\nRequirement already satisfied: ujson>=5.8.0 in /databricks/python3/lib/python3.12/site-packages (from dspy) (5.10.0)\nRequirement already satisfied: tqdm>=4.66.1 in /databricks/python3/lib/python3.12/site-packages (from dspy) (4.66.4)\nRequirement already satisfied: datasets>=2.14.6 in /databricks/python3/lib/python3.12/site-packages (from dspy) (3.5.0)\nRequirement already satisfied: optuna>=3.4.0 in /databricks/python3/lib/python3.12/site-packages (from dspy) (3.6.1)\nCollecting magicattr>=0.1.6 (from dspy)\n  Downloading magicattr-0.1.6-py2.py3-none-any.whl.metadata (3.2 kB)\nCollecting litellm>=1.60.3 (from dspy)\n  Downloading litellm-1.72.0-py3-none-any.whl.metadata (39 kB)\nCollecting diskcache>=5.6.0 (from dspy)\n  Downloading diskcache-5.6.3-py3-none-any.whl.metadata (20 kB)\nCollecting json-repair>=0.30.0 (from dspy)\n  Downloading json_repair-0.46.0-py3-none-any.whl.metadata (12 kB)\nCollecting tenacity>=8.2.3 (from dspy)\n  Downloading tenacity-9.1.2-py3-none-any.whl.metadata (1.2 kB)\nRequirement already satisfied: anyio in /databricks/python3/lib/python3.12/site-packages (from dspy) (4.2.0)\nCollecting asyncer==0.0.8 (from dspy)\n  Downloading asyncer-0.0.8-py3-none-any.whl.metadata (6.7 kB)\nCollecting cachetools<6,>=5.0.0 (from mlflow-skinny==2.22.0->mlflow)\n  Using cached cachetools-5.5.2-py3-none-any.whl.metadata (5.4 kB)\nCollecting cloudpickle<4 (from mlflow-skinny==2.22.0->mlflow)\n  Downloading cloudpickle-3.1.1-py3-none-any.whl.metadata (7.1 kB)\nCollecting rich>=13.7.1 (from dspy)\n  Downloading rich-14.0.0-py3-none-any.whl.metadata (18 kB)\nRequirement already satisfied: Mako in /databricks/python3/lib/python3.12/site-packages (from alembic!=1.10.0,<2->mlflow) (1.2.0)\nCollecting typing-extensions>=4.10.0 (from torch==2.6.0)\n  Downloading typing_extensions-4.14.0-py3-none-any.whl.metadata (3.0 kB)\nRequirement already satisfied: sniffio>=1.1 in /databricks/python3/lib/python3.12/site-packages (from anyio->dspy) (1.3.0)\nRequirement already satisfied: dill<0.3.9,>=0.3.0 in /databricks/python3/lib/python3.12/site-packages (from datasets>=2.14.6->dspy) (0.3.8)\nRequirement already satisfied: xxhash in /databricks/python3/lib/python3.12/site-packages (from datasets>=2.14.6->dspy) (3.4.1)\nRequirement already satisfied: multiprocess<0.70.17 in /databricks/python3/lib/python3.12/site-packages (from datasets>=2.14.6->dspy) (0.70.16)\nRequirement already satisfied: aiohttp in /databricks/python3/lib/python3.12/site-packages (from datasets>=2.14.6->dspy) (3.9.5)\nRequirement already satisfied: Werkzeug>=2.2.2 in /databricks/python3/lib/python3.12/site-packages (from Flask<4->mlflow) (3.0.3)\nRequirement already satisfied: itsdangerous>=2.0 in /databricks/python3/lib/python3.12/site-packages (from Flask<4->mlflow) (2.2.0)\nRequirement already satisfied: pyasn1-modules>=0.2.1 in /databricks/python3/lib/python3.12/site-packages (from google-auth~=2.0->databricks-sdk) (0.2.8)\nRequirement already satisfied: rsa<5,>=3.1.4 in /databricks/python3/lib/python3.12/site-packages (from google-auth~=2.0->databricks-sdk) (4.9)\nRequirement already satisfied: six>=1.9.0 in /usr/lib/python3/dist-packages (from google-auth~=2.0->databricks-sdk) (1.16.0)\nRequirement already satisfied: graphql-core<3.3,>=3.1 in /databricks/python3/lib/python3.12/site-packages (from graphene<4->mlflow) (3.2.4)\nCollecting graphql-relay<3.3,>=3.1 (from graphene<4->mlflow)\n  Downloading graphql_relay-3.2.0-py3-none-any.whl.metadata (12 kB)\nRequirement already satisfied: MarkupSafe>=2.0 in /databricks/python3/lib/python3.12/site-packages (from jinja2->torch==2.6.0) (2.1.3)\nRequirement already satisfied: httpx>=0.23.0 in /databricks/python3/lib/python3.12/site-packages (from litellm>=1.60.3->dspy) (0.28.1)\nCollecting importlib_metadata!=4.7.0,<9,>=3.7.0 (from mlflow-skinny==2.22.0->mlflow)\n  Downloading importlib_metadata-8.7.0-py3-none-any.whl.metadata (4.8 kB)\nCollecting jsonschema<5.0.0,>=4.22.0 (from litellm>=1.60.3->dspy)\n  Downloading jsonschema-4.24.0-py3-none-any.whl.metadata (7.8 kB)\nCollecting python-dotenv>=0.2.0 (from litellm>=1.60.3->dspy)\n  Downloading python_dotenv-1.1.0-py3-none-any.whl.metadata (24 kB)\nRequirement already satisfied: tiktoken>=0.7.0 in /databricks/python3/lib/python3.12/site-packages (from litellm>=1.60.3->dspy) (0.7.0)\nRequirement already satisfied: tokenizers in /databricks/python3/lib/python3.12/site-packages (from litellm>=1.60.3->dspy) (0.21.0)\nRequirement already satisfied: distro<2,>=1.7.0 in /usr/lib/python3/dist-packages (from openai>=0.28.1->dspy) (1.9.0)\nRequirement already satisfied: jiter<1,>=0.4.0 in /databricks/python3/lib/python3.12/site-packages (from openai>=0.28.1->dspy) (0.9.0)\nRequirement already satisfied: colorlog in /databricks/python3/lib/python3.12/site-packages (from optuna>=3.4.0->dspy) (6.9.0)\nRequirement already satisfied: pytz>=2020.1 in /databricks/python3/lib/python3.12/site-packages (from pandas<3->mlflow) (2024.1)\nCollecting tzdata>=2022.7 (from pandas<3->mlflow)\n  Downloading tzdata-2025.2-py2.py3-none-any.whl.metadata (1.4 kB)\nRequirement already satisfied: annotated-types>=0.4.0 in /databricks/python3/lib/python3.12/site-packages (from pydantic<3,>=1.10.8->mlflow-skinny==2.22.0->mlflow) (0.7.0)\nRequirement already satisfied: pydantic-core==2.20.1 in /databricks/python3/lib/python3.12/site-packages (from pydantic<3,>=1.10.8->mlflow-skinny==2.22.0->mlflow) (2.20.1)\nRequirement already satisfied: markdown-it-py>=2.2.0 in /databricks/python3/lib/python3.12/site-packages (from rich>=13.7.1->dspy) (2.2.0)\nRequirement already satisfied: pygments<3.0.0,>=2.13.0 in /databricks/python3/lib/python3.12/site-packages (from rich>=13.7.1->dspy) (2.15.1)\nRequirement already satisfied: greenlet!=0.4.17 in /databricks/python3/lib/python3.12/site-packages (from sqlalchemy<3,>=1.4.0->mlflow) (3.0.1)\nCollecting huggingface-hub>=0.21.0 (from accelerate)\n  Downloading huggingface_hub-0.32.4-py3-none-any.whl.metadata (14 kB)\nCollecting hf-xet<2.0.0,>=1.1.2 (from huggingface-hub>=0.21.0->accelerate)\n  Downloading hf_xet-1.1.3-cp37-abi3-manylinux_2_17_x86_64.manylinux2014_x86_64.whl.metadata (879 bytes)\nRequirement already satisfied: starlette<0.47.0,>=0.40.0 in /databricks/python3/lib/python3.12/site-packages (from fastapi<1->mlflow-skinny==2.22.0->mlflow) (0.46.2)\nRequirement already satisfied: aiosignal>=1.1.2 in /databricks/python3/lib/python3.12/site-packages (from aiohttp->datasets>=2.14.6->dspy) (1.2.0)\nRequirement already satisfied: attrs>=17.3.0 in /databricks/python3/lib/python3.12/site-packages (from aiohttp->datasets>=2.14.6->dspy) (23.1.0)\nRequirement already satisfied: frozenlist>=1.1.1 in /databricks/python3/lib/python3.12/site-packages (from aiohttp->datasets>=2.14.6->dspy) (1.4.0)\nRequirement already satisfied: multidict<7.0,>=4.5 in /databricks/python3/lib/python3.12/site-packages (from aiohttp->datasets>=2.14.6->dspy) (6.0.4)\nRequirement already satisfied: yarl<2.0,>=1.0 in /databricks/python3/lib/python3.12/site-packages (from aiohttp->datasets>=2.14.6->dspy) (1.9.3)\nRequirement already satisfied: gitdb<5,>=4.0.1 in /databricks/python3/lib/python3.12/site-packages (from gitpython<4,>=3.1.9->mlflow-skinny==2.22.0->mlflow) (4.0.11)\nRequirement already satisfied: httpcore==1.* in /databricks/python3/lib/python3.12/site-packages (from httpx>=0.23.0->litellm>=1.60.3->dspy) (1.0.8)\nRequirement already satisfied: h11<0.15,>=0.13 in /databricks/python3/lib/python3.12/site-packages (from httpcore==1.*->httpx>=0.23.0->litellm>=1.60.3->dspy) (0.14.0)\nCollecting zipp>=3.20 (from importlib_metadata!=4.7.0,<9,>=3.7.0->mlflow-skinny==2.22.0->mlflow)\n  Downloading zipp-3.22.0-py3-none-any.whl.metadata (3.6 kB)\nRequirement already satisfied: jsonschema-specifications>=2023.03.6 in /databricks/python3/lib/python3.12/site-packages (from jsonschema<5.0.0,>=4.22.0->litellm>=1.60.3->dspy) (2023.7.1)\nRequirement already satisfied: referencing>=0.28.4 in /databricks/python3/lib/python3.12/site-packages (from jsonschema<5.0.0,>=4.22.0->litellm>=1.60.3->dspy) (0.30.2)\nRequirement already satisfied: rpds-py>=0.7.1 in /databricks/python3/lib/python3.12/site-packages (from jsonschema<5.0.0,>=4.22.0->litellm>=1.60.3->dspy) (0.10.6)\nRequirement already satisfied: mdurl~=0.1 in /databricks/python3/lib/python3.12/site-packages (from markdown-it-py>=2.2.0->rich>=13.7.1->dspy) (0.1.0)\nRequirement already satisfied: deprecated>=1.2.6 in /databricks/python3/lib/python3.12/site-packages (from opentelemetry-api<3,>=1.9.0->mlflow-skinny==2.22.0->mlflow) (1.2.18)\nCollecting importlib_metadata!=4.7.0,<9,>=3.7.0 (from mlflow-skinny==2.22.0->mlflow)\n  Downloading importlib_metadata-8.6.1-py3-none-any.whl.metadata (4.7 kB)\nRequirement already satisfied: opentelemetry-semantic-conventions==0.53b0 in /databricks/python3/lib/python3.12/site-packages (from opentelemetry-sdk<3,>=1.9.0->mlflow-skinny==2.22.0->mlflow) (0.53b0)\nRequirement already satisfied: pyasn1<0.5.0,>=0.4.6 in /databricks/python3/lib/python3.12/site-packages (from pyasn1-modules>=0.2.1->google-auth~=2.0->databricks-sdk) (0.4.8)\nRequirement already satisfied: wrapt<2,>=1.10 in /databricks/python3/lib/python3.12/site-packages (from deprecated>=1.2.6->opentelemetry-api<3,>=1.9.0->mlflow-skinny==2.22.0->mlflow) (1.14.1)\nRequirement already satisfied: smmap<6,>=3.0.1 in /databricks/python3/lib/python3.12/site-packages (from gitdb<5,>=4.0.1->gitpython<4,>=3.1.9->mlflow-skinny==2.22.0->mlflow) (5.0.0)\nDownloading qwen_vl_utils-0.0.11-py3-none-any.whl (7.6 kB)\nDownloading accelerate-1.7.0-py3-none-any.whl (362 kB)\n\u001B[?25l   \u001B[90m━━━━━━━━━━━━━━━━━━━━━━━━━━━━━━━━━━━━━━━━\u001B[0m \u001B[32m0.0/362.1 kB\u001B[0m \u001B[31m?\u001B[0m eta \u001B[36m-:--:--\u001B[0m\n\u001B[2K   \u001B[90m━━━━━━━━━━━━━━━━━━━━━━━━━━━━━━━━━━━━━━━━\u001B[0m \u001B[32m362.1/362.1 kB\u001B[0m \u001B[31m18.0 MB/s\u001B[0m eta \u001B[36m0:00:00\u001B[0m\n\u001B[?25hDownloading matplotlib-3.10.3-cp312-cp312-manylinux_2_17_x86_64.manylinux2014_x86_64.whl (8.6 MB)\n\u001B[?25l   \u001B[90m━━━━━━━━━━━━━━━━━━━━━━━━━━━━━━━━━━━━━━━━\u001B[0m \u001B[32m0.0/8.6 MB\u001B[0m \u001B[31m?\u001B[0m eta \u001B[36m-:--:--\u001B[0m\n\u001B[2K   \u001B[91m━━━━━━━━━━━━━━━━━━━━━\u001B[0m\u001B[91m╸\u001B[0m\u001B[90m━━━━━━━━━━━━━━━━━━\u001B[0m \u001B[32m4.6/8.6 MB\u001B[0m \u001B[31m139.7 MB/s\u001B[0m eta \u001B[36m0:00:01\u001B[0m\n\u001B[2K   \u001B[91m━━━━━━━━━━━━━━━━━━━━━━━━━━━━━━━━━━━━━━━\u001B[0m\u001B[91m╸\u001B[0m \u001B[32m8.6/8.6 MB\u001B[0m \u001B[31m154.7 MB/s\u001B[0m eta \u001B[36m0:00:01\u001B[0m\n\u001B[2K   \u001B[90m━━━━━━━━━━━━━━━━━━━━━━━━━━━━━━━━━━━━━━━━\u001B[0m \u001B[32m8.6/8.6 MB\u001B[0m \u001B[31m97.3 MB/s\u001B[0m eta \u001B[36m0:00:00\u001B[0m\n\u001B[?25hDownloading pillow-11.2.1-cp312-cp312-manylinux_2_28_x86_64.whl (4.6 MB)\n\u001B[?25l   \u001B[90m━━━━━━━━━━━━━━━━━━━━━━━━━━━━━━━━━━━━━━━━\u001B[0m \u001B[32m0.0/4.6 MB\u001B[0m \u001B[31m?\u001B[0m eta \u001B[36m-:--:--\u001B[0m\n\u001B[2K   \u001B[91m━━━━━━━━━━━━━━━━━━━━━━━━━━━━━━━━━━━━━━━\u001B[0m\u001B[91m╸\u001B[0m \u001B[32m4.6/4.6 MB\u001B[0m \u001B[31m190.6 MB/s\u001B[0m eta \u001B[36m0:00:01\u001B[0m\n\u001B[2K   \u001B[90m━━━━━━━━━━━━━━━━━━━━━━━━━━━━━━━━━━━━━━━━\u001B[0m \u001B[32m4.6/4.6 MB\u001B[0m \u001B[31m98.0 MB/s\u001B[0m eta \u001B[36m0:00:00\u001B[0m\n\u001B[?25hDownloading scikit_learn-1.6.1-cp312-cp312-manylinux_2_17_x86_64.manylinux2014_x86_64.whl (13.1 MB)\n\u001B[?25l   \u001B[90m━━━━━━━━━━━━━━━━━━━━━━━━━━━━━━━━━━━━━━━━\u001B[0m \u001B[32m0.0/13.1 MB\u001B[0m \u001B[31m?\u001B[0m eta \u001B[36m-:--:--\u001B[0m\n\u001B[2K   \u001B[91m━━━━━━━━━━━━\u001B[0m\u001B[90m╺\u001B[0m\u001B[90m━━━━━━━━━━━━━━━━━━━━━━━━━━━\u001B[0m \u001B[32m4.0/13.1 MB\u001B[0m \u001B[31m120.5 MB/s\u001B[0m eta \u001B[36m0:00:01\u001B[0m\n\u001B[2K   \u001B[91m━━━━━━━━━━━━━━━━━━━━━━━━━━━━━━\u001B[0m\u001B[90m╺\u001B[0m\u001B[90m━━━━━━━━━\u001B[0m \u001B[32m9.9/13.1 MB\u001B[0m \u001B[31m146.0 MB/s\u001B[0m eta \u001B[36m0:00:01\u001B[0m\n\u001B[2K   \u001B[91m━━━━━━━━━━━━━━━━━━━━━━━━━━━━━━━━━━━━━━━\u001B[0m\u001B[91m╸\u001B[0m \u001B[32m13.1/13.1 MB\u001B[0m \u001B[31m165.7 MB/s\u001B[0m eta \u001B[36m0:00:01\u001B[0m\n\u001B[2K   \u001B[90m━━━━━━━━━━━━━━━━━━━━━━━━━━━━━━━━━━━━━━━━\u001B[0m \u001B[32m13.1/13.1 MB\u001B[0m \u001B[31m101.5 MB/s\u001B[0m eta \u001B[36m0:00:00\u001B[0m\n\u001B[?25hDownloading pdf2image-1.17.0-py3-none-any.whl (11 kB)\nUsing cached requests-2.32.3-py3-none-any.whl (64 kB)\nDownloading databricks_sdk-0.55.0-py3-none-any.whl (722 kB)\n\u001B[?25l   \u001B[90m━━━━━━━━━━━━━━━━━━━━━━━━━━━━━━━━━━━━━━━━\u001B[0m \u001B[32m0.0/722.9 kB\u001B[0m \u001B[31m?\u001B[0m eta \u001B[36m-:--:--\u001B[0m\n\u001B[2K   \u001B[90m━━━━━━━━━━━━━━━━━━━━━━━━━━━━━━━━━━━━━━━━\u001B[0m \u001B[32m722.9/722.9 kB\u001B[0m \u001B[31m64.6 MB/s\u001B[0m eta \u001B[36m0:00:00\u001B[0m\n\u001B[?25hDownloading mlflow-2.22.0-py3-none-any.whl (29.0 MB)\n\u001B[?25l   \u001B[90m━━━━━━━━━━━━━━━━━━━━━━━━━━━━━━━━━━━━━━━━\u001B[0m \u001B[32m0.0/29.0 MB\u001B[0m \u001B[31m?\u001B[0m eta \u001B[36m-:--:--\u001B[0m\n\u001B[2K   \u001B[91m━━━━━\u001B[0m\u001B[91m╸\u001B[0m\u001B[90m━━━━━━━━━━━━━━━━━━━━━━━━━━━━━━━━━━\u001B[0m \u001B[32m4.2/29.0 MB\u001B[0m \u001B[31m125.4 MB/s\u001B[0m eta \u001B[36m0:00:01\u001B[0m\n\u001B[2K   \u001B[91m━━━━━━━━━━━━\u001B[0m\u001B[90m╺\u001B[0m\u001B[90m━━━━━━━━━━━━━━━━━━━━━━━━━━━\u001B[0m \u001B[32m8.7/29.0 MB\u001B[0m \u001B[31m126.3 MB/s\u001B[0m eta \u001B[36m0:00:01\u001B[0m\n\u001B[2K   \u001B[91m━━━━━━━━━━━━━━━━━━\u001B[0m\u001B[91m╸\u001B[0m\u001B[90m━━━━━━━━━━━━━━━━━━━━━\u001B[0m \u001B[32m13.7/29.0 MB\u001B[0m \u001B[31m134.0 MB/s\u001B[0m eta \u001B[36m0:00:01\u001B[0m\n\u001B[2K   \u001B[91m━━━━━━━━━━━━━━━━━━━━━━━━━━━\u001B[0m\u001B[90m╺\u001B[0m\u001B[90m━━━━━━━━━━━━\u001B[0m \u001B[32m19.6/29.0 MB\u001B[0m \u001B[31m161.0 MB/s\u001B[0m eta \u001B[36m0:00:01\u001B[0m\n\u001B[2K   \u001B[91m━━━━━━━━━━━━━━━━━━━━━━━━━━━━━━━━━━━\u001B[0m\u001B[90m╺\u001B[0m\u001B[90m━━━━\u001B[0m \u001B[32m25.5/29.0 MB\u001B[0m \u001B[31m173.0 MB/s\u001B[0m eta \u001B[36m0:00:01\u001B[0m\n\u001B[2K   \u001B[91m━━━━━━━━━━━━━━━━━━━━━━━━━━━━━━━━━━━━━━━\u001B[0m\u001B[91m╸\u001B[0m \u001B[32m29.0/29.0 MB\u001B[0m \u001B[31m173.7 MB/s\u001B[0m eta \u001B[36m0:00:01\u001B[0m\n\u001B[2K   \u001B[91m━━━━━━━━━━━━━━━━━━━━━━━━━━━━━━━━━━━━━━━\u001B[0m\u001B[91m╸\u001B[0m \u001B[32m29.0/29.0 MB\u001B[0m \u001B[31m173.7 MB/s\u001B[0m eta \u001B[36m0:00:01\u001B[0m\n\u001B[2K   \u001B[90m━━━━━━━━━━━━━━━━━━━━━━━━━━━━━━━━━━━━━━━━\u001B[0m \u001B[32m29.0/29.0 MB\u001B[0m \u001B[31m74.1 MB/s\u001B[0m eta \u001B[36m0:00:00\u001B[0m\n\u001B[?25hDownloading mlflow_skinny-2.22.0-py3-none-any.whl (6.3 MB)\n\u001B[?25l   \u001B[90m━━━━━━━━━━━━━━━━━━━━━━━━━━━━━━━━━━━━━━━━\u001B[0m \u001B[32m0.0/6.3 MB\u001B[0m \u001B[31m?\u001B[0m eta \u001B[36m-:--:--\u001B[0m\n\u001B[2K   \u001B[91m━━━━━━━━━━━━━━━━━━━━━━━━━━━━━━━━━━━\u001B[0m\u001B[90m╺\u001B[0m\u001B[90m━━━━\u001B[0m \u001B[32m5.6/6.3 MB\u001B[0m \u001B[31m167.3 MB/s\u001B[0m eta \u001B[36m0:00:01\u001B[0m\n\u001B[2K   \u001B[90m━━━━━━━━━━━━━━━━━━━━━━━━━━━━━━━━━━━━━━━━\u001B[0m \u001B[32m6.3/6.3 MB\u001B[0m \u001B[31m102.2 MB/s\u001B[0m eta \u001B[36m0:00:00\u001B[0m\n\u001B[?25hDownloading databricks_vectorsearch-0.56-py3-none-any.whl (15 kB)\nDownloading dspy-2.6.27-py3-none-any.whl (297 kB)\n\u001B[?25l   \u001B[90m━━━━━━━━━━━━━━━━━━━━━━━━━━━━━━━━━━━━━━━━\u001B[0m \u001B[32m0.0/297.3 kB\u001B[0m \u001B[31m?\u001B[0m eta \u001B[36m-:--:--\u001B[0m\n\u001B[2K   \u001B[90m━━━━━━━━━━━━━━━━━━━━━━━━━━━━━━━━━━━━━━━━\u001B[0m \u001B[32m297.3/297.3 kB\u001B[0m \u001B[31m29.9 MB/s\u001B[0m eta \u001B[36m0:00:00\u001B[0m\n\u001B[?25hDownloading asyncer-0.0.8-py3-none-any.whl (9.2 kB)\nDownloading alembic-1.16.1-py3-none-any.whl (242 kB)\n\u001B[?25l   \u001B[90m━━━━━━━━━━━━━━━━━━━━━━━━━━━━━━━━━━━━━━━━\u001B[0m \u001B[32m0.0/242.5 kB\u001B[0m \u001B[31m?\u001B[0m eta \u001B[36m-:--:--\u001B[0m\n\u001B[2K   \u001B[90m━━━━━━━━━━━━━━━━━━━━━━━━━━━━━━━━━━━━━━━━\u001B[0m \u001B[32m242.5/242.5 kB\u001B[0m \u001B[31m28.5 MB/s\u001B[0m eta \u001B[36m0:00:00\u001B[0m\n\u001B[?25hUsing cached cachetools-5.5.2-py3-none-any.whl (10 kB)\nDownloading cloudpickle-3.1.1-py3-none-any.whl (20 kB)\nDownloading deprecation-2.1.0-py2.py3-none-any.whl (11 kB)\nDownloading diskcache-5.6.3-py3-none-any.whl (45 kB)\n\u001B[?25l   \u001B[90m━━━━━━━━━━━━━━━━━━━━━━━━━━━━━━━━━━━━━━━━\u001B[0m \u001B[32m0.0/45.5 kB\u001B[0m \u001B[31m?\u001B[0m eta \u001B[36m-:--:--\u001B[0m\n\u001B[2K   \u001B[90m━━━━━━━━━━━━━━━━━━━━━━━━━━━━━━━━━━━━━━━━\u001B[0m \u001B[32m45.5/45.5 kB\u001B[0m \u001B[31m5.2 MB/s\u001B[0m eta \u001B[36m0:00:00\u001B[0m\n\u001B[?25hDownloading docker-7.1.0-py3-none-any.whl (147 kB)\n\u001B[?25l   \u001B[90m━━━━━━━━━━━━━━━━━━━━━━━━━━━━━━━━━━━━━━━━\u001B[0m \u001B[32m0.0/147.8 kB\u001B[0m \u001B[31m?\u001B[0m eta \u001B[36m-:--:--\u001B[0m\n\u001B[2K   \u001B[90m━━━━━━━━━━━━━━━━━━━━━━━━━━━━━━━━━━━━━━━━\u001B[0m \u001B[32m147.8/147.8 kB\u001B[0m \u001B[31m17.2 MB/s\u001B[0m eta \u001B[36m0:00:00\u001B[0m\n\u001B[?25hDownloading graphene-3.4.3-py2.py3-none-any.whl (114 kB)\n\u001B[?25l   \u001B[90m━━━━━━━━━━━━━━━━━━━━━━━━━━━━━━━━━━━━━━━━\u001B[0m \u001B[32m0.0/114.9 kB\u001B[0m \u001B[31m?\u001B[0m eta \u001B[36m-:--:--\u001B[0m\n\u001B[2K   \u001B[90m━━━━━━━━━━━━━━━━━━━━━━━━━━━━━━━━━━━━━━━━\u001B[0m \u001B[32m114.9/114.9 kB\u001B[0m \u001B[31m17.3 MB/s\u001B[0m eta \u001B[36m0:00:00\u001B[0m\n\u001B[?25hDownloading json_repair-0.46.0-py3-none-any.whl (22 kB)\nDownloading litellm-1.72.0-py3-none-any.whl (8.0 MB)\n\u001B[?25l   \u001B[90m━━━━━━━━━━━━━━━━━━━━━━━━━━━━━━━━━━━━━━━━\u001B[0m \u001B[32m0.0/8.0 MB\u001B[0m \u001B[31m?\u001B[0m eta \u001B[36m-:--:--\u001B[0m\n\u001B[2K   \u001B[91m━━━━━━━━━━━━━━━━━━━━━━━━\u001B[0m\u001B[91m╸\u001B[0m\u001B[90m━━━━━━━━━━━━━━━\u001B[0m \u001B[32m4.9/8.0 MB\u001B[0m \u001B[31m149.4 MB/s\u001B[0m eta \u001B[36m0:00:01\u001B[0m\n\u001B[2K   \u001B[91m━━━━━━━━━━━━━━━━━━━━━━━━━━━━━━━━━━━━━━━\u001B[0m\u001B[91m╸\u001B[0m \u001B[32m8.0/8.0 MB\u001B[0m \u001B[31m151.7 MB/s\u001B[0m eta \u001B[36m0:00:01\u001B[0m\n\u001B[2K   \u001B[90m━━━━━━━━━━━━━━━━━━━━━━━━━━━━━━━━━━━━━━━━\u001B[0m \u001B[32m8.0/8.0 MB\u001B[0m \u001B[31m101.1 MB/s\u001B[0m eta \u001B[36m0:00:00\u001B[0m\n\u001B[?25hDownloading magicattr-0.1.6-py2.py3-none-any.whl (4.7 kB)\nDownloading pandas-2.2.3-cp312-cp312-manylinux_2_17_x86_64.manylinux2014_x86_64.whl (12.7 MB)\n\u001B[?25l   \u001B[90m━━━━━━━━━━━━━━━━━━━━━━━━━━━━━━━━━━━━━━━━\u001B[0m \u001B[32m0.0/12.7 MB\u001B[0m \u001B[31m?\u001B[0m eta \u001B[36m-:--:--\u001B[0m\n\u001B[2K   \u001B[91m━━━━━━━━━━━━━━━━━\u001B[0m\u001B[90m╺\u001B[0m\u001B[90m━━━━━━━━━━━━━━━━━━━━━━\u001B[0m \u001B[32m5.4/12.7 MB\u001B[0m \u001B[31m162.8 MB/s\u001B[0m eta \u001B[36m0:00:01\u001B[0m\n\u001B[2K   \u001B[91m━━━━━━━━━━━━━━━━━━━━━━━━━━━━━━━━━━━━\u001B[0m\u001B[90m╺\u001B[0m\u001B[90m━━━\u001B[0m \u001B[32m11.6/12.7 MB\u001B[0m \u001B[31m171.3 MB/s\u001B[0m eta \u001B[36m0:00:01\u001B[0m\n\u001B[2K   \u001B[91m━━━━━━━━━━━━━━━━━━━━━━━━━━━━━━━━━━━━━━━\u001B[0m\u001B[91m╸\u001B[0m \u001B[32m12.7/12.7 MB\u001B[0m \u001B[31m165.9 MB/s\u001B[0m eta \u001B[36m0:00:01\u001B[0m\n\u001B[2K   \u001B[90m━━━━━━━━━━━━━━━━━━━━━━━━━━━━━━━━━━━━━━━━\u001B[0m \u001B[32m12.7/12.7 MB\u001B[0m \u001B[31m102.4 MB/s\u001B[0m eta \u001B[36m0:00:00\u001B[0m\n\u001B[?25hDownloading peft-0.15.2-py3-none-any.whl (411 kB)\n\u001B[?25l   \u001B[90m━━━━━━━━━━━━━━━━━━━━━━━━━━━━━━━━━━━━━━━━\u001B[0m \u001B[32m0.0/411.1 kB\u001B[0m \u001B[31m?\u001B[0m eta \u001B[36m-:--:--\u001B[0m\n\u001B[2K   \u001B[90m━━━━━━━━━━━━━━━━━━━━━━━━━━━━━━━━━━━━━━━━\u001B[0m \u001B[32m411.1/411.1 kB\u001B[0m \u001B[31m43.7 MB/s\u001B[0m eta \u001B[36m0:00:00\u001B[0m\n\u001B[?25hDownloading rich-14.0.0-py3-none-any.whl (243 kB)\n\u001B[?25l   \u001B[90m━━━━━━━━━━━━━━━━━━━━━━━━━━━━━━━━━━━━━━━━\u001B[0m \u001B[32m0.0/243.2 kB\u001B[0m \u001B[31m?\u001B[0m eta \u001B[36m-:--:--\u001B[0m\n\u001B[2K   \u001B[90m━━━━━━━━━━━━━━━━━━━━━━━━━━━━━━━━━━━━━━━━\u001B[0m \u001B[32m243.2/243.2 kB\u001B[0m \u001B[31m29.3 MB/s\u001B[0m eta \u001B[36m0:00:00\u001B[0m\n\u001B[?25hDownloading tenacity-9.1.2-py3-none-any.whl (28 kB)\nDownloading threadpoolctl-3.6.0-py3-none-any.whl (18 kB)\nDownloading transformers-4.51.3-py3-none-any.whl (10.4 MB)\n\u001B[?25l   \u001B[90m━━━━━━━━━━━━━━━━━━━━━━━━━━━━━━━━━━━━━━━━\u001B[0m \u001B[32m0.0/10.4 MB\u001B[0m \u001B[31m?\u001B[0m eta \u001B[36m-:--:--\u001B[0m\n\u001B[2K   \u001B[91m━━━━━━━━━━━━━━━━━━━\u001B[0m\u001B[90m╺\u001B[0m\u001B[90m━━━━━━━━━━━━━━━━━━━━\u001B[0m \u001B[32m5.0/10.4 MB\u001B[0m \u001B[31m150.6 MB/s\u001B[0m eta \u001B[36m0:00:01\u001B[0m\n\u001B[2K   \u001B[91m━━━━━━━━━━━━━━━━━━━━━━━━━━━━━━━━━━━━━━━\u001B[0m\u001B[91m╸\u001B[0m \u001B[32m10.4/10.4 MB\u001B[0m \u001B[31m162.9 MB/s\u001B[0m eta \u001B[36m0:00:01\u001B[0m\n\u001B[2K   \u001B[90m━━━━━━━━━━━━━━━━━━━━━━━━━━━━━━━━━━━━━━━━\u001B[0m \u001B[32m10.4/10.4 MB\u001B[0m \u001B[31m105.3 MB/s\u001B[0m eta \u001B[36m0:00:00\u001B[0m\n\u001B[?25hDownloading huggingface_hub-0.32.4-py3-none-any.whl (512 kB)\n\u001B[?25l   \u001B[90m━━━━━━━━━━━━━━━━━━━━━━━━━━━━━━━━━━━━━━━━\u001B[0m \u001B[32m0.0/512.1 kB\u001B[0m \u001B[31m?\u001B[0m eta \u001B[36m-:--:--\u001B[0m\n\u001B[2K   \u001B[90m━━━━━━━━━━━━━━━━━━━━━━━━━━━━━━━━━━━━━━━━\u001B[0m \u001B[32m512.1/512.1 kB\u001B[0m \u001B[31m47.9 MB/s\u001B[0m eta \u001B[36m0:00:00\u001B[0m\n\u001B[?25hDownloading typing_extensions-4.14.0-py3-none-any.whl (43 kB)\n\u001B[?25l   \u001B[90m━━━━━━━━━━━━━━━━━━━━━━━━━━━━━━━━━━━━━━━━\u001B[0m \u001B[32m0.0/43.8 kB\u001B[0m \u001B[31m?\u001B[0m eta \u001B[36m-:--:--\u001B[0m\n\u001B[2K   \u001B[90m━━━━━━━━━━━━━━━━━━━━━━━━━━━━━━━━━━━━━━━━\u001B[0m \u001B[32m43.8/43.8 kB\u001B[0m \u001B[31m4.9 MB/s\u001B[0m eta \u001B[36m0:00:00\u001B[0m\n\u001B[?25hDownloading av-14.4.0-cp312-cp312-manylinux_2_17_x86_64.manylinux2014_x86_64.whl (35.5 MB)\n\u001B[?25l   \u001B[90m━━━━━━━━━━━━━━━━━━━━━━━━━━━━━━━━━━━━━━━━\u001B[0m \u001B[32m0.0/35.5 MB\u001B[0m \u001B[31m?\u001B[0m eta \u001B[36m-:--:--\u001B[0m\n\u001B[2K   \u001B[91m━━━━━\u001B[0m\u001B[91m╸\u001B[0m\u001B[90m━━━━━━━━━━━━━━━━━━━━━━━━━━━━━━━━━━\u001B[0m \u001B[32m5.3/35.5 MB\u001B[0m \u001B[31m160.0 MB/s\u001B[0m eta \u001B[36m0:00:01\u001B[0m\n\u001B[2K   \u001B[91m━━━━━━━━━━━\u001B[0m\u001B[90m╺\u001B[0m\u001B[90m━━━━━━━━━━━━━━━━━━━━━━━━━━━━\u001B[0m \u001B[32m10.2/35.5 MB\u001B[0m \u001B[31m148.5 MB/s\u001B[0m eta \u001B[36m0:00:01\u001B[0m\n\u001B[2K   \u001B[91m━━━━━━━━━━━━━━━━━\u001B[0m\u001B[90m╺\u001B[0m\u001B[90m━━━━━━━━━━━━━━━━━━━━━━\u001B[0m \u001B[32m15.2/35.5 MB\u001B[0m \u001B[31m141.5 MB/s\u001B[0m eta \u001B[36m0:00:01\u001B[0m\n\u001B[2K   \u001B[91m━━━━━━━━━━━━━━━━━━━━━━\u001B[0m\u001B[90m╺\u001B[0m\u001B[90m━━━━━━━━━━━━━━━━━\u001B[0m \u001B[32m19.6/35.5 MB\u001B[0m \u001B[31m135.4 MB/s\u001B[0m eta \u001B[36m0:00:01\u001B[0m\n\u001B[2K   \u001B[91m━━━━━━━━━━━━━━━━━━━━━━━━━━━\u001B[0m\u001B[90m╺\u001B[0m\u001B[90m━━━━━━━━━━━━\u001B[0m \u001B[32m24.2/35.5 MB\u001B[0m \u001B[31m125.3 MB/s\u001B[0m eta \u001B[36m0:00:01\u001B[0m\n\u001B[2K   \u001B[91m━━━━━━━━━━━━━━━━━━━━━━━━━━━━━━━━\u001B[0m\u001B[91m╸\u001B[0m\u001B[90m━━━━━━━\u001B[0m \u001B[32m29.1/35.5 MB\u001B[0m \u001B[31m136.2 MB/s\u001B[0m eta \u001B[36m0:00:01\u001B[0m\n\u001B[2K   \u001B[91m━━━━━━━━━━━━━━━━━━━━━━━━━━━━━━━━━━━━━━\u001B[0m\u001B[90m╺\u001B[0m\u001B[90m━\u001B[0m \u001B[32m33.8/35.5 MB\u001B[0m \u001B[31m136.8 MB/s\u001B[0m eta \u001B[36m0:00:01\u001B[0m\n\u001B[2K   \u001B[91m━━━━━━━━━━━━━━━━━━━━━━━━━━━━━━━━━━━━━━━\u001B[0m\u001B[91m╸\u001B[0m \u001B[32m35.5/35.5 MB\u001B[0m \u001B[31m139.3 MB/s\u001B[0m eta \u001B[36m0:00:01\u001B[0m\n\u001B[2K   \u001B[91m━━━━━━━━━━━━━━━━━━━━━━━━━━━━━━━━━━━━━━━\u001B[0m\u001B[91m╸\u001B[0m \u001B[32m35.5/35.5 MB\u001B[0m \u001B[31m139.3 MB/s\u001B[0m eta \u001B[36m0:00:01\u001B[0m\n\u001B[2K   \u001B[91m━━━━━━━━━━━━━━━━━━━━━━━━━━━━━━━━━━━━━━━\u001B[0m\u001B[91m╸\u001B[0m \u001B[32m35.5/35.5 MB\u001B[0m \u001B[31m139.3 MB/s\u001B[0m eta \u001B[36m0:00:01\u001B[0m\n\u001B[2K   \u001B[90m━━━━━━━━━━━━━━━━━━━━━━━━━━━━━━━━━━━━━━━━\u001B[0m \u001B[32m35.5/35.5 MB\u001B[0m \u001B[31m60.1 MB/s\u001B[0m eta \u001B[36m0:00:00\u001B[0m\n\u001B[?25hDownloading graphql_relay-3.2.0-py3-none-any.whl (16 kB)\nDownloading hf_xet-1.1.3-cp37-abi3-manylinux_2_17_x86_64.manylinux2014_x86_64.whl (4.8 MB)\n\u001B[?25l   \u001B[90m━━━━━━━━━━━━━━━━━━━━━━━━━━━━━━━━━━━━━━━━\u001B[0m \u001B[32m0.0/4.8 MB\u001B[0m \u001B[31m?\u001B[0m eta \u001B[36m-:--:--\u001B[0m\n\u001B[2K   \u001B[91m━━━━━━━━━━━━━━━━━━━━━━━━━━━━━━━━━━━━━━━\u001B[0m\u001B[91m╸\u001B[0m \u001B[32m4.8/4.8 MB\u001B[0m \u001B[31m163.9 MB/s\u001B[0m eta \u001B[36m0:00:01\u001B[0m\n\u001B[2K   \u001B[90m━━━━━━━━━━━━━━━━━━━━━━━━━━━━━━━━━━━━━━━━\u001B[0m \u001B[32m4.8/4.8 MB\u001B[0m \u001B[31m92.7 MB/s\u001B[0m eta \u001B[36m0:00:00\u001B[0m\n\u001B[?25hDownloading jsonschema-4.24.0-py3-none-any.whl (88 kB)\n\u001B[?25l   \u001B[90m━━━━━━━━━━━━━━━━━━━━━━━━━━━━━━━━━━━━━━━━\u001B[0m \u001B[32m0.0/88.7 kB\u001B[0m \u001B[31m?\u001B[0m eta \u001B[36m-:--:--\u001B[0m\n\u001B[2K   \u001B[90m━━━━━━━━━━━━━━━━━━━━━━━━━━━━━━━━━━━━━━━━\u001B[0m \u001B[32m88.7/88.7 kB\u001B[0m \u001B[31m11.9 MB/s\u001B[0m eta \u001B[36m0:00:00\u001B[0m\n\u001B[?25hDownloading importlib_metadata-8.6.1-py3-none-any.whl (26 kB)\nDownloading python_dotenv-1.1.0-py3-none-any.whl (20 kB)\nDownloading tzdata-2025.2-py2.py3-none-any.whl (347 kB)\n\u001B[?25l   \u001B[90m━━━━━━━━━━━━━━━━━━━━━━━━━━━━━━━━━━━━━━━━\u001B[0m \u001B[32m0.0/347.8 kB\u001B[0m \u001B[31m?\u001B[0m eta \u001B[36m-:--:--\u001B[0m\n\u001B[2K   \u001B[90m━━━━━━━━━━━━━━━━━━━━━━━━━━━━━━━━━━━━━━━━\u001B[0m \u001B[32m347.8/347.8 kB\u001B[0m \u001B[31m26.4 MB/s\u001B[0m eta \u001B[36m0:00:00\u001B[0m\n\u001B[?25hDownloading zipp-3.22.0-py3-none-any.whl (9.8 kB)\nBuilding wheels for collected packages: colpali_engine\n  Building wheel for colpali_engine (pyproject.toml): started\n  Building wheel for colpali_engine (pyproject.toml): finished with status 'done'\n  Created wheel for colpali_engine: filename=colpali_engine-0.3.11.dev8+gfbf9dcc-py3-none-any.whl size=62750 sha256=8d6bbdfd1182eee5d3a93ec2cef57cf1781b713d5bc92db70494895a06c63368\n  Stored in directory: /tmp/pip-ephem-wheel-cache-7cvu53hx/wheels/20/83/a0/1e1f1c3c30f152f6f81e1b1c7450022c00cc477ed96c5832b5\nSuccessfully built colpali_engine\nInstalling collected packages: magicattr, zipp, tzdata, typing-extensions, threadpoolctl, tenacity, requests, python-dotenv, pillow, json-repair, hf-xet, graphql-relay, diskcache, deprecation, cloudpickle, cachetools, av, scikit-learn, rich, qwen-vl-utils, pdf2image, pandas, matplotlib, importlib_metadata, huggingface-hub, graphene, docker, asyncer, jsonschema, databricks-sdk, alembic, transformers, accelerate, peft, litellm, mlflow-skinny, dspy, colpali_engine, mlflow, databricks-vectorsearch\n  Attempting uninstall: zipp\n    Found existing installation: zipp 3.17.0\n    Not uninstalling zipp at /databricks/python3/lib/python3.12/site-packages, outside environment /local_disk0/.ephemeral_nfs/envs/pythonEnv-0828df44-b141-4cbf-9ede-35aedce782d4\n    Can't uninstall 'zipp'. No files were found to uninstall.\n  Attempting uninstall: typing-extensions\n    Found existing installation: typing_extensions 4.11.0\n    Not uninstalling typing-extensions at /databricks/python3/lib/python3.12/site-packages, outside environment /local_disk0/.ephemeral_nfs/envs/pythonEnv-0828df44-b141-4cbf-9ede-35aedce782d4\n    Can't uninstall 'typing_extensions'. No files were found to uninstall.\n  Attempting uninstall: threadpoolctl\n    Found existing installation: threadpoolctl 2.2.0\n    Not uninstalling threadpoolctl at /databricks/python3/lib/python3.12/site-packages, outside environment /local_disk0/.ephemeral_nfs/envs/pythonEnv-0828df44-b141-4cbf-9ede-35aedce782d4\n    Can't uninstall 'threadpoolctl'. No files were found to uninstall.\n  Attempting uninstall: tenacity\n    Found existing installation: tenacity 8.2.2\n    Not uninstalling tenacity at /databricks/python3/lib/python3.12/site-packages, outside environment /local_disk0/.ephemeral_nfs/envs/pythonEnv-0828df44-b141-4cbf-9ede-35aedce782d4\n    Can't uninstall 'tenacity'. No files were found to uninstall.\n  Attempting uninstall: requests\n    Found existing installation: requests 2.32.2\n    Not uninstalling requests at /databricks/python3/lib/python3.12/site-packages, outside environment /local_disk0/.ephemeral_nfs/envs/pythonEnv-0828df44-b141-4cbf-9ede-35aedce782d4\n    Can't uninstall 'requests'. No files were found to uninstall.\n  Attempting uninstall: pillow\n    Found existing installation: pillow 10.3.0\n    Not uninstalling pillow at /databricks/python3/lib/python3.12/site-packages, outside environment /local_disk0/.ephemeral_nfs/envs/pythonEnv-0828df44-b141-4cbf-9ede-35aedce782d4\n    Can't uninstall 'pillow'. No files were found to uninstall.\n  Attempting uninstall: cloudpickle\n    Found existing installation: cloudpickle 2.2.1\n    Not uninstalling cloudpickle at /databricks/python3/lib/python3.12/site-packages, outside environment /local_disk0/.ephemeral_nfs/envs/pythonEnv-0828df44-b141-4cbf-9ede-35aedce782d4\n    Can't uninstall 'cloudpickle'. No files were found to uninstall.\n  Attempting uninstall: cachetools\n    Found existing installation: cachetools 5.3.3\n    Not uninstalling cachetools at /databricks/python3/lib/python3.12/site-packages, outside environment /local_disk0/.ephemeral_nfs/envs/pythonEnv-0828df44-b141-4cbf-9ede-35aedce782d4\n    Can't uninstall 'cachetools'. No files were found to uninstall.\n  Attempting uninstall: scikit-learn\n    Found existing installation: scikit-learn 1.4.2\n    Not uninstalling scikit-learn at /databricks/python3/lib/python3.12/site-packages, outside environment /local_disk0/.ephemeral_nfs/envs/pythonEnv-0828df44-b141-4cbf-9ede-35aedce782d4\n    Can't uninstall 'scikit-learn'. No files were found to uninstall.\n  Attempting uninstall: rich\n    Found existing installation: rich 13.3.5\n    Not uninstalling rich at /databricks/python3/lib/python3.12/site-packages, outside environment /local_disk0/.ephemeral_nfs/envs/pythonEnv-0828df44-b141-4cbf-9ede-35aedce782d4\n    Can't uninstall 'rich'. No files were found to uninstall.\n  Attempting uninstall: pandas\n    Found existing installation: pandas 1.5.3\n    Not uninstalling pandas at /databricks/python3/lib/python3.12/site-packages, outside environment /local_disk0/.ephemeral_nfs/envs/pythonEnv-0828df44-b141-4cbf-9ede-35aedce782d4\n    Can't uninstall 'pandas'. No files were found to uninstall.\n  Attempting uninstall: matplotlib\n    Found existing installation: matplotlib 3.8.4\n    Not uninstalling matplotlib at /databricks/python3/lib/python3.12/site-packages, outside environment /local_disk0/.ephemeral_nfs/envs/pythonEnv-0828df44-b141-4cbf-9ede-35aedce782d4\n    Can't uninstall 'matplotlib'. No files were found to uninstall.\n  Attempting uninstall: importlib_metadata\n    Found existing installation: importlib-metadata 6.0.0\n    Not uninstalling importlib-metadata at /databricks/python3/lib/python3.12/site-packages, outside environment /local_disk0/.ephemeral_nfs/envs/pythonEnv-0828df44-b141-4cbf-9ede-35aedce782d4\n    Can't uninstall 'importlib-metadata'. No files were found to uninstall.\n  Attempting uninstall: huggingface-hub\n    Found existing installation: huggingface-hub 0.29.3\n    Not uninstalling huggingface-hub at /databricks/python3/lib/python3.12/site-packages, outside environment /local_disk0/.ephemeral_nfs/envs/pythonEnv-0828df44-b141-4cbf-9ede-35aedce782d4\n    Can't uninstall 'huggingface-hub'. No files were found to uninstall.\n  Attempting uninstall: jsonschema\n    Found existing installation: jsonschema 4.19.2\n    Not uninstalling jsonschema at /databricks/python3/lib/python3.12/site-packages, outside environment /local_disk0/.ephemeral_nfs/envs/pythonEnv-0828df44-b141-4cbf-9ede-35aedce782d4\n    Can't uninstall 'jsonschema'. No files were found to uninstall.\n  Attempting uninstall: databricks-sdk\n    Found existing installation: databricks-sdk 0.30.0\n    Not uninstalling databricks-sdk at /databricks/python3/lib/python3.12/site-packages, outside environment /local_disk0/.ephemeral_nfs/envs/pythonEnv-0828df44-b141-4cbf-9ede-35aedce782d4\n    Can't uninstall 'databricks-sdk'. No files were found to uninstall.\n  Attempting uninstall: transformers\n    Found existing installation: transformers 4.50.2\n    Not uninstalling transformers at /databricks/python3/lib/python3.12/site-packages, outside environment /local_disk0/.ephemeral_nfs/envs/pythonEnv-0828df44-b141-4cbf-9ede-35aedce782d4\n    Can't uninstall 'transformers'. No files were found to uninstall.\n  Attempting uninstall: accelerate\n    Found existing installation: accelerate 1.5.2\n    Not uninstalling accelerate at /databricks/python3/lib/python3.12/site-packages, outside environment /local_disk0/.ephemeral_nfs/envs/pythonEnv-0828df44-b141-4cbf-9ede-35aedce782d4\n    Can't uninstall 'accelerate'. No files were found to uninstall.\n  Attempting uninstall: mlflow-skinny\n    Found existing installation: mlflow-skinny 2.21.3\n    Not uninstalling mlflow-skinny at /databricks/python3/lib/python3.12/site-packages, outside environment /local_disk0/.ephemeral_nfs/envs/pythonEnv-0828df44-b141-4cbf-9ede-35aedce782d4\n    Can't uninstall 'mlflow-skinny'. No files were found to uninstall.\n\u001B[31mERROR: pip's dependency resolver does not currently take into account all the packages that are installed. This behaviour is the source of the following dependency conflicts.\nydata-profiling 4.9.0 requires matplotlib<3.10,>=3.5, but you have matplotlib 3.10.3 which is incompatible.\u001B[0m\u001B[31m\n\u001B[0mSuccessfully installed accelerate-1.7.0 alembic-1.16.1 asyncer-0.0.8 av-14.4.0 cachetools-5.5.2 cloudpickle-3.1.1 colpali_engine-0.3.11.dev8+gfbf9dcc databricks-sdk-0.55.0 databricks-vectorsearch-0.56 deprecation-2.1.0 diskcache-5.6.3 docker-7.1.0 dspy-2.6.27 graphene-3.4.3 graphql-relay-3.2.0 hf-xet-1.1.3 huggingface-hub-0.32.4 importlib_metadata-8.6.1 json-repair-0.46.0 jsonschema-4.24.0 litellm-1.72.0 magicattr-0.1.6 matplotlib-3.10.3 mlflow-2.22.0 mlflow-skinny-2.22.0 pandas-2.2.3 pdf2image-1.17.0 peft-0.15.2 pillow-11.2.1 python-dotenv-1.1.0 qwen-vl-utils-0.0.11 requests-2.32.3 rich-14.0.0 scikit-learn-1.6.1 tenacity-9.1.2 threadpoolctl-3.6.0 transformers-4.51.3 typing-extensions-4.14.0 tzdata-2025.2 zipp-3.22.0\n\u001B[43mNote: you may need to restart the kernel using %restart_python or dbutils.library.restartPython() to use updated packages.\u001B[0m\n"
     ]
    }
   ],
   "source": [
    "%pip install --upgrade git+https://github.com/illuin-tech/colpali qwen-vl-utils accelerate numpy pillow scikit-learn torch==2.6.0 requests databricks-sdk mlflow "
   ]
  },
  {
   "cell_type": "code",
   "execution_count": 0,
   "metadata": {
    "application/vnd.databricks.v1+cell": {
     "cellMetadata": {
      "byteLimit": 2048000,
      "rowLimit": 10000
     },
     "inputWidgets": {},
     "nuid": "5a4cf62a-008b-41ff-81cb-c0a7726817d5",
     "showTitle": false,
     "tableResultSettingsMap": {},
     "title": ""
    }
   },
   "outputs": [],
   "source": [
    "dbutils.library.restartPython()"
   ]
  },
  {
   "cell_type": "markdown",
   "metadata": {
    "application/vnd.databricks.v1+cell": {
     "cellMetadata": {},
     "inputWidgets": {},
     "nuid": "c2007d15-85ba-4a66-8186-da9326f8f480",
     "showTitle": false,
     "tableResultSettingsMap": {},
     "title": ""
    }
   },
   "source": [
    "#Update the config file\n",
    "\n",
    "You need to update the config file to your specific catalog, schema and table/volume/index names. Otherwise, the notebook will use the default names to spin up the necessary resources"
   ]
  },
  {
   "cell_type": "code",
   "execution_count": 0,
   "metadata": {
    "application/vnd.databricks.v1+cell": {
     "cellMetadata": {
      "byteLimit": 2048000,
      "rowLimit": 10000
     },
     "inputWidgets": {},
     "nuid": "eb47ca4f-498b-43f5-bdad-85867ebb644d",
     "showTitle": false,
     "tableResultSettingsMap": {},
     "title": ""
    }
   },
   "outputs": [],
   "source": [
    "from config import volume_label, volume_name, catalog, schema, model_name, model_endpoint_name, embedding_table_name, embedding_table_name_index, registered_model_name, vector_search_endpoint_name"
   ]
  },
  {
   "cell_type": "code",
   "execution_count": 0,
   "metadata": {
    "application/vnd.databricks.v1+cell": {
     "cellMetadata": {
      "byteLimit": 2048000,
      "rowLimit": 10000
     },
     "inputWidgets": {},
     "nuid": "2ff1e23d-7403-4a55-a3bd-9612b3925592",
     "showTitle": false,
     "tableResultSettingsMap": {},
     "title": ""
    }
   },
   "outputs": [
    {
     "output_type": "execute_result",
     "data": {
      "text/plain": [
       "DataFrame[]"
      ]
     },
     "execution_count": 15,
     "metadata": {},
     "output_type": "execute_result"
    }
   ],
   "source": [
    "spark.sql(f\"CREATE CATALOG IF NOT EXISTS {catalog}\")\n",
    "spark.sql(f\"CREATE SCHEMA IF NOT EXISTS {catalog}.{schema}\")"
   ]
  },
  {
   "cell_type": "code",
   "execution_count": 0,
   "metadata": {
    "application/vnd.databricks.v1+cell": {
     "cellMetadata": {
      "byteLimit": 2048000,
      "rowLimit": 10000
     },
     "inputWidgets": {},
     "nuid": "16ee3315-31a4-42e7-8541-67b8ecbd280f",
     "showTitle": true,
     "tableResultSettingsMap": {},
     "title": "Import libraries"
    }
   },
   "outputs": [
    {
     "output_type": "stream",
     "name": "stderr",
     "output_type": "stream",
     "text": [
      "2025-06-03 06:02:46.079998: E external/local_xla/xla/stream_executor/cuda/cuda_fft.cc:485] Unable to register cuFFT factory: Attempting to register factory for plugin cuFFT when one has already been registered\n2025-06-03 06:02:46.285255: E external/local_xla/xla/stream_executor/cuda/cuda_dnn.cc:8454] Unable to register cuDNN factory: Attempting to register factory for plugin cuDNN when one has already been registered\n2025-06-03 06:02:46.352064: E external/local_xla/xla/stream_executor/cuda/cuda_blas.cc:1452] Unable to register cuBLAS factory: Attempting to register factory for plugin cuBLAS when one has already been registered\n2025-06-03 06:02:46.751859: I tensorflow/core/platform/cpu_feature_guard.cc:210] This TensorFlow binary is optimized to use available CPU instructions in performance-critical operations.\nTo enable the following instructions: AVX2 FMA, in other operations, rebuild TensorFlow with the appropriate compiler flags.\n2025-06-03 06:02:52.845875: W tensorflow/compiler/tf2tensorrt/utils/py_utils.cc:38] TF-TRT Warning: Could not find TensorRT\n"
     ]
    },
    {
     "output_type": "stream",
     "name": "stdout",
     "output_type": "stream",
     "text": [
      "[2025-06-03 06:03:01,618] [INFO] [real_accelerator.py:239:get_accelerator] Setting ds_accelerator to cuda (auto detect)\n"
     ]
    },
    {
     "output_type": "stream",
     "name": "stderr",
     "output_type": "stream",
     "text": [
      "df: /root/.triton/autotune: No such file or directory\n/usr/bin/ld: cannot find -laio: No such file or directory\ncollect2: error: ld returned 1 exit status\n/usr/bin/ld: cannot find -lcufile: No such file or directory\ncollect2: error: ld returned 1 exit status\n2025/06/03 06:03:09 INFO mlflow.tracking.fluent: Autologging successfully enabled for keras.\n2025/06/03 06:03:09 INFO mlflow.tracking.fluent: Autologging successfully enabled for sklearn.\n2025/06/03 06:03:09 INFO mlflow.tracking.fluent: Autologging successfully enabled for tensorflow.\n2025/06/03 06:03:09 WARNING mlflow.utils.autologging_utils: MLflow transformers autologging is known to be compatible with 4.35.2 <= transformers <= 4.51.2, but the installed version is 4.51.3. If you encounter errors during autologging, try upgrading / downgrading transformers to a compatible version, or try upgrading MLflow.\n2025/06/03 06:03:09 INFO mlflow.tracking.fluent: Autologging successfully enabled for transformers.\n2025/06/03 06:03:09 INFO mlflow.tracking.fluent: Autologging successfully enabled for xgboost.\n2025/06/03 06:03:09 WARNING mlflow.spark: With Pyspark >= 3.2, PYSPARK_PIN_THREAD environment variable must be set to false for Spark datasource autologging to work.\n2025/06/03 06:03:09 INFO mlflow.tracking.fluent: Autologging successfully enabled for pyspark.\n2025/06/03 06:03:09 INFO mlflow.tracking.fluent: Autologging successfully enabled for pyspark.ml.\n"
     ]
    }
   ],
   "source": [
    "import mlflow\n",
    "from mlflow.models.signature import ModelSignature\n",
    "from mlflow.pyfunc import PythonModel\n",
    "from mlflow.types.schema import Schema, ColSpec, TensorSpec\n",
    "\n",
    "from colpali_engine.models import ColQwen2_5, ColQwen2_5_Processor\n",
    "from PIL import Image\n",
    "import base64\n",
    "from io import BytesIO\n",
    "import os\n",
    "import numpy as np\n",
    "import torch\n",
    "from transformers.utils.import_utils import is_flash_attn_2_available\n",
    "import time\n",
    "import pandas as pd \n",
    "\n",
    "mlflow.autolog()"
   ]
  },
  {
   "cell_type": "markdown",
   "metadata": {
    "application/vnd.databricks.v1+cell": {
     "cellMetadata": {},
     "inputWidgets": {},
     "nuid": "4ed77a32-7075-46e3-a76c-75063c525255",
     "showTitle": false,
     "tableResultSettingsMap": {},
     "title": ""
    }
   },
   "source": [
    "#Load the model\n",
    "\n",
    "We will download the model into a Databricks Volume as the model is too large to be loaded into workspace files. \n",
    "\n",
    "We can use the cache_dir parameter to refer back to the model and avoid redownloading the model each time"
   ]
  },
  {
   "cell_type": "code",
   "execution_count": 0,
   "metadata": {
    "application/vnd.databricks.v1+cell": {
     "cellMetadata": {
      "byteLimit": 2048000,
      "rowLimit": 10000
     },
     "inputWidgets": {},
     "nuid": "ea492e75-932d-4cc2-931f-6bb2b708f114",
     "showTitle": false,
     "tableResultSettingsMap": {},
     "title": ""
    }
   },
   "outputs": [
    {
     "output_type": "execute_result",
     "data": {
      "text/plain": [
       "DataFrame[]"
      ]
     },
     "execution_count": 6,
     "metadata": {},
     "output_type": "execute_result"
    }
   ],
   "source": [
    "spark.sql(f\"CREATE VOLUME IF NOT EXISTS {catalog}.{schema}.{volume_label}\")"
   ]
  },
  {
   "cell_type": "code",
   "execution_count": 0,
   "metadata": {
    "application/vnd.databricks.v1+cell": {
     "cellMetadata": {},
     "inputWidgets": {},
     "nuid": "964a1840-2efb-4719-90a3-7fef81545fbb",
     "showTitle": true,
     "tableResultSettingsMap": {},
     "title": "Save model to a volume for use as artifact"
    }
   },
   "outputs": [],
   "source": [
    "current_device = \"cuda:0\" if torch.cuda.is_available() else \"cpu\"\n",
    "model_name = \"nomic-ai/colnomic-embed-multimodal-7b\"\n",
    "\n",
    "model = ColQwen2_5.from_pretrained(\n",
    "    model_name,\n",
    "    torch_dtype=torch.bfloat16,\n",
    "    device_map=\"cuda:0\",\n",
    "    attn_implementation=\"flash_attention_2\" if is_flash_attn_2_available() else None,\n",
    ").eval()\n",
    "processor = ColQwen2_5_Processor.from_pretrained(model_name, cache_dir=volume_name) #change this to YOUR volume path. It can be the same volume path"
   ]
  },
  {
   "cell_type": "markdown",
   "metadata": {
    "application/vnd.databricks.v1+cell": {
     "cellMetadata": {},
     "inputWidgets": {},
     "nuid": "67f77b6c-b0ad-4aeb-ae5c-b7e7922df62a",
     "showTitle": false,
     "tableResultSettingsMap": {},
     "title": ""
    }
   },
   "source": [
    "#Wrap logic into a PythonModel for mlflow Pyfunc\n",
    "\n",
    "We will wrap some python logic and the model itself into a mlflow.PythonModel so that we can register the model with some logic to Unity Catalog. \n",
    "\n",
    "Pyfunc allows us to package up our model with code using PythonModel, enabling model as code. This allows us to pass in images of different formats like url or base64 and still be able to process the image"
   ]
  },
  {
   "cell_type": "code",
   "execution_count": 0,
   "metadata": {
    "application/vnd.databricks.v1+cell": {
     "cellMetadata": {
      "byteLimit": 2048000,
      "rowLimit": 10000
     },
     "inputWidgets": {},
     "nuid": "edf03cf2-c08e-4028-8c9d-d80fe3d8de56",
     "showTitle": true,
     "tableResultSettingsMap": {},
     "title": "New Code"
    }
   },
   "outputs": [
    {
     "output_type": "stream",
     "name": "stderr",
     "output_type": "stream",
     "text": [
      "/local_disk0/.ephemeral_nfs/envs/pythonEnv-18914d00-e0f3-4e43-9683-a9a6e9561fc7/lib/python3.12/site-packages/mlflow/pyfunc/utils/data_validation.py:186: UserWarning: \u001B[33mAdd type hints to the `predict` method to enable data validation and automatic signature inference during model logging. Check https://mlflow.org/docs/latest/model/python_model.html#type-hint-usage-in-pythonmodel for more details.\u001B[0m\n  color_warning(\n"
     ]
    }
   ],
   "source": [
    "\n",
    "class ColQwenInferenceModel(PythonModel):\n",
    "    def load_context(self, context):\n",
    "        self.current_device = \"cuda:0\" if torch.cuda.is_available() else \"cpu\" \n",
    "        self.model_name = \"nomic-ai/colnomic-embed-multimodal-7b\"\n",
    "\n",
    "        #download the model from your CACHE which should be saved to a volume in the cell before\n",
    "        self.model = ColQwen2_5.from_pretrained(\n",
    "            self.model_name,\n",
    "            torch_dtype=torch.bfloat16,\n",
    "            device_map=self.current_device,\n",
    "            attn_implementation=\"flash_attention_2\" if is_flash_attn_2_available() else None,\n",
    "            cache_dir=context.artifacts['cache'] #this is how you refer to mlflow logged artifacts               \n",
    "        ).eval()\n",
    "        self.processor = ColQwen2_5_Processor.from_pretrained(self.model_name, cache_dir=context.artifacts['cache'])#this is how you refer to mlflow logged artifacts  \n",
    "\n",
    "    def generate_image_embedding_from_base64_string(self, base64_string):\n",
    "        \"\"\"\n",
    "        Generate embeddings for an image from a base64 encoded string using the ColQwen2.5 model.\n",
    "        \n",
    "        Then, flattens the embedding, so it can be used for semantic search.\n",
    "        \n",
    "        Args:\n",
    "            base64_string: Base64 encoded string of the image\n",
    "            \n",
    "        Returns:\n",
    "            Dictionary containing flattened image embedding and time it took to generate the embedding.\n",
    "        \"\"\"\n",
    "        \n",
    "        try:\n",
    "\n",
    "            image_data = base64.b64decode(base64_string)\n",
    "            image = Image.open(BytesIO(image_data)).convert(\"RGB\")  # Ensure RGB mode\n",
    "            \n",
    "            processed_image = self.processor.process_images([image]).to(self.model.device)\n",
    "\n",
    "            with torch.no_grad():\n",
    "                image_embedding = self.model(**processed_image)\n",
    "\n",
    "            image_embedding_flat = image_embedding.mean(dim=1).tolist()[0]\n",
    "            return {\"embedding\": image_embedding_flat}\n",
    "        except Exception as e:\n",
    "            print(f\"Error processing image: {e}\")\n",
    "            return None\n",
    "        \n",
    "    def generate_text_embedding(self, text):\n",
    "        \"\"\"\n",
    "        Generate embeddings for a text using the ColQwen2.5 model.\n",
    "        \n",
    "        Then, flattens the embedding, so it can be used for semantic search.\n",
    "        \"\"\" \n",
    "        try:\n",
    "            inputs = self.processor.process_queries([text]).to(self.model.device)\n",
    "            with torch.no_grad():\n",
    "                text_embedding_mutivec = self.model(**inputs)\n",
    "            text_embedding_flat = text_embedding_mutivec.mean(dim=1).tolist()[0]\n",
    "            return {\"embedding\": text_embedding_flat}\n",
    "           \n",
    "        except Exception as e:\n",
    "            print(f\"Error processing text: {e}\")\n",
    "            return None\n",
    "        \n",
    "\n",
    "    def predict(self, context, model_input):\n",
    "        \"\"\"\n",
    "        model_input: Could be a pandas DataFrame with either a 'text' column \n",
    "            or an 'image_base64' column (base64 string).\n",
    "        Note: MLflow’s pyfunc model flavor enforces a DataFrame-based contract under the hood. \n",
    "        So, if you pass a dict, it will be converted to a DataFrame\n",
    "\n",
    "        Example input:\n",
    "            {\n",
    "                \"text\": \"Hello, world!\"\n",
    "            }\n",
    "        or\n",
    "            {   \n",
    "                \"image_base64\": \"just_base64_string_of_image\" \n",
    "            }\n",
    "        * Note: data:image/png;base64, not necessary for image_base64 value.\n",
    "        \"\"\"\n",
    "        # Determine if input is text or image\n",
    "        if isinstance(model_input, pd.DataFrame):\n",
    "            if 'text' in model_input.columns and 'image_base64' in model_input.columns:\n",
    "\n",
    "                text_embedding = self.generate_text_embedding(model_input['text'].to_list()[0])\n",
    "                image_embedding = self.generate_image_embedding_from_base64_string(model_input['image_base64'].to_list()[0])\n",
    "                return {\"predictions\": [text_embedding, image_embedding]}\n",
    "\n",
    "            elif 'text' in model_input.columns:\n",
    "                embedding = self.generate_text_embedding(model_input['text'].to_list()[0])\n",
    "                return {\"predictions\": embedding}\n",
    "\n",
    "            elif 'image_base64' in model_input.columns:\n",
    "\n",
    "                embedding = self.generate_image_embedding_from_base64_string(model_input['image_base64'].to_list()[0])\n",
    "                return {\"predictions\": embedding}\n",
    "            \n",
    "        elif isinstance(model_input, dict):\n",
    "\n",
    "            if 'text' in model_input and model_input['text'] and 'image_base64' in model_input and model_input['image_base64']:\n",
    "\n",
    "                text_embedding = self.generate_text_embedding(model_input['text'])\n",
    "                image_embedding = self.generate_image_embedding_from_base64_string(model_input['image_base64'])\n",
    "                return {\"predictions\": [text_embedding, image_embedding]}\n",
    "\n",
    "            if 'text' in model_input and model_input['text']:\n",
    "\n",
    "                embedding = self.generate_text_embedding(model_input['text'])\n",
    "                return {\"predictions\": embedding}\n",
    "            elif 'image_base64' in model_input and model_input['image_base64']:\n",
    "\n",
    "                embedding = self.generate_image_embedding_from_base64_string(model_input['image_base64'])\n",
    "                return {\"predictions\": embedding}\n",
    "\n",
    "        raise ValueError(f\"Invalid input format. Your input type was: {type(model_input)}. Expected a dictionary or pandas DataFrame with 'text' or 'image_base64' keys.\")\n"
   ]
  },
  {
   "cell_type": "markdown",
   "metadata": {
    "application/vnd.databricks.v1+cell": {
     "cellMetadata": {},
     "inputWidgets": {},
     "nuid": "0682e922-85ce-43b0-b850-6ba157c9d9eb",
     "showTitle": false,
     "tableResultSettingsMap": {},
     "title": ""
    }
   },
   "source": [
    "#Register to Unity Catalog using Mlflow \n",
    "\n",
    "We now log and register the created model above to Unity Catalog. You can adjust the model signature to adjust what inputs the model should accept. \n",
    "\n",
    "For the input_schema, we want a way to provide text OR images. That way, when we embed our text queries later to do similarity search on our vector search index, we only need to pass in text"
   ]
  },
  {
   "cell_type": "code",
   "execution_count": 0,
   "metadata": {
    "application/vnd.databricks.v1+cell": {
     "cellMetadata": {
      "byteLimit": 2048000,
      "rowLimit": 10000
     },
     "inputWidgets": {},
     "nuid": "ec9255e2-495b-4d47-9b11-99e928c5fbd5",
     "showTitle": false,
     "tableResultSettingsMap": {},
     "title": ""
    }
   },
   "outputs": [
    {
     "output_type": "stream",
     "name": "stdout",
     "output_type": "stream",
     "text": [
      "creating model signature. Creating examples of inputs\n"
     ]
    },
    {
     "output_type": "display_data",
     "data": {
      "application/vnd.jupyter.widget-view+json": {
       "model_id": "c7274a97377e4aa4bad9387cf01ba89e",
       "version_major": 2,
       "version_minor": 0
      },
      "text/plain": [
       "Downloading artifacts: 0it [00:00, ?it/s]"
      ]
     },
     "metadata": {},
     "output_type": "display_data"
    },
    {
     "output_type": "stream",
     "name": "stderr",
     "output_type": "stream",
     "text": [
      "2025/05/24 07:26:21 WARNING mlflow.utils.environment: Encountered an unexpected error while inferring pip requirements (model URI: /local_disk0/repl_tmp_data/ReplId-19700-8ca05-6/tmpa3_2fiq9/model, flavor: python_function). Fall back to return ['cloudpickle==2.2.1']. Set logging level to DEBUG to see the full traceback. \n2025/05/24 07:26:21 WARNING mlflow.utils.requirements_utils: Detected one or more mismatches between the model's dependencies and the current Python environment:\n - mlflow (current: 2.22.0, required: mlflow==2.15.1)\nTo fix the mismatches, call `mlflow.pyfunc.get_model_dependencies(model_uri)` to fetch the model's environment and install dependencies using the resulting environment file.\n"
     ]
    },
    {
     "output_type": "display_data",
     "data": {
      "application/vnd.jupyter.widget-view+json": {
       "model_id": "710cefc756464ab1bbb1b13037262bdd",
       "version_major": 2,
       "version_minor": 0
      },
      "text/plain": [
       "Uploading artifacts:   0%|          | 0/36 [00:00<?, ?it/s]"
      ]
     },
     "metadata": {},
     "output_type": "display_data"
    },
    {
     "output_type": "display_data",
     "data": {
      "application/vnd.jupyter.widget-view+json": {
       "model_id": "742a52fca91f4f6f892da608368acedc",
       "version_major": 2,
       "version_minor": 0
      },
      "text/plain": [
       "Uploading /local_disk0/repl_tmp_data/ReplId-19700-8ca05-6/tmpa3_2fiq9/model/artifacts/colnomic_model/models--n…"
      ]
     },
     "metadata": {},
     "output_type": "display_data"
    },
    {
     "output_type": "display_data",
     "data": {
      "application/vnd.jupyter.widget-view+json": {
       "model_id": "c2acebec061e4dc48bdd3e4b3f5aacc8",
       "version_major": 2,
       "version_minor": 0
      },
      "text/plain": [
       "Uploading /local_disk0/repl_tmp_data/ReplId-19700-8ca05-6/tmpa3_2fiq9/model/artifacts/colnomic_model/models--n…"
      ]
     },
     "metadata": {},
     "output_type": "display_data"
    },
    {
     "output_type": "display_data",
     "data": {
      "application/vnd.jupyter.widget-view+json": {
       "model_id": "856188417ef2478db91362fd7ee6b82f",
       "version_major": 2,
       "version_minor": 0
      },
      "text/plain": [
       "Uploading /local_disk0/repl_tmp_data/ReplId-19700-8ca05-6/tmpa3_2fiq9/model/artifacts/colnomic_model/models--n…"
      ]
     },
     "metadata": {},
     "output_type": "display_data"
    },
    {
     "output_type": "display_data",
     "data": {
      "application/vnd.jupyter.widget-view+json": {
       "model_id": "c08f92475be54549bcb4b96d38cf388b",
       "version_major": 2,
       "version_minor": 0
      },
      "text/plain": [
       "Uploading /local_disk0/repl_tmp_data/ReplId-19700-8ca05-6/tmpa3_2fiq9/model/artifacts/colnomic_model/models--n…"
      ]
     },
     "metadata": {},
     "output_type": "display_data"
    },
    {
     "output_type": "display_data",
     "data": {
      "application/vnd.jupyter.widget-view+json": {
       "model_id": "8a1cde64020b401893d0cd02ba5ef0c4",
       "version_major": 2,
       "version_minor": 0
      },
      "text/plain": [
       "Uploading /local_disk0/repl_tmp_data/ReplId-19700-8ca05-6/tmpa3_2fiq9/model/artifacts/colnomic_model/models--n…"
      ]
     },
     "metadata": {},
     "output_type": "display_data"
    },
    {
     "output_type": "display_data",
     "data": {
      "application/vnd.jupyter.widget-view+json": {
       "model_id": "2742ebd7f6264caf86dfdae76bdae8f8",
       "version_major": 2,
       "version_minor": 0
      },
      "text/plain": [
       "Uploading /local_disk0/repl_tmp_data/ReplId-19700-8ca05-6/tmpa3_2fiq9/model/artifacts/colnomic_model/models--n…"
      ]
     },
     "metadata": {},
     "output_type": "display_data"
    },
    {
     "output_type": "display_data",
     "data": {
      "application/vnd.jupyter.widget-view+json": {
       "model_id": "22f9546c393d4ea5890cead3c581d5b4",
       "version_major": 2,
       "version_minor": 0
      },
      "text/plain": [
       "Uploading /local_disk0/repl_tmp_data/ReplId-19700-8ca05-6/tmpa3_2fiq9/model/artifacts/colnomic_model/models--n…"
      ]
     },
     "metadata": {},
     "output_type": "display_data"
    },
    {
     "output_type": "stream",
     "name": "stderr",
     "output_type": "stream",
     "text": [
      "Registered model 'austin_choi_demo_catalog.agents.colNomic_DSA' already exists. Creating a new version of this model...\n"
     ]
    },
    {
     "output_type": "display_data",
     "data": {
      "application/vnd.jupyter.widget-view+json": {
       "model_id": "1d0e956b035844a887981544f681ac58",
       "version_major": 2,
       "version_minor": 0
      },
      "text/plain": [
       "Uploading artifacts:   0%|          | 0/36 [00:00<?, ?it/s]"
      ]
     },
     "metadata": {},
     "output_type": "display_data"
    },
    {
     "output_type": "display_data",
     "data": {
      "application/vnd.jupyter.widget-view+json": {
       "model_id": "ee73e1304f114473b43631041bbbb722",
       "version_major": 2,
       "version_minor": 0
      },
      "text/plain": [
       "Uploading /local_disk0/repl_tmp_data/ReplId-19700-8ca05-6/tmpa3_2fiq9/model/artifacts/colnomic_model/models--n…"
      ]
     },
     "metadata": {},
     "output_type": "display_data"
    },
    {
     "output_type": "display_data",
     "data": {
      "application/vnd.jupyter.widget-view+json": {
       "model_id": "d26f2453af30492492fbf22edf3b6d4f",
       "version_major": 2,
       "version_minor": 0
      },
      "text/plain": [
       "Uploading /local_disk0/repl_tmp_data/ReplId-19700-8ca05-6/tmpa3_2fiq9/model/artifacts/colnomic_model/models--n…"
      ]
     },
     "metadata": {},
     "output_type": "display_data"
    },
    {
     "output_type": "display_data",
     "data": {
      "application/vnd.jupyter.widget-view+json": {
       "model_id": "62c2c763678f43d6ba3b8f0b2a159afb",
       "version_major": 2,
       "version_minor": 0
      },
      "text/plain": [
       "Uploading /local_disk0/repl_tmp_data/ReplId-19700-8ca05-6/tmpa3_2fiq9/model/artifacts/colnomic_model/models--n…"
      ]
     },
     "metadata": {},
     "output_type": "display_data"
    },
    {
     "output_type": "display_data",
     "data": {
      "application/vnd.jupyter.widget-view+json": {
       "model_id": "31a7da1ca450480c911053e912c7f0cb",
       "version_major": 2,
       "version_minor": 0
      },
      "text/plain": [
       "Uploading /local_disk0/repl_tmp_data/ReplId-19700-8ca05-6/tmpa3_2fiq9/model/artifacts/colnomic_model/models--n…"
      ]
     },
     "metadata": {},
     "output_type": "display_data"
    },
    {
     "output_type": "display_data",
     "data": {
      "application/vnd.jupyter.widget-view+json": {
       "model_id": "6a657786e2dd42c6a6616bd962d9405e",
       "version_major": 2,
       "version_minor": 0
      },
      "text/plain": [
       "Uploading /local_disk0/repl_tmp_data/ReplId-19700-8ca05-6/tmpa3_2fiq9/model/artifacts/colnomic_model/models--n…"
      ]
     },
     "metadata": {},
     "output_type": "display_data"
    },
    {
     "output_type": "display_data",
     "data": {
      "application/vnd.jupyter.widget-view+json": {
       "model_id": "e60890cfa33a49cd8132a4b1c0d7015d",
       "version_major": 2,
       "version_minor": 0
      },
      "text/plain": [
       "Uploading /local_disk0/repl_tmp_data/ReplId-19700-8ca05-6/tmpa3_2fiq9/model/artifacts/colnomic_model/models--n…"
      ]
     },
     "metadata": {},
     "output_type": "display_data"
    },
    {
     "output_type": "display_data",
     "data": {
      "application/vnd.jupyter.widget-view+json": {
       "model_id": "a7e788af11ac4b97a057e66f17006430",
       "version_major": 2,
       "version_minor": 0
      },
      "text/plain": [
       "Uploading /local_disk0/repl_tmp_data/ReplId-19700-8ca05-6/tmpa3_2fiq9/model/artifacts/colnomic_model/models--n…"
      ]
     },
     "metadata": {},
     "output_type": "display_data"
    },
    {
     "output_type": "stream",
     "name": "stderr",
     "output_type": "stream",
     "text": [
      "Created version '6' of model 'austin_choi_demo_catalog.agents.colnomic_dsa'.\n2025/05/24 07:27:51 INFO mlflow.tracking._tracking_service.client: 🏃 View run bemused-doe-419 at: e2-demo-field-eng.cloud.databricks.com/ml/experiments/2588019255055285/runs/77f57cd0c01b43e6a06362abc095f816.\n2025/05/24 07:27:51 INFO mlflow.tracking._tracking_service.client: 🧪 View experiment at: e2-demo-field-eng.cloud.databricks.com/ml/experiments/2588019255055285.\n"
     ]
    }
   ],
   "source": [
    "input_schema = Schema([\n",
    "    ColSpec(\"string\", \"text\", required=False),         # Optional text input.\n",
    "    ColSpec(\"string\", \"image_base64\", required=False)  # Optional base64 image input\n",
    "])\n",
    "\n",
    "output_schema = Schema([\n",
    "    TensorSpec(np.dtype(\"float32\"), (128,), \"embedding\"), \n",
    "])\n",
    "\n",
    "\n",
    "# Create the model signature\n",
    "print(\"creating model signature. Creating examples of inputs\")\n",
    "signature = ModelSignature(inputs=input_schema, outputs=output_schema)\n",
    "\n",
    "with mlflow.start_run():\n",
    "    mlflow.pyfunc.log_model(\n",
    "        artifact_path=\"colNomic_model\",\n",
    "        artifacts={'cache': volume_name},\n",
    "        python_model=ColQwenInferenceModel(),\n",
    "        signature=signature,\n",
    "        registered_model_name=registered_model_name,\n",
    "        extra_pip_requirements=[\"git+https://github.com/illuin-tech/colpali\", \"torchvision\"]\n",
    "    )"
   ]
  },
  {
   "cell_type": "markdown",
   "metadata": {
    "application/vnd.databricks.v1+cell": {
     "cellMetadata": {},
     "inputWidgets": {},
     "nuid": "75411a10-cd21-4473-a2c4-5f5517c54c0e",
     "showTitle": false,
     "tableResultSettingsMap": {},
     "title": ""
    }
   },
   "source": [
    "#Test the model registered correctly\n",
    "\n",
    "Sometimes, mlflow.autolog does not always capture all dependencies or the inputs aren't formatted correctly for the model to properly run inference. We should load the model we just registered and test it locally to ensure we registered it correctly. "
   ]
  },
  {
   "cell_type": "code",
   "execution_count": 0,
   "metadata": {
    "application/vnd.databricks.v1+cell": {
     "cellMetadata": {
      "byteLimit": 2048000,
      "rowLimit": 10000
     },
     "inputWidgets": {},
     "nuid": "cb567718-82da-438a-810f-613f1c42585b",
     "showTitle": true,
     "tableResultSettingsMap": {},
     "title": "Example picture to test"
    }
   },
   "outputs": [],
   "source": [
    "import requests\n",
    "from PIL import Image\n",
    "from io import BytesIO\n",
    "import base64\n",
    "image_url = \"https://miro.medium.com/v2/resize:fit:447/1*G0CAXQqb250tgBMeeVvN6g.png\"\n",
    "response = requests.get(image_url)\n",
    "img = Image.open(BytesIO(response.content))\n",
    "buffer = BytesIO()\n",
    "img.save(buffer, format=img.format)\n",
    "img_bytes = buffer.getvalue()\n",
    "\n",
    "img_base64 = base64.b64encode(img_bytes).decode('utf-8')"
   ]
  },
  {
   "cell_type": "code",
   "execution_count": 0,
   "metadata": {
    "application/vnd.databricks.v1+cell": {
     "cellMetadata": {
      "byteLimit": 2048000,
      "rowLimit": 10000
     },
     "inputWidgets": {},
     "nuid": "36e9de51-49b3-45c9-9a08-0a3da2b8d8e9",
     "showTitle": true,
     "tableResultSettingsMap": {},
     "title": "Load the model for testing"
    }
   },
   "outputs": [
    {
     "output_type": "display_data",
     "data": {
      "application/vnd.jupyter.widget-view+json": {
       "model_id": "f525edf0bff8463d9b39e89eb7f039b8",
       "version_major": 2,
       "version_minor": 0
      },
      "text/plain": [
       "Downloading /local_disk0/repl_tmp_data/ReplId-19700-8ca05-6/tmpokfenh1t/artifacts/colnomic_model/models--nomic…"
      ]
     },
     "metadata": {},
     "output_type": "display_data"
    },
    {
     "output_type": "display_data",
     "data": {
      "application/vnd.jupyter.widget-view+json": {
       "model_id": "6467758e1f5b48c58c36ad5d450934a0",
       "version_major": 2,
       "version_minor": 0
      },
      "text/plain": [
       "Downloading /local_disk0/repl_tmp_data/ReplId-19700-8ca05-6/tmpokfenh1t/artifacts/colnomic_model/models--nomic…"
      ]
     },
     "metadata": {},
     "output_type": "display_data"
    },
    {
     "output_type": "display_data",
     "data": {
      "application/vnd.jupyter.widget-view+json": {
       "model_id": "ee8b200a331244adaec42292e10a6b01",
       "version_major": 2,
       "version_minor": 0
      },
      "text/plain": [
       "Downloading /local_disk0/repl_tmp_data/ReplId-19700-8ca05-6/tmpokfenh1t/artifacts/colnomic_model/models--nomic…"
      ]
     },
     "metadata": {},
     "output_type": "display_data"
    },
    {
     "output_type": "display_data",
     "data": {
      "application/vnd.jupyter.widget-view+json": {
       "model_id": "5cb5586fd3414b519f6f530224518c4e",
       "version_major": 2,
       "version_minor": 0
      },
      "text/plain": [
       "Downloading /local_disk0/repl_tmp_data/ReplId-19700-8ca05-6/tmpokfenh1t/artifacts/colnomic_model/models--nomic…"
      ]
     },
     "metadata": {},
     "output_type": "display_data"
    },
    {
     "output_type": "display_data",
     "data": {
      "application/vnd.jupyter.widget-view+json": {
       "model_id": "f553e48a95054ea6afd5ce469536339a",
       "version_major": 2,
       "version_minor": 0
      },
      "text/plain": [
       "Downloading /local_disk0/repl_tmp_data/ReplId-19700-8ca05-6/tmpokfenh1t/artifacts/colnomic_model/models--nomic…"
      ]
     },
     "metadata": {},
     "output_type": "display_data"
    },
    {
     "output_type": "display_data",
     "data": {
      "application/vnd.jupyter.widget-view+json": {
       "model_id": "7a789cf013a9485184c167f8ddf34b65",
       "version_major": 2,
       "version_minor": 0
      },
      "text/plain": [
       "Downloading /local_disk0/repl_tmp_data/ReplId-19700-8ca05-6/tmpokfenh1t/artifacts/colnomic_model/models--nomic…"
      ]
     },
     "metadata": {},
     "output_type": "display_data"
    },
    {
     "output_type": "display_data",
     "data": {
      "application/vnd.jupyter.widget-view+json": {
       "model_id": "c53910a33556483681054b4264f00d99",
       "version_major": 2,
       "version_minor": 0
      },
      "text/plain": [
       "Downloading /local_disk0/repl_tmp_data/ReplId-19700-8ca05-6/tmpokfenh1t/artifacts/colnomic_model/models--nomic…"
      ]
     },
     "metadata": {},
     "output_type": "display_data"
    },
    {
     "output_type": "display_data",
     "data": {
      "application/vnd.jupyter.widget-view+json": {
       "model_id": "bec7e6c63d734a6c8ac3fe4975bf949d",
       "version_major": 2,
       "version_minor": 0
      },
      "text/plain": [
       "Downloading artifacts:   0%|          | 0/36 [00:00<?, ?it/s]"
      ]
     },
     "metadata": {},
     "output_type": "display_data"
    },
    {
     "output_type": "display_data",
     "data": {
      "application/vnd.jupyter.widget-view+json": {
       "model_id": "c20a6a8e928842af863e377caea8f5a5",
       "version_major": 2,
       "version_minor": 0
      },
      "text/plain": [
       "Fetching 7 files:   0%|          | 0/7 [00:00<?, ?it/s]"
      ]
     },
     "metadata": {},
     "output_type": "display_data"
    },
    {
     "output_type": "display_data",
     "data": {
      "application/vnd.jupyter.widget-view+json": {
       "model_id": "e9ba54740de545dfbe745823435d7a16",
       "version_major": 2,
       "version_minor": 0
      },
      "text/plain": [
       "model-00002-of-00007.safetensors:   0%|          | 0.00/4.98G [00:00<?, ?B/s]"
      ]
     },
     "metadata": {},
     "output_type": "display_data"
    },
    {
     "output_type": "display_data",
     "data": {
      "application/vnd.jupyter.widget-view+json": {
       "model_id": "74e06c6bc19242f2afbd159d003e4a1f",
       "version_major": 2,
       "version_minor": 0
      },
      "text/plain": [
       "model-00005-of-00007.safetensors:   0%|          | 0.00/4.98G [00:00<?, ?B/s]"
      ]
     },
     "metadata": {},
     "output_type": "display_data"
    },
    {
     "output_type": "display_data",
     "data": {
      "application/vnd.jupyter.widget-view+json": {
       "model_id": "7d3d9926e4fc4e36a42f0401ae9890ac",
       "version_major": 2,
       "version_minor": 0
      },
      "text/plain": [
       "model-00007-of-00007.safetensors:   0%|          | 0.00/3.39G [00:00<?, ?B/s]"
      ]
     },
     "metadata": {},
     "output_type": "display_data"
    },
    {
     "output_type": "display_data",
     "data": {
      "application/vnd.jupyter.widget-view+json": {
       "model_id": "ffadf57beaa14c3f8f704bf3ab51e6ec",
       "version_major": 2,
       "version_minor": 0
      },
      "text/plain": [
       "model-00001-of-00007.safetensors:   0%|          | 0.00/4.95G [00:00<?, ?B/s]"
      ]
     },
     "metadata": {},
     "output_type": "display_data"
    },
    {
     "output_type": "display_data",
     "data": {
      "application/vnd.jupyter.widget-view+json": {
       "model_id": "c21dad5f45014ecb908ced3566fc6446",
       "version_major": 2,
       "version_minor": 0
      },
      "text/plain": [
       "model-00004-of-00007.safetensors:   0%|          | 0.00/5.00G [00:00<?, ?B/s]"
      ]
     },
     "metadata": {},
     "output_type": "display_data"
    },
    {
     "output_type": "display_data",
     "data": {
      "application/vnd.jupyter.widget-view+json": {
       "model_id": "d3a5743cdab945eea8c5b8349553153e",
       "version_major": 2,
       "version_minor": 0
      },
      "text/plain": [
       "model-00003-of-00007.safetensors:   0%|          | 0.00/4.93G [00:00<?, ?B/s]"
      ]
     },
     "metadata": {},
     "output_type": "display_data"
    },
    {
     "output_type": "display_data",
     "data": {
      "application/vnd.jupyter.widget-view+json": {
       "model_id": "82ee75d535694e2ca4d9c12ae37a3103",
       "version_major": 2,
       "version_minor": 0
      },
      "text/plain": [
       "model-00006-of-00007.safetensors:   0%|          | 0.00/4.93G [00:00<?, ?B/s]"
      ]
     },
     "metadata": {},
     "output_type": "display_data"
    },
    {
     "output_type": "display_data",
     "data": {
      "application/vnd.jupyter.widget-view+json": {
       "model_id": "296e16aa691b4269b28826c416ac7b69",
       "version_major": 2,
       "version_minor": 0
      },
      "text/plain": [
       "Loading checkpoint shards:   0%|          | 0/7 [00:00<?, ?it/s]"
      ]
     },
     "metadata": {},
     "output_type": "display_data"
    },
    {
     "output_type": "display_data",
     "data": {
      "application/vnd.jupyter.widget-view+json": {
       "model_id": "5d000e55615849d09fe9edba321440f3",
       "version_major": 2,
       "version_minor": 0
      },
      "text/plain": [
       "generation_config.json:   0%|          | 0.00/214 [00:00<?, ?B/s]"
      ]
     },
     "metadata": {},
     "output_type": "display_data"
    },
    {
     "output_type": "display_data",
     "data": {
      "application/vnd.jupyter.widget-view+json": {
       "model_id": "34064f8ca3de48118eccc96ca5160f67",
       "version_major": 2,
       "version_minor": 0
      },
      "text/plain": [
       "adapter_config.json:   0%|          | 0.00/805 [00:00<?, ?B/s]"
      ]
     },
     "metadata": {},
     "output_type": "display_data"
    },
    {
     "output_type": "display_data",
     "data": {
      "application/vnd.jupyter.widget-view+json": {
       "model_id": "49cea958731d4644aed1ba1c2e8513d6",
       "version_major": 2,
       "version_minor": 0
      },
      "text/plain": [
       "adapter_model.safetensors:   0%|          | 0.00/323M [00:00<?, ?B/s]"
      ]
     },
     "metadata": {},
     "output_type": "display_data"
    },
    {
     "output_type": "display_data",
     "data": {
      "application/vnd.jupyter.widget-view+json": {
       "model_id": "c463e6e410ce4e3fba21284ec4f0ac51",
       "version_major": 2,
       "version_minor": 0
      },
      "text/plain": [
       "preprocessor_config.json:   0%|          | 0.00/574 [00:00<?, ?B/s]"
      ]
     },
     "metadata": {},
     "output_type": "display_data"
    },
    {
     "output_type": "stream",
     "name": "stderr",
     "output_type": "stream",
     "text": [
      "Using a slow image processor as `use_fast` is unset and a slow processor was saved with this model. `use_fast=True` will be the default behavior in v4.52, even if the model was saved with a slow processor. This will result in minor differences in outputs. You'll still be able to use a slow processor with `use_fast=False`.\n"
     ]
    },
    {
     "output_type": "display_data",
     "data": {
      "application/vnd.jupyter.widget-view+json": {
       "model_id": "c79bd54defdd415d9ea37c4e0c8f13eb",
       "version_major": 2,
       "version_minor": 0
      },
      "text/plain": [
       "tokenizer_config.json:   0%|          | 0.00/7.33k [00:00<?, ?B/s]"
      ]
     },
     "metadata": {},
     "output_type": "display_data"
    },
    {
     "output_type": "display_data",
     "data": {
      "application/vnd.jupyter.widget-view+json": {
       "model_id": "a58f1410a49d46698f0c2f4aae5b05a2",
       "version_major": 2,
       "version_minor": 0
      },
      "text/plain": [
       "vocab.json:   0%|          | 0.00/2.78M [00:00<?, ?B/s]"
      ]
     },
     "metadata": {},
     "output_type": "display_data"
    },
    {
     "output_type": "display_data",
     "data": {
      "application/vnd.jupyter.widget-view+json": {
       "model_id": "d0bcc3426ea2420bb608da3d20384035",
       "version_major": 2,
       "version_minor": 0
      },
      "text/plain": [
       "merges.txt:   0%|          | 0.00/1.67M [00:00<?, ?B/s]"
      ]
     },
     "metadata": {},
     "output_type": "display_data"
    },
    {
     "output_type": "display_data",
     "data": {
      "application/vnd.jupyter.widget-view+json": {
       "model_id": "6f5a1d18a501479baa78c6a55cd9ffe8",
       "version_major": 2,
       "version_minor": 0
      },
      "text/plain": [
       "tokenizer.json:   0%|          | 0.00/11.4M [00:00<?, ?B/s]"
      ]
     },
     "metadata": {},
     "output_type": "display_data"
    },
    {
     "output_type": "display_data",
     "data": {
      "application/vnd.jupyter.widget-view+json": {
       "model_id": "b8ea480c572e4c42a2518a71968adb01",
       "version_major": 2,
       "version_minor": 0
      },
      "text/plain": [
       "added_tokens.json:   0%|          | 0.00/605 [00:00<?, ?B/s]"
      ]
     },
     "metadata": {},
     "output_type": "display_data"
    },
    {
     "output_type": "display_data",
     "data": {
      "application/vnd.jupyter.widget-view+json": {
       "model_id": "b6d0aeb8d55d44b29bee696ee6f726eb",
       "version_major": 2,
       "version_minor": 0
      },
      "text/plain": [
       "special_tokens_map.json:   0%|          | 0.00/613 [00:00<?, ?B/s]"
      ]
     },
     "metadata": {},
     "output_type": "display_data"
    },
    {
     "output_type": "display_data",
     "data": {
      "application/vnd.jupyter.widget-view+json": {
       "model_id": "33ea4b5f128945298cae840aca3449a5",
       "version_major": 2,
       "version_minor": 0
      },
      "text/plain": [
       "processor_config.json:   0%|          | 0.00/81.0 [00:00<?, ?B/s]"
      ]
     },
     "metadata": {},
     "output_type": "display_data"
    },
    {
     "output_type": "display_data",
     "data": {
      "application/vnd.jupyter.widget-view+json": {
       "model_id": "4e54aaa4783043f2b4ec8af75046eafc",
       "version_major": 2,
       "version_minor": 0
      },
      "text/plain": [
       "chat_template.json:   0%|          | 0.00/1.05k [00:00<?, ?B/s]"
      ]
     },
     "metadata": {},
     "output_type": "display_data"
    },
    {
     "output_type": "stream",
     "name": "stdout",
     "output_type": "stream",
     "text": [
      "{'predictions': [{'embedding': [0.053466796875, 0.032470703125, 0.05126953125, -0.010009765625, -0.03564453125, -0.21875, -0.0189208984375, -0.044921875, -0.03759765625, -0.006988525390625, 0.08447265625, 0.01318359375, 0.03173828125, 0.005035400390625, -0.055908203125, -0.07470703125, -0.0213623046875, 0.10400390625, 0.0054931640625, -0.1005859375, 0.07275390625, 0.0029754638671875, 0.015869140625, -0.0869140625, -0.044677734375, -0.0257568359375, -0.026611328125, 0.02587890625, 0.11083984375, 0.09765625, 0.05029296875, -0.05712890625, 0.0284423828125, 0.024658203125, -0.029052734375, -0.03466796875, -0.00555419921875, -0.047607421875, 0.02099609375, 0.0120849609375, 0.026611328125, 0.018798828125, 0.05615234375, -0.0098876953125, 0.003265380859375, -0.06201171875, -0.07421875, 0.003204345703125, 0.10498046875, 0.0155029296875, -0.029052734375, 0.0947265625, 0.053955078125, 0.0947265625, 0.0693359375, -0.038330078125, 0.0103759765625, -0.0751953125, 0.00262451171875, -0.06396484375, -0.0693359375, 0.033935546875, -0.083984375, -0.12158203125, -0.0025634765625, -0.0947265625, 0.031494140625, -0.1962890625, -0.0145263671875, 0.01556396484375, 0.04541015625, -0.0546875, 0.049560546875, -0.1201171875, 0.08935546875, 0.07177734375, 0.0264892578125, 0.07568359375, 0.083984375, -0.0084228515625, 0.00848388671875, -0.0303955078125, 0.0021209716796875, 0.099609375, -0.09228515625, 0.103515625, -0.154296875, 0.07861328125, -0.03369140625, -0.0291748046875, -0.0732421875, -0.034423828125, 0.0213623046875, -0.06201171875, 0.0791015625, 0.09765625, 0.08544921875, -0.1279296875, 0.001007080078125, -0.08984375, 0.0625, -0.05224609375, 0.078125, 0.057373046875, -0.037353515625, -0.068359375, 0.08203125, -0.0098876953125, -0.0712890625, -0.000823974609375, 0.0267333984375, -0.00811767578125, 0.03173828125, -0.036865234375, -0.0037384033203125, 0.02099609375, -0.041015625, 0.11279296875, 0.0218505859375, 0.0250244140625, 0.0341796875, 0.0556640625, -0.01287841796875, 0.076171875, -0.048583984375, -0.07470703125, -0.0264892578125, 0.06787109375]}, {'embedding': [0.0380859375, 0.0030364990234375, 0.07373046875, -0.0213623046875, -0.06640625, -0.06396484375, 0.00970458984375, 0.0057373046875, -0.040283203125, 0.01806640625, 0.031494140625, -0.02197265625, 0.0186767578125, 0.02880859375, -0.05517578125, -0.016845703125, -0.0020904541015625, 0.021240234375, -0.05908203125, 0.00933837890625, -0.035888671875, 0.0064697265625, 0.015380859375, -0.0220947265625, -0.046142578125, -0.034912109375, -0.053466796875, -0.032958984375, 0.00244140625, 0.0130615234375, -0.0035247802734375, 0.007354736328125, -0.05126953125, 0.061279296875, 0.01324462890625, -0.0419921875, 0.009033203125, -0.017333984375, 0.0252685546875, -0.021728515625, 0.02294921875, 0.0196533203125, 0.042236328125, 0.025146484375, -0.01495361328125, -0.0281982421875, -0.0673828125, 0.0255126953125, 0.07861328125, -0.01556396484375, -0.050537109375, 0.037109375, 0.0166015625, 0.05859375, 0.06494140625, -0.0017547607421875, 0.046875, 0.05078125, -0.05517578125, -0.033203125, -0.0458984375, -0.0810546875, -0.006500244140625, -0.044189453125, 0.0947265625, 0.006256103515625, -0.0113525390625, -0.064453125, -0.0196533203125, 0.0159912109375, 0.0034942626953125, -0.000125885009765625, 0.033935546875, -0.01177978515625, 0.004852294921875, 0.0198974609375, 0.002655029296875, 0.05126953125, 0.0576171875, -0.0286865234375, -0.04833984375, -0.0126953125, -0.005401611328125, 0.04931640625, -0.028564453125, 0.052978515625, -0.080078125, -0.008544921875, -0.052978515625, 0.002410888671875, 0.04833984375, 0.04345703125, -0.0947265625, -0.029296875, 0.0225830078125, 0.0625, 0.042724609375, -0.0771484375, -0.01153564453125, -0.0206298828125, -0.0084228515625, 0.028076171875, 0.09326171875, 0.0196533203125, -0.0400390625, -0.08203125, 0.0157470703125, -0.0308837890625, -0.022705078125, 0.0284423828125, -0.00885009765625, -0.0947265625, 0.10498046875, 0.013671875, -0.07666015625, 0.03271484375, -0.08984375, 0.09130859375, 0.00445556640625, 0.05322265625, 0.0255126953125, 0.0211181640625, 0.057373046875, -0.03271484375, -0.0087890625, 0.006072998046875, 0.06298828125, 0.01458740234375]}]}\n"
     ]
    }
   ],
   "source": [
    "import mlflow.pyfunc\n",
    "from PIL import Image\n",
    "\n",
    "model_version_uri = f\"models:/{registered_model_name}/1\" #load the model based on the version you want to use\n",
    "first_version = mlflow.pyfunc.load_model(model_version_uri)\n",
    "result = first_version.predict({'text':\"Is attention really all you need?\", 'image_base64': img_base64})\n",
    "print(result)"
   ]
  },
  {
   "cell_type": "markdown",
   "metadata": {
    "application/vnd.databricks.v1+cell": {
     "cellMetadata": {},
     "inputWidgets": {},
     "nuid": "423f5cba-50b7-43f0-9877-c3dcefb0cbc0",
     "showTitle": false,
     "tableResultSettingsMap": {},
     "title": ""
    }
   },
   "source": [
    "Looks like we are generating embeddings! Let's now deploy it to a model serving endpoint"
   ]
  },
  {
   "cell_type": "markdown",
   "metadata": {
    "application/vnd.databricks.v1+cell": {
     "cellMetadata": {},
     "inputWidgets": {},
     "nuid": "11497027-88eb-4fa0-ba19-326d1d4484a1",
     "showTitle": false,
     "tableResultSettingsMap": {},
     "title": ""
    }
   },
   "source": [
    "#Use the MLflow SDK to interact with your endpoint\n",
    "\n",
    "Because of the size of this model, we need some extra memory to deploy the model. You can always try to use the 3B model if you don't have the resources to deploy the 7B model. \n",
    "\n",
    "Just replace the reference to the model in the PythonModel with this string: nomic-ai/colnomic-embed-multimodal-3b\n",
    "\n",
    "Model Card: https://huggingface.co/nomic-ai/colnomic-embed-multimodal-3b\n",
    "\n",
    "Note: Depending on GPU availability, your deployment may fail\n",
    "\n",
    "Review the GPU workload types here: https://docs.databricks.com/aws/en/machine-learning/model-serving/create-manage-serving-endpoints#gpu-workload-types"
   ]
  },
  {
   "cell_type": "code",
   "execution_count": 0,
   "metadata": {
    "application/vnd.databricks.v1+cell": {
     "cellMetadata": {
      "byteLimit": 2048000,
      "rowLimit": 10000
     },
     "inputWidgets": {},
     "nuid": "54b540d9-fc3a-45b5-b1af-2f597893a1dd",
     "showTitle": false,
     "tableResultSettingsMap": {},
     "title": ""
    }
   },
   "outputs": [],
   "source": [
    "import mlflow.deployments\n",
    "\n",
    "client = mlflow.deployments.get_deploy_client(\"databricks\")"
   ]
  },
  {
   "cell_type": "code",
   "execution_count": 0,
   "metadata": {
    "application/vnd.databricks.v1+cell": {
     "cellMetadata": {
      "byteLimit": 2048000,
      "rowLimit": 10000
     },
     "inputWidgets": {},
     "nuid": "8457f176-c60d-41fb-95ac-7b947ebed324",
     "showTitle": false,
     "tableResultSettingsMap": {},
     "title": ""
    }
   },
   "outputs": [
    {
     "output_type": "stream",
     "name": "stdout",
     "output_type": "stream",
     "text": [
      "Deployment in progress... Status: IN_PROGRESS\nDeployment in progress... Status: IN_PROGRESS\nDeployment in progress... Status: IN_PROGRESS\nDeployment in progress... Status: IN_PROGRESS\nDeployment in progress... Status: IN_PROGRESS\nDeployment in progress... Status: IN_PROGRESS\nDeployment in progress... Status: IN_PROGRESS\nDeployment in progress... Status: IN_PROGRESS\nEndpoint is ready!\n"
     ]
    }
   ],
   "source": [
    "endpoint = client.create_endpoint(\n",
    "    name=model_endpoint_name,\n",
    "    config={\n",
    "        \"served_entities\": [\n",
    "            {\n",
    "                \"name\": model_name,\n",
    "                \"entity_name\": registered_model_name,\n",
    "                \"entity_version\": \"6\",\n",
    "                \"workload_size\": \"Small\",\n",
    "                \"workload_type\": \"MULTIGPU_MEDIUM\",\n",
    "                \"scale_to_zero_enabled\": True\n",
    "            }\n",
    "        ],\n",
    "        \"traffic_config\": {\n",
    "            \"routes\": [\n",
    "                {\n",
    "                    \"served_model_name\": model_name,\n",
    "                    \"traffic_percentage\": 100\n",
    "                }\n",
    "            ]\n",
    "        }\n",
    "    }\n",
    ")\n",
    "\n",
    "import time\n",
    "while True:\n",
    "    deployment = client.get_endpoint(model_endpoint_name)\n",
    "    \n",
    "    if deployment['state']['config_update'] == \"NOT_UPDATING\":\n",
    "        print(\"Endpoint is ready!\")\n",
    "        break\n",
    "    elif deployment['state']['config_update'] in [\"UPDATE_FAILED\", \"DEPLOYMENT_FAILED\"]:\n",
    "        print(f\"Deployment failed: {deployment['state']}\")\n",
    "        break\n",
    "    else:\n",
    "        print(f\"Deployment in progress... Status: {deployment['state']['config_update']}\")\n",
    "        time.sleep(30)"
   ]
  },
  {
   "cell_type": "markdown",
   "metadata": {
    "application/vnd.databricks.v1+cell": {
     "cellMetadata": {},
     "inputWidgets": {},
     "nuid": "10c34e3d-7cea-4139-ba69-8cfd0972f106",
     "showTitle": false,
     "tableResultSettingsMap": {},
     "title": ""
    }
   },
   "source": [
    "#Test the endpoint\n",
    "\n",
    "We should test to see if the model serving endpoint deployed correctly. \n",
    "\n",
    "Ensure the endpoint is spun up before testing. It will take some time.\n",
    "\n",
    "Once it is complete, run the cells below and you should see some embeddings! "
   ]
  },
  {
   "cell_type": "code",
   "execution_count": 0,
   "metadata": {
    "application/vnd.databricks.v1+cell": {
     "cellMetadata": {
      "byteLimit": 2048000,
      "rowLimit": 10000
     },
     "inputWidgets": {},
     "nuid": "551f6187-b867-4c03-bd8f-7533a90a9283",
     "showTitle": false,
     "tableResultSettingsMap": {},
     "title": ""
    }
   },
   "outputs": [
    {
     "output_type": "stream",
     "name": "stdout",
     "output_type": "stream",
     "text": [
      "Endpoint URL: https://e2-demo-field-eng.cloud.databricks.com/ml/endpoints/colNomic-embedding-generation\n"
     ]
    }
   ],
   "source": [
    "endpoint_name = model_endpoint_name\n",
    "databricks_instance = dbutils.entry_point.getDbutils().notebook().getContext().browserHostName().get()\n",
    "endpoint_url = f\"https://{databricks_instance}/ml/endpoints/{endpoint_name}\"\n",
    "print(f\"Endpoint URL: {endpoint_url}\")"
   ]
  },
  {
   "cell_type": "code",
   "execution_count": 0,
   "metadata": {
    "application/vnd.databricks.v1+cell": {
     "cellMetadata": {
      "byteLimit": 2048000,
      "rowLimit": 10000
     },
     "inputWidgets": {},
     "nuid": "b14f0a0b-5b04-4556-84da-d85d76a1ee75",
     "showTitle": false,
     "tableResultSettingsMap": {},
     "title": ""
    }
   },
   "outputs": [],
   "source": [
    "import requests\n",
    "from PIL import Image\n",
    "from io import BytesIO\n",
    "import base64\n",
    "image_url = \"https://miro.medium.com/v2/resize:fit:447/1*G0CAXQqb250tgBMeeVvN6g.png\"\n",
    "response = requests.get(image_url)\n",
    "img = Image.open(BytesIO(response.content))\n",
    "buffer = BytesIO()\n",
    "img.save(buffer, format=img.format)\n",
    "img_bytes = buffer.getvalue()\n",
    "\n",
    "img_base64 = base64.b64encode(img_bytes).decode('utf-8')"
   ]
  },
  {
   "cell_type": "code",
   "execution_count": 0,
   "metadata": {
    "application/vnd.databricks.v1+cell": {
     "cellMetadata": {
      "byteLimit": 2048000,
      "rowLimit": 10000
     },
     "inputWidgets": {},
     "nuid": "35bbf6f7-6ba9-4428-add2-6d7c958ed48e",
     "showTitle": false,
     "tableResultSettingsMap": {},
     "title": ""
    }
   },
   "outputs": [
    {
     "output_type": "stream",
     "name": "stdout",
     "output_type": "stream",
     "text": [
      "{'predictions': {'predictions': [{'embedding': [0.0106201171875, -0.0498046875, 0.0203857421875, -0.0947265625, 0.0106201171875, -0.0751953125, 0.0184326171875, -0.002227783203125, -0.0034637451171875, -0.01953125, 0.09130859375, -0.058837890625, 0.0771484375, 0.0244140625, -0.06982421875, 0.058837890625, 0.0257568359375, 0.039306640625, 0.0167236328125, 0.01300048828125, 0.09765625, -0.035888671875, -0.054443359375, 0.07373046875, -0.0015411376953125, 0.0172119140625, 0.0035552978515625, 0.00194549560546875, 0.02099609375, -0.052734375, 0.00106048583984375, -0.044189453125, -0.04052734375, -0.0751953125, -0.003997802734375, 0.0301513671875, 0.06884765625, -0.09765625, -0.0111083984375, -0.0302734375, 0.0166015625, 0.00750732421875, -0.055419921875, 0.041748046875, 0.033203125, -0.000507354736328125, -0.0888671875, 0.10498046875, -0.0498046875, -0.040283203125, -0.07470703125, -0.02392578125, -0.0908203125, 0.078125, 0.10205078125, -0.1455078125, 0.09521484375, 0.01263427734375, -0.055419921875, -0.03173828125, -0.056396484375, -0.041259765625, -0.10546875, 0.002532958984375, -0.046630859375, -0.01190185546875, -0.00994873046875, -0.0107421875, -0.0299072265625, -0.00762939453125, 0.040283203125, 0.01556396484375, -0.0086669921875, 0.04931640625, 0.01495361328125, 0.10595703125, 0.05078125, 0.07177734375, 0.11962890625, 0.07763671875, -0.07470703125, -0.068359375, -0.0179443359375, -0.007232666015625, -0.0263671875, 0.039794921875, -0.05029296875, 0.078125, -0.0732421875, 0.038330078125, 0.08349609375, 0.034423828125, -0.11376953125, -0.04296875, 0.0128173828125, -0.00909423828125, -0.006622314453125, -0.06787109375, 0.0732421875, -0.037109375, -0.0732421875, -0.01953125, -0.01025390625, -0.01141357421875, 0.05126953125, -0.0181884765625, -0.083984375, -0.0269775390625, 0.04296875, 0.032470703125, 0.00640869140625, -0.0859375, -0.05859375, 0.02099609375, -0.061279296875, -0.021240234375, -0.11376953125, 0.078125, 0.002593994140625, -0.013916015625, 0.1162109375, 0.11376953125, 0.0157470703125, 0.0301513671875, -0.08837890625, -0.031982421875, 0.00057220458984375, -0.047607421875]}, {'embedding': [0.038818359375, 0.0030059814453125, 0.0732421875, -0.0198974609375, -0.06591796875, -0.06298828125, 0.0093994140625, 0.006439208984375, -0.04052734375, 0.0177001953125, 0.0308837890625, -0.021728515625, 0.0174560546875, 0.0289306640625, -0.055419921875, -0.016845703125, -0.00101470947265625, 0.020263671875, -0.058837890625, 0.00958251953125, -0.034912109375, 0.0062255859375, 0.015869140625, -0.0220947265625, -0.046875, -0.033935546875, -0.05419921875, -0.033447265625, 0.0020904541015625, 0.01397705078125, -0.0033721923828125, 0.006988525390625, -0.051513671875, 0.06201171875, 0.01300048828125, -0.041748046875, 0.0091552734375, -0.017333984375, 0.0255126953125, -0.0220947265625, 0.022216796875, 0.02001953125, 0.043212890625, 0.0245361328125, -0.01470947265625, -0.0286865234375, -0.06787109375, 0.02587890625, 0.0791015625, -0.01495361328125, -0.049560546875, 0.037353515625, 0.0177001953125, 0.05859375, 0.064453125, -0.00244140625, 0.04638671875, 0.050537109375, -0.0546875, -0.034423828125, -0.0458984375, -0.08203125, -0.006500244140625, -0.044921875, 0.095703125, 0.005828857421875, -0.01153564453125, -0.064453125, -0.0191650390625, 0.014892578125, 0.0032806396484375, 0.000732421875, 0.033203125, -0.01129150390625, 0.004425048828125, 0.0196533203125, 0.004058837890625, 0.051513671875, 0.05712890625, -0.0284423828125, -0.0498046875, -0.01275634765625, -0.0038604736328125, 0.04931640625, -0.02880859375, 0.052978515625, -0.07958984375, -0.00872802734375, -0.053955078125, 0.00144195556640625, 0.048095703125, 0.0439453125, -0.09423828125, -0.0286865234375, 0.0228271484375, 0.06298828125, 0.042724609375, -0.0771484375, -0.0128173828125, -0.019287109375, -0.00830078125, 0.0267333984375, 0.09375, 0.02001953125, -0.041259765625, -0.08203125, 0.015869140625, -0.0322265625, -0.02294921875, 0.028076171875, -0.00823974609375, -0.09375, 0.10546875, 0.01458740234375, -0.07666015625, 0.0322265625, -0.09033203125, 0.091796875, 0.003753662109375, 0.0537109375, 0.02587890625, 0.0211181640625, 0.057861328125, -0.0322265625, -0.00823974609375, 0.00701904296875, 0.06396484375, 0.01556396484375]}]}}\nFinal Time: 227.14092373847961\n"
     ]
    }
   ],
   "source": [
    "import pandas as pd\n",
    "import time\n",
    "\n",
    "start_time = time.time()\n",
    "response = client.predict(\n",
    "            endpoint=model_endpoint_name,\n",
    "            inputs={\"dataframe_split\": {\n",
    "                    \"columns\": [\"text\", \"image_base64\"],\n",
    "                    \"data\": [[\"this is just a test\", img_base64]]\n",
    "                    }\n",
    "            }\n",
    "          )\n",
    "end_time = time.time()\n",
    "total_time = end_time-start_time\n",
    "print(response)\n",
    "print(f\"Final Time: {total_time}\")\n"
   ]
  },
  {
   "cell_type": "code",
   "execution_count": 0,
   "metadata": {
    "application/vnd.databricks.v1+cell": {
     "cellMetadata": {
      "byteLimit": 2048000,
      "rowLimit": 10000
     },
     "inputWidgets": {},
     "nuid": "6d3e72fc-c023-48f6-b510-fe36448d0b84",
     "showTitle": false,
     "tableResultSettingsMap": {},
     "title": ""
    }
   },
   "outputs": [
    {
     "output_type": "execute_result",
     "data": {
      "text/plain": [
       "[0.0106201171875,\n",
       " -0.0498046875,\n",
       " 0.0203857421875,\n",
       " -0.0947265625,\n",
       " 0.0106201171875,\n",
       " -0.0751953125,\n",
       " 0.0184326171875,\n",
       " -0.002227783203125,\n",
       " -0.0034637451171875,\n",
       " -0.01953125,\n",
       " 0.09130859375,\n",
       " -0.058837890625,\n",
       " 0.0771484375,\n",
       " 0.0244140625,\n",
       " -0.06982421875,\n",
       " 0.058837890625,\n",
       " 0.0257568359375,\n",
       " 0.039306640625,\n",
       " 0.0167236328125,\n",
       " 0.01300048828125,\n",
       " 0.09765625,\n",
       " -0.035888671875,\n",
       " -0.054443359375,\n",
       " 0.07373046875,\n",
       " -0.0015411376953125,\n",
       " 0.0172119140625,\n",
       " 0.0035552978515625,\n",
       " 0.00194549560546875,\n",
       " 0.02099609375,\n",
       " -0.052734375,\n",
       " 0.00106048583984375,\n",
       " -0.044189453125,\n",
       " -0.04052734375,\n",
       " -0.0751953125,\n",
       " -0.003997802734375,\n",
       " 0.0301513671875,\n",
       " 0.06884765625,\n",
       " -0.09765625,\n",
       " -0.0111083984375,\n",
       " -0.0302734375,\n",
       " 0.0166015625,\n",
       " 0.00750732421875,\n",
       " -0.055419921875,\n",
       " 0.041748046875,\n",
       " 0.033203125,\n",
       " -0.000507354736328125,\n",
       " -0.0888671875,\n",
       " 0.10498046875,\n",
       " -0.0498046875,\n",
       " -0.040283203125,\n",
       " -0.07470703125,\n",
       " -0.02392578125,\n",
       " -0.0908203125,\n",
       " 0.078125,\n",
       " 0.10205078125,\n",
       " -0.1455078125,\n",
       " 0.09521484375,\n",
       " 0.01263427734375,\n",
       " -0.055419921875,\n",
       " -0.03173828125,\n",
       " -0.056396484375,\n",
       " -0.041259765625,\n",
       " -0.10546875,\n",
       " 0.002532958984375,\n",
       " -0.046630859375,\n",
       " -0.01190185546875,\n",
       " -0.00994873046875,\n",
       " -0.0107421875,\n",
       " -0.0299072265625,\n",
       " -0.00762939453125,\n",
       " 0.040283203125,\n",
       " 0.01556396484375,\n",
       " -0.0086669921875,\n",
       " 0.04931640625,\n",
       " 0.01495361328125,\n",
       " 0.10595703125,\n",
       " 0.05078125,\n",
       " 0.07177734375,\n",
       " 0.11962890625,\n",
       " 0.07763671875,\n",
       " -0.07470703125,\n",
       " -0.068359375,\n",
       " -0.0179443359375,\n",
       " -0.007232666015625,\n",
       " -0.0263671875,\n",
       " 0.039794921875,\n",
       " -0.05029296875,\n",
       " 0.078125,\n",
       " -0.0732421875,\n",
       " 0.038330078125,\n",
       " 0.08349609375,\n",
       " 0.034423828125,\n",
       " -0.11376953125,\n",
       " -0.04296875,\n",
       " 0.0128173828125,\n",
       " -0.00909423828125,\n",
       " -0.006622314453125,\n",
       " -0.06787109375,\n",
       " 0.0732421875,\n",
       " -0.037109375,\n",
       " -0.0732421875,\n",
       " -0.01953125,\n",
       " -0.01025390625,\n",
       " -0.01141357421875,\n",
       " 0.05126953125,\n",
       " -0.0181884765625,\n",
       " -0.083984375,\n",
       " -0.0269775390625,\n",
       " 0.04296875,\n",
       " 0.032470703125,\n",
       " 0.00640869140625,\n",
       " -0.0859375,\n",
       " -0.05859375,\n",
       " 0.02099609375,\n",
       " -0.061279296875,\n",
       " -0.021240234375,\n",
       " -0.11376953125,\n",
       " 0.078125,\n",
       " 0.002593994140625,\n",
       " -0.013916015625,\n",
       " 0.1162109375,\n",
       " 0.11376953125,\n",
       " 0.0157470703125,\n",
       " 0.0301513671875,\n",
       " -0.08837890625,\n",
       " -0.031982421875,\n",
       " 0.00057220458984375,\n",
       " -0.047607421875]"
      ]
     },
     "execution_count": 7,
     "metadata": {},
     "output_type": "execute_result"
    }
   ],
   "source": [
    "response['predictions']['predictions'][0]['embedding']"
   ]
  },
  {
   "cell_type": "markdown",
   "metadata": {
    "application/vnd.databricks.v1+cell": {
     "cellMetadata": {},
     "inputWidgets": {},
     "nuid": "ddc0813d-397b-46fa-ab43-2a691a16476b",
     "showTitle": false,
     "tableResultSettingsMap": {},
     "title": ""
    }
   },
   "source": [
    "You're ready to set up our sample data! Continue to 02_PDF ETL to set up our PDF sources, create embeddings of them and load them into a vector search index"
   ]
  },
  {
   "cell_type": "code",
   "execution_count": 0,
   "metadata": {
    "application/vnd.databricks.v1+cell": {
     "cellMetadata": {},
     "inputWidgets": {},
     "nuid": "a95bee87-784e-4463-8eb8-5280a00cae5e",
     "showTitle": false,
     "tableResultSettingsMap": {},
     "title": ""
    }
   },
   "outputs": [],
   "source": []
  }
 ],
 "metadata": {
  "application/vnd.databricks.v1+notebook": {
   "computePreferences": null,
   "dashboards": [],
   "environmentMetadata": {
    "base_environment": "",
    "environment_version": "2"
   },
   "inputWidgetPreferences": null,
   "language": "python",
   "notebookMetadata": {
    "mostRecentlyExecutedCommandWithImplicitDF": {
     "commandId": 1880719540089351,
     "dataframes": [
      "_sqldf"
     ]
    },
    "pythonIndentUnit": 2
   },
   "notebookName": "01_colNomic Deployment",
   "widgets": {}
  },
  "language_info": {
   "name": "python"
  }
 },
 "nbformat": 4,
 "nbformat_minor": 0
}
