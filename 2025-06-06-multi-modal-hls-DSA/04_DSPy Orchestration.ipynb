{
 "cells": [
  {
   "cell_type": "markdown",
   "metadata": {
    "application/vnd.databricks.v1+cell": {
     "cellMetadata": {},
     "inputWidgets": {},
     "nuid": "a7eba6f2-54ff-4f25-9e05-df6fe6da2629",
     "showTitle": false,
     "tableResultSettingsMap": {},
     "title": ""
    }
   },
   "source": [
    "#Step 0: Set up\n",
    "\n",
    "You can use serverless compute to run this notebook or any other classical compute set up"
   ]
  },
  {
   "cell_type": "markdown",
   "metadata": {
    "application/vnd.databricks.v1+cell": {
     "cellMetadata": {},
     "inputWidgets": {},
     "nuid": "1893f48a-5287-4e85-837b-156171a6933a",
     "showTitle": false,
     "tableResultSettingsMap": {},
     "title": ""
    }
   },
   "source": [
    "#Introduction\n",
    "\n",
    "This is the final notebook from the DSA blogpost here: \n",
    "\n",
    "We will use DSPy to use everything you just created in the past 3 notebooks. DSPy's declarative framework and dspy.Module allows us to tightly modularize our code and use them interchangeably, not just in this code, but anywhere else. \n",
    "\n",
    "For example, you will be create a module to do a function call to a Genie Space. You can take that same module and use it elsewhere with no code change. You will see this in action below \n",
    "\n",
    "After this notebook, you will be able to: \n",
    "1. Use DSPy to call any LLM regardless of the provider \n",
    "2. Create dspy.Signatures to programatically develop instructions for your LLM\n",
    "3. Create dspy.Modules to put together your entire application \n",
    "4. Have a functioning assistant that can use any kind of data about a Patient!"
   ]
  },
  {
   "cell_type": "markdown",
   "metadata": {
    "application/vnd.databricks.v1+cell": {
     "cellMetadata": {},
     "inputWidgets": {},
     "nuid": "314dcf3d-7817-4357-80c9-a217aaf9b96e",
     "showTitle": false,
     "tableResultSettingsMap": {},
     "title": ""
    }
   },
   "source": [
    "#Install the Dependencies"
   ]
  },
  {
   "cell_type": "code",
   "execution_count": 0,
   "metadata": {
    "application/vnd.databricks.v1+cell": {
     "cellMetadata": {
      "byteLimit": 2048000,
      "rowLimit": 10000
     },
     "inputWidgets": {},
     "nuid": "7ff31c50-545d-4a4e-b121-10fdfbbfd60f",
     "showTitle": false,
     "tableResultSettingsMap": {},
     "title": ""
    }
   },
   "outputs": [
    {
     "output_type": "stream",
     "name": "stdout",
     "output_type": "stream",
     "text": [
      "Requirement already satisfied: databricks-sdk in /local_disk0/.ephemeral_nfs/envs/pythonEnv-55a1b8b3-ab4a-4c6d-ae47-bb1e9fa6341d/lib/python3.11/site-packages (0.55.0)\nRequirement already satisfied: mlflow in /local_disk0/.ephemeral_nfs/envs/pythonEnv-55a1b8b3-ab4a-4c6d-ae47-bb1e9fa6341d/lib/python3.11/site-packages (2.22.0)\nRequirement already satisfied: databricks-vectorsearch in /local_disk0/.ephemeral_nfs/envs/pythonEnv-55a1b8b3-ab4a-4c6d-ae47-bb1e9fa6341d/lib/python3.11/site-packages (0.56)\nRequirement already satisfied: dspy in /local_disk0/.ephemeral_nfs/envs/pythonEnv-55a1b8b3-ab4a-4c6d-ae47-bb1e9fa6341d/lib/python3.11/site-packages (2.6.27)\nRequirement already satisfied: pillow in /local_disk0/.ephemeral_nfs/envs/pythonEnv-55a1b8b3-ab4a-4c6d-ae47-bb1e9fa6341d/lib/python3.11/site-packages (11.2.1)\nRequirement already satisfied: litellm in /local_disk0/.ephemeral_nfs/envs/pythonEnv-55a1b8b3-ab4a-4c6d-ae47-bb1e9fa6341d/lib/python3.11/site-packages (1.72.0)\nCollecting litellm\n  Downloading litellm-1.72.1-py3-none-any.whl.metadata (39 kB)\nRequirement already satisfied: openai in /local_disk0/.ephemeral_nfs/envs/pythonEnv-55a1b8b3-ab4a-4c6d-ae47-bb1e9fa6341d/lib/python3.11/site-packages (1.84.0)\nRequirement already satisfied: requests<3,>=2.28.1 in /local_disk0/.ephemeral_nfs/envs/pythonEnv-55a1b8b3-ab4a-4c6d-ae47-bb1e9fa6341d/lib/python3.11/site-packages (from databricks-sdk) (2.32.3)\nRequirement already satisfied: google-auth~=2.0 in /databricks/python3/lib/python3.11/site-packages (from databricks-sdk) (2.35.0)\nRequirement already satisfied: mlflow-skinny==2.22.0 in /local_disk0/.ephemeral_nfs/envs/pythonEnv-55a1b8b3-ab4a-4c6d-ae47-bb1e9fa6341d/lib/python3.11/site-packages (from mlflow) (2.22.0)\nRequirement already satisfied: Flask<4 in /local_disk0/.ephemeral_nfs/envs/pythonEnv-55a1b8b3-ab4a-4c6d-ae47-bb1e9fa6341d/lib/python3.11/site-packages (from mlflow) (3.1.1)\nRequirement already satisfied: Jinja2<4,>=2.11 in /local_disk0/.ephemeral_nfs/envs/pythonEnv-55a1b8b3-ab4a-4c6d-ae47-bb1e9fa6341d/lib/python3.11/site-packages (from mlflow) (3.1.6)\nRequirement already satisfied: alembic!=1.10.0,<2 in /local_disk0/.ephemeral_nfs/envs/pythonEnv-55a1b8b3-ab4a-4c6d-ae47-bb1e9fa6341d/lib/python3.11/site-packages (from mlflow) (1.16.1)\nRequirement already satisfied: docker<8,>=4.0.0 in /local_disk0/.ephemeral_nfs/envs/pythonEnv-55a1b8b3-ab4a-4c6d-ae47-bb1e9fa6341d/lib/python3.11/site-packages (from mlflow) (7.1.0)\nRequirement already satisfied: graphene<4 in /local_disk0/.ephemeral_nfs/envs/pythonEnv-55a1b8b3-ab4a-4c6d-ae47-bb1e9fa6341d/lib/python3.11/site-packages (from mlflow) (3.4.3)\nRequirement already satisfied: gunicorn<24 in /local_disk0/.ephemeral_nfs/envs/pythonEnv-55a1b8b3-ab4a-4c6d-ae47-bb1e9fa6341d/lib/python3.11/site-packages (from mlflow) (23.0.0)\nRequirement already satisfied: markdown<4,>=3.3 in /local_disk0/.ephemeral_nfs/envs/pythonEnv-55a1b8b3-ab4a-4c6d-ae47-bb1e9fa6341d/lib/python3.11/site-packages (from mlflow) (3.8)\nRequirement already satisfied: matplotlib<4 in /databricks/python3/lib/python3.11/site-packages (from mlflow) (3.7.2)\nRequirement already satisfied: numpy<3 in /local_disk0/.ephemeral_nfs/envs/pythonEnv-55a1b8b3-ab4a-4c6d-ae47-bb1e9fa6341d/lib/python3.11/site-packages (from mlflow) (1.26.4)\nRequirement already satisfied: pandas<3 in /local_disk0/.ephemeral_nfs/envs/pythonEnv-55a1b8b3-ab4a-4c6d-ae47-bb1e9fa6341d/lib/python3.11/site-packages (from mlflow) (2.2.3)\nRequirement already satisfied: pyarrow<20,>=4.0.0 in /local_disk0/.ephemeral_nfs/envs/pythonEnv-55a1b8b3-ab4a-4c6d-ae47-bb1e9fa6341d/lib/python3.11/site-packages (from mlflow) (19.0.1)\nRequirement already satisfied: scikit-learn<2 in /databricks/python3/lib/python3.11/site-packages (from mlflow) (1.3.0)\nRequirement already satisfied: scipy<2 in /databricks/python3/lib/python3.11/site-packages (from mlflow) (1.11.1)\nRequirement already satisfied: sqlalchemy<3,>=1.4.0 in /local_disk0/.ephemeral_nfs/envs/pythonEnv-55a1b8b3-ab4a-4c6d-ae47-bb1e9fa6341d/lib/python3.11/site-packages (from mlflow) (2.0.41)\nRequirement already satisfied: cachetools<6,>=5.0.0 in /databricks/python3/lib/python3.11/site-packages (from mlflow-skinny==2.22.0->mlflow) (5.5.0)\nRequirement already satisfied: click<9,>=7.0 in /local_disk0/.ephemeral_nfs/envs/pythonEnv-55a1b8b3-ab4a-4c6d-ae47-bb1e9fa6341d/lib/python3.11/site-packages (from mlflow-skinny==2.22.0->mlflow) (8.2.1)\nRequirement already satisfied: cloudpickle<4 in /databricks/python3/lib/python3.11/site-packages (from mlflow-skinny==2.22.0->mlflow) (3.0.0)\nRequirement already satisfied: fastapi<1 in /local_disk0/.ephemeral_nfs/envs/pythonEnv-55a1b8b3-ab4a-4c6d-ae47-bb1e9fa6341d/lib/python3.11/site-packages (from mlflow-skinny==2.22.0->mlflow) (0.115.12)\nRequirement already satisfied: gitpython<4,>=3.1.9 in /databricks/python3/lib/python3.11/site-packages (from mlflow-skinny==2.22.0->mlflow) (3.1.43)\nRequirement already satisfied: importlib_metadata!=4.7.0,<9,>=3.7.0 in /local_disk0/.ephemeral_nfs/envs/pythonEnv-55a1b8b3-ab4a-4c6d-ae47-bb1e9fa6341d/lib/python3.11/site-packages (from mlflow-skinny==2.22.0->mlflow) (8.7.0)\nRequirement already satisfied: opentelemetry-api<3,>=1.9.0 in /local_disk0/.ephemeral_nfs/envs/pythonEnv-55a1b8b3-ab4a-4c6d-ae47-bb1e9fa6341d/lib/python3.11/site-packages (from mlflow-skinny==2.22.0->mlflow) (1.34.0)\nRequirement already satisfied: opentelemetry-sdk<3,>=1.9.0 in /local_disk0/.ephemeral_nfs/envs/pythonEnv-55a1b8b3-ab4a-4c6d-ae47-bb1e9fa6341d/lib/python3.11/site-packages (from mlflow-skinny==2.22.0->mlflow) (1.34.0)\nRequirement already satisfied: packaging<25 in /databricks/python3/lib/python3.11/site-packages (from mlflow-skinny==2.22.0->mlflow) (23.2)\nRequirement already satisfied: protobuf<7,>=3.12.0 in /databricks/python3/lib/python3.11/site-packages (from mlflow-skinny==2.22.0->mlflow) (5.29.3)\nRequirement already satisfied: pydantic<3,>=1.10.8 in /local_disk0/.ephemeral_nfs/envs/pythonEnv-55a1b8b3-ab4a-4c6d-ae47-bb1e9fa6341d/lib/python3.11/site-packages (from mlflow-skinny==2.22.0->mlflow) (2.11.5)\nRequirement already satisfied: pyyaml<7,>=5.1 in /databricks/python3/lib/python3.11/site-packages (from mlflow-skinny==2.22.0->mlflow) (6.0)\nRequirement already satisfied: sqlparse<1,>=0.4.0 in /databricks/python3/lib/python3.11/site-packages (from mlflow-skinny==2.22.0->mlflow) (0.5.1)\nRequirement already satisfied: typing-extensions<5,>=4.0.0 in /local_disk0/.ephemeral_nfs/envs/pythonEnv-55a1b8b3-ab4a-4c6d-ae47-bb1e9fa6341d/lib/python3.11/site-packages (from mlflow-skinny==2.22.0->mlflow) (4.14.0)\nRequirement already satisfied: uvicorn<1 in /local_disk0/.ephemeral_nfs/envs/pythonEnv-55a1b8b3-ab4a-4c6d-ae47-bb1e9fa6341d/lib/python3.11/site-packages (from mlflow-skinny==2.22.0->mlflow) (0.34.3)\nRequirement already satisfied: deprecation>=2 in /local_disk0/.ephemeral_nfs/envs/pythonEnv-55a1b8b3-ab4a-4c6d-ae47-bb1e9fa6341d/lib/python3.11/site-packages (from databricks-vectorsearch) (2.1.0)\nRequirement already satisfied: backoff>=2.2 in /local_disk0/.ephemeral_nfs/envs/pythonEnv-55a1b8b3-ab4a-4c6d-ae47-bb1e9fa6341d/lib/python3.11/site-packages (from dspy) (2.2.1)\nRequirement already satisfied: joblib~=1.3 in /local_disk0/.ephemeral_nfs/envs/pythonEnv-55a1b8b3-ab4a-4c6d-ae47-bb1e9fa6341d/lib/python3.11/site-packages (from dspy) (1.5.1)\nRequirement already satisfied: regex>=2023.10.3 in /local_disk0/.ephemeral_nfs/envs/pythonEnv-55a1b8b3-ab4a-4c6d-ae47-bb1e9fa6341d/lib/python3.11/site-packages (from dspy) (2024.11.6)\nRequirement already satisfied: ujson>=5.8.0 in /local_disk0/.ephemeral_nfs/envs/pythonEnv-55a1b8b3-ab4a-4c6d-ae47-bb1e9fa6341d/lib/python3.11/site-packages (from dspy) (5.10.0)\nRequirement already satisfied: tqdm>=4.66.1 in /local_disk0/.ephemeral_nfs/envs/pythonEnv-55a1b8b3-ab4a-4c6d-ae47-bb1e9fa6341d/lib/python3.11/site-packages (from dspy) (4.67.1)\nRequirement already satisfied: datasets>=2.14.6 in /local_disk0/.ephemeral_nfs/envs/pythonEnv-55a1b8b3-ab4a-4c6d-ae47-bb1e9fa6341d/lib/python3.11/site-packages (from dspy) (3.6.0)\nRequirement already satisfied: optuna>=3.4.0 in /local_disk0/.ephemeral_nfs/envs/pythonEnv-55a1b8b3-ab4a-4c6d-ae47-bb1e9fa6341d/lib/python3.11/site-packages (from dspy) (4.3.0)\nRequirement already satisfied: magicattr>=0.1.6 in /local_disk0/.ephemeral_nfs/envs/pythonEnv-55a1b8b3-ab4a-4c6d-ae47-bb1e9fa6341d/lib/python3.11/site-packages (from dspy) (0.1.6)\nRequirement already satisfied: diskcache>=5.6.0 in /local_disk0/.ephemeral_nfs/envs/pythonEnv-55a1b8b3-ab4a-4c6d-ae47-bb1e9fa6341d/lib/python3.11/site-packages (from dspy) (5.6.3)\nRequirement already satisfied: json-repair>=0.30.0 in /local_disk0/.ephemeral_nfs/envs/pythonEnv-55a1b8b3-ab4a-4c6d-ae47-bb1e9fa6341d/lib/python3.11/site-packages (from dspy) (0.46.0)\nRequirement already satisfied: tenacity>=8.2.3 in /local_disk0/.ephemeral_nfs/envs/pythonEnv-55a1b8b3-ab4a-4c6d-ae47-bb1e9fa6341d/lib/python3.11/site-packages (from dspy) (9.1.2)\nRequirement already satisfied: anyio in /local_disk0/.ephemeral_nfs/envs/pythonEnv-55a1b8b3-ab4a-4c6d-ae47-bb1e9fa6341d/lib/python3.11/site-packages (from dspy) (4.9.0)\nRequirement already satisfied: asyncer==0.0.8 in /local_disk0/.ephemeral_nfs/envs/pythonEnv-55a1b8b3-ab4a-4c6d-ae47-bb1e9fa6341d/lib/python3.11/site-packages (from dspy) (0.0.8)\nRequirement already satisfied: rich>=13.7.1 in /local_disk0/.ephemeral_nfs/envs/pythonEnv-55a1b8b3-ab4a-4c6d-ae47-bb1e9fa6341d/lib/python3.11/site-packages (from dspy) (14.0.0)\nRequirement already satisfied: aiohttp in /local_disk0/.ephemeral_nfs/envs/pythonEnv-55a1b8b3-ab4a-4c6d-ae47-bb1e9fa6341d/lib/python3.11/site-packages (from litellm) (3.12.9)\nRequirement already satisfied: httpx>=0.23.0 in /local_disk0/.ephemeral_nfs/envs/pythonEnv-55a1b8b3-ab4a-4c6d-ae47-bb1e9fa6341d/lib/python3.11/site-packages (from litellm) (0.28.1)\nRequirement already satisfied: jsonschema<5.0.0,>=4.22.0 in /local_disk0/.ephemeral_nfs/envs/pythonEnv-55a1b8b3-ab4a-4c6d-ae47-bb1e9fa6341d/lib/python3.11/site-packages (from litellm) (4.24.0)\nRequirement already satisfied: python-dotenv>=0.2.0 in /local_disk0/.ephemeral_nfs/envs/pythonEnv-55a1b8b3-ab4a-4c6d-ae47-bb1e9fa6341d/lib/python3.11/site-packages (from litellm) (1.1.0)\nRequirement already satisfied: tiktoken>=0.7.0 in /local_disk0/.ephemeral_nfs/envs/pythonEnv-55a1b8b3-ab4a-4c6d-ae47-bb1e9fa6341d/lib/python3.11/site-packages (from litellm) (0.9.0)\nRequirement already satisfied: tokenizers in /local_disk0/.ephemeral_nfs/envs/pythonEnv-55a1b8b3-ab4a-4c6d-ae47-bb1e9fa6341d/lib/python3.11/site-packages (from litellm) (0.21.1)\nRequirement already satisfied: distro<2,>=1.7.0 in /usr/lib/python3/dist-packages (from openai) (1.7.0)\nRequirement already satisfied: jiter<1,>=0.4.0 in /local_disk0/.ephemeral_nfs/envs/pythonEnv-55a1b8b3-ab4a-4c6d-ae47-bb1e9fa6341d/lib/python3.11/site-packages (from openai) (0.10.0)\nRequirement already satisfied: sniffio in /local_disk0/.ephemeral_nfs/envs/pythonEnv-55a1b8b3-ab4a-4c6d-ae47-bb1e9fa6341d/lib/python3.11/site-packages (from openai) (1.3.1)\nRequirement already satisfied: Mako in /local_disk0/.ephemeral_nfs/envs/pythonEnv-55a1b8b3-ab4a-4c6d-ae47-bb1e9fa6341d/lib/python3.11/site-packages (from alembic!=1.10.0,<2->mlflow) (1.3.10)\nRequirement already satisfied: idna>=2.8 in /databricks/python3/lib/python3.11/site-packages (from anyio->dspy) (3.4)\nRequirement already satisfied: filelock in /databricks/python3/lib/python3.11/site-packages (from datasets>=2.14.6->dspy) (3.13.4)\nRequirement already satisfied: dill<0.3.9,>=0.3.0 in /local_disk0/.ephemeral_nfs/envs/pythonEnv-55a1b8b3-ab4a-4c6d-ae47-bb1e9fa6341d/lib/python3.11/site-packages (from datasets>=2.14.6->dspy) (0.3.8)\nRequirement already satisfied: xxhash in /local_disk0/.ephemeral_nfs/envs/pythonEnv-55a1b8b3-ab4a-4c6d-ae47-bb1e9fa6341d/lib/python3.11/site-packages (from datasets>=2.14.6->dspy) (3.5.0)\nRequirement already satisfied: multiprocess<0.70.17 in /local_disk0/.ephemeral_nfs/envs/pythonEnv-55a1b8b3-ab4a-4c6d-ae47-bb1e9fa6341d/lib/python3.11/site-packages (from datasets>=2.14.6->dspy) (0.70.16)\nRequirement already satisfied: fsspec<=2025.3.0,>=2023.1.0 in /local_disk0/.ephemeral_nfs/envs/pythonEnv-55a1b8b3-ab4a-4c6d-ae47-bb1e9fa6341d/lib/python3.11/site-packages (from fsspec[http]<=2025.3.0,>=2023.1.0->datasets>=2.14.6->dspy) (2025.3.0)\nRequirement already satisfied: huggingface-hub>=0.24.0 in /local_disk0/.ephemeral_nfs/envs/pythonEnv-55a1b8b3-ab4a-4c6d-ae47-bb1e9fa6341d/lib/python3.11/site-packages (from datasets>=2.14.6->dspy) (0.32.4)\nRequirement already satisfied: urllib3>=1.26.0 in /databricks/python3/lib/python3.11/site-packages (from docker<8,>=4.0.0->mlflow) (1.26.16)\nRequirement already satisfied: blinker>=1.9.0 in /local_disk0/.ephemeral_nfs/envs/pythonEnv-55a1b8b3-ab4a-4c6d-ae47-bb1e9fa6341d/lib/python3.11/site-packages (from Flask<4->mlflow) (1.9.0)\nRequirement already satisfied: itsdangerous>=2.2.0 in /local_disk0/.ephemeral_nfs/envs/pythonEnv-55a1b8b3-ab4a-4c6d-ae47-bb1e9fa6341d/lib/python3.11/site-packages (from Flask<4->mlflow) (2.2.0)\nRequirement already satisfied: markupsafe>=2.1.1 in /local_disk0/.ephemeral_nfs/envs/pythonEnv-55a1b8b3-ab4a-4c6d-ae47-bb1e9fa6341d/lib/python3.11/site-packages (from Flask<4->mlflow) (3.0.2)\nRequirement already satisfied: werkzeug>=3.1.0 in /local_disk0/.ephemeral_nfs/envs/pythonEnv-55a1b8b3-ab4a-4c6d-ae47-bb1e9fa6341d/lib/python3.11/site-packages (from Flask<4->mlflow) (3.1.3)\nRequirement already satisfied: pyasn1-modules>=0.2.1 in /databricks/python3/lib/python3.11/site-packages (from google-auth~=2.0->databricks-sdk) (0.2.8)\nRequirement already satisfied: rsa<5,>=3.1.4 in /databricks/python3/lib/python3.11/site-packages (from google-auth~=2.0->databricks-sdk) (4.9)\nRequirement already satisfied: graphql-core<3.3,>=3.1 in /local_disk0/.ephemeral_nfs/envs/pythonEnv-55a1b8b3-ab4a-4c6d-ae47-bb1e9fa6341d/lib/python3.11/site-packages (from graphene<4->mlflow) (3.2.6)\nRequirement already satisfied: graphql-relay<3.3,>=3.1 in /local_disk0/.ephemeral_nfs/envs/pythonEnv-55a1b8b3-ab4a-4c6d-ae47-bb1e9fa6341d/lib/python3.11/site-packages (from graphene<4->mlflow) (3.2.0)\nRequirement already satisfied: python-dateutil<3,>=2.7.0 in /databricks/python3/lib/python3.11/site-packages (from graphene<4->mlflow) (2.8.2)\nRequirement already satisfied: certifi in /databricks/python3/lib/python3.11/site-packages (from httpx>=0.23.0->litellm) (2023.7.22)\nRequirement already satisfied: httpcore==1.* in /local_disk0/.ephemeral_nfs/envs/pythonEnv-55a1b8b3-ab4a-4c6d-ae47-bb1e9fa6341d/lib/python3.11/site-packages (from httpx>=0.23.0->litellm) (1.0.9)\nRequirement already satisfied: h11>=0.16 in /local_disk0/.ephemeral_nfs/envs/pythonEnv-55a1b8b3-ab4a-4c6d-ae47-bb1e9fa6341d/lib/python3.11/site-packages (from httpcore==1.*->httpx>=0.23.0->litellm) (0.16.0)\nRequirement already satisfied: zipp>=3.20 in /local_disk0/.ephemeral_nfs/envs/pythonEnv-55a1b8b3-ab4a-4c6d-ae47-bb1e9fa6341d/lib/python3.11/site-packages (from importlib_metadata!=4.7.0,<9,>=3.7.0->mlflow-skinny==2.22.0->mlflow) (3.22.0)\nRequirement already satisfied: attrs>=22.2.0 in /local_disk0/.ephemeral_nfs/envs/pythonEnv-55a1b8b3-ab4a-4c6d-ae47-bb1e9fa6341d/lib/python3.11/site-packages (from jsonschema<5.0.0,>=4.22.0->litellm) (25.3.0)\nRequirement already satisfied: jsonschema-specifications>=2023.03.6 in /local_disk0/.ephemeral_nfs/envs/pythonEnv-55a1b8b3-ab4a-4c6d-ae47-bb1e9fa6341d/lib/python3.11/site-packages (from jsonschema<5.0.0,>=4.22.0->litellm) (2025.4.1)\nRequirement already satisfied: referencing>=0.28.4 in /local_disk0/.ephemeral_nfs/envs/pythonEnv-55a1b8b3-ab4a-4c6d-ae47-bb1e9fa6341d/lib/python3.11/site-packages (from jsonschema<5.0.0,>=4.22.0->litellm) (0.36.2)\nRequirement already satisfied: rpds-py>=0.7.1 in /local_disk0/.ephemeral_nfs/envs/pythonEnv-55a1b8b3-ab4a-4c6d-ae47-bb1e9fa6341d/lib/python3.11/site-packages (from jsonschema<5.0.0,>=4.22.0->litellm) (0.25.1)\nRequirement already satisfied: contourpy>=1.0.1 in /databricks/python3/lib/python3.11/site-packages (from matplotlib<4->mlflow) (1.0.5)\nRequirement already satisfied: cycler>=0.10 in /databricks/python3/lib/python3.11/site-packages (from matplotlib<4->mlflow) (0.11.0)\nRequirement already satisfied: fonttools>=4.22.0 in /databricks/python3/lib/python3.11/site-packages (from matplotlib<4->mlflow) (4.25.0)\nRequirement already satisfied: kiwisolver>=1.0.1 in /databricks/python3/lib/python3.11/site-packages (from matplotlib<4->mlflow) (1.4.4)\nRequirement already satisfied: pyparsing<3.1,>=2.3.1 in /databricks/python3/lib/python3.11/site-packages (from matplotlib<4->mlflow) (3.0.9)\nRequirement already satisfied: colorlog in /local_disk0/.ephemeral_nfs/envs/pythonEnv-55a1b8b3-ab4a-4c6d-ae47-bb1e9fa6341d/lib/python3.11/site-packages (from optuna>=3.4.0->dspy) (6.9.0)\nRequirement already satisfied: pytz>=2020.1 in /databricks/python3/lib/python3.11/site-packages (from pandas<3->mlflow) (2022.7)\nRequirement already satisfied: tzdata>=2022.7 in /local_disk0/.ephemeral_nfs/envs/pythonEnv-55a1b8b3-ab4a-4c6d-ae47-bb1e9fa6341d/lib/python3.11/site-packages (from pandas<3->mlflow) (2025.2)\nRequirement already satisfied: annotated-types>=0.6.0 in /local_disk0/.ephemeral_nfs/envs/pythonEnv-55a1b8b3-ab4a-4c6d-ae47-bb1e9fa6341d/lib/python3.11/site-packages (from pydantic<3,>=1.10.8->mlflow-skinny==2.22.0->mlflow) (0.7.0)\nRequirement already satisfied: pydantic-core==2.33.2 in /local_disk0/.ephemeral_nfs/envs/pythonEnv-55a1b8b3-ab4a-4c6d-ae47-bb1e9fa6341d/lib/python3.11/site-packages (from pydantic<3,>=1.10.8->mlflow-skinny==2.22.0->mlflow) (2.33.2)\nRequirement already satisfied: typing-inspection>=0.4.0 in /local_disk0/.ephemeral_nfs/envs/pythonEnv-55a1b8b3-ab4a-4c6d-ae47-bb1e9fa6341d/lib/python3.11/site-packages (from pydantic<3,>=1.10.8->mlflow-skinny==2.22.0->mlflow) (0.4.1)\nRequirement already satisfied: charset-normalizer<4,>=2 in /databricks/python3/lib/python3.11/site-packages (from requests<3,>=2.28.1->databricks-sdk) (2.0.4)\nRequirement already satisfied: markdown-it-py>=2.2.0 in /local_disk0/.ephemeral_nfs/envs/pythonEnv-55a1b8b3-ab4a-4c6d-ae47-bb1e9fa6341d/lib/python3.11/site-packages (from rich>=13.7.1->dspy) (3.0.0)\nRequirement already satisfied: pygments<3.0.0,>=2.13.0 in /databricks/python3/lib/python3.11/site-packages (from rich>=13.7.1->dspy) (2.15.1)\nRequirement already satisfied: threadpoolctl>=2.0.0 in /databricks/python3/lib/python3.11/site-packages (from scikit-learn<2->mlflow) (2.2.0)\nRequirement already satisfied: greenlet>=1 in /local_disk0/.ephemeral_nfs/envs/pythonEnv-55a1b8b3-ab4a-4c6d-ae47-bb1e9fa6341d/lib/python3.11/site-packages (from sqlalchemy<3,>=1.4.0->mlflow) (3.2.2)\nRequirement already satisfied: aiohappyeyeballs>=2.5.0 in /local_disk0/.ephemeral_nfs/envs/pythonEnv-55a1b8b3-ab4a-4c6d-ae47-bb1e9fa6341d/lib/python3.11/site-packages (from aiohttp->litellm) (2.6.1)\nRequirement already satisfied: aiosignal>=1.1.2 in /local_disk0/.ephemeral_nfs/envs/pythonEnv-55a1b8b3-ab4a-4c6d-ae47-bb1e9fa6341d/lib/python3.11/site-packages (from aiohttp->litellm) (1.3.2)\nRequirement already satisfied: frozenlist>=1.1.1 in /local_disk0/.ephemeral_nfs/envs/pythonEnv-55a1b8b3-ab4a-4c6d-ae47-bb1e9fa6341d/lib/python3.11/site-packages (from aiohttp->litellm) (1.6.2)\nRequirement already satisfied: multidict<7.0,>=4.5 in /local_disk0/.ephemeral_nfs/envs/pythonEnv-55a1b8b3-ab4a-4c6d-ae47-bb1e9fa6341d/lib/python3.11/site-packages (from aiohttp->litellm) (6.4.4)\nRequirement already satisfied: propcache>=0.2.0 in /local_disk0/.ephemeral_nfs/envs/pythonEnv-55a1b8b3-ab4a-4c6d-ae47-bb1e9fa6341d/lib/python3.11/site-packages (from aiohttp->litellm) (0.3.1)\nRequirement already satisfied: yarl<2.0,>=1.17.0 in /local_disk0/.ephemeral_nfs/envs/pythonEnv-55a1b8b3-ab4a-4c6d-ae47-bb1e9fa6341d/lib/python3.11/site-packages (from aiohttp->litellm) (1.20.0)\nRequirement already satisfied: starlette<0.47.0,>=0.40.0 in /local_disk0/.ephemeral_nfs/envs/pythonEnv-55a1b8b3-ab4a-4c6d-ae47-bb1e9fa6341d/lib/python3.11/site-packages (from fastapi<1->mlflow-skinny==2.22.0->mlflow) (0.46.2)\nRequirement already satisfied: gitdb<5,>=4.0.1 in /databricks/python3/lib/python3.11/site-packages (from gitpython<4,>=3.1.9->mlflow-skinny==2.22.0->mlflow) (4.0.11)\nRequirement already satisfied: hf-xet<2.0.0,>=1.1.2 in /local_disk0/.ephemeral_nfs/envs/pythonEnv-55a1b8b3-ab4a-4c6d-ae47-bb1e9fa6341d/lib/python3.11/site-packages (from huggingface-hub>=0.24.0->datasets>=2.14.6->dspy) (1.1.3)\nRequirement already satisfied: mdurl~=0.1 in /local_disk0/.ephemeral_nfs/envs/pythonEnv-55a1b8b3-ab4a-4c6d-ae47-bb1e9fa6341d/lib/python3.11/site-packages (from markdown-it-py>=2.2.0->rich>=13.7.1->dspy) (0.1.2)\nRequirement already satisfied: opentelemetry-semantic-conventions==0.55b0 in /local_disk0/.ephemeral_nfs/envs/pythonEnv-55a1b8b3-ab4a-4c6d-ae47-bb1e9fa6341d/lib/python3.11/site-packages (from opentelemetry-sdk<3,>=1.9.0->mlflow-skinny==2.22.0->mlflow) (0.55b0)\nRequirement already satisfied: pyasn1<0.5.0,>=0.4.6 in /databricks/python3/lib/python3.11/site-packages (from pyasn1-modules>=0.2.1->google-auth~=2.0->databricks-sdk) (0.4.8)\nRequirement already satisfied: six>=1.5 in /usr/lib/python3/dist-packages (from python-dateutil<3,>=2.7.0->graphene<4->mlflow) (1.16.0)\nRequirement already satisfied: smmap<6,>=3.0.1 in /databricks/python3/lib/python3.11/site-packages (from gitdb<5,>=4.0.1->gitpython<4,>=3.1.9->mlflow-skinny==2.22.0->mlflow) (5.0.1)\nDownloading litellm-1.72.1-py3-none-any.whl (8.0 MB)\n\u001B[?25l   \u001B[90m━━━━━━━━━━━━━━━━━━━━━━━━━━━━━━━━━━━━━━━━\u001B[0m \u001B[32m0.0/8.0 MB\u001B[0m \u001B[31m?\u001B[0m eta \u001B[36m-:--:--\u001B[0m\n\u001B[2K   \u001B[91m━━━━━━━━━━━\u001B[0m\u001B[91m╸\u001B[0m\u001B[90m━━━━━━━━━━━━━━━━━━━━━━━━━━━━\u001B[0m \u001B[32m2.4/8.0 MB\u001B[0m \u001B[31m13.0 MB/s\u001B[0m eta \u001B[36m0:00:01\u001B[0m\n\u001B[2K   \u001B[91m━━━━━━━━━━━━━━━━━━━━━━━━━━━━━━━━━━━━━━━\u001B[0m\u001B[90m╺\u001B[0m \u001B[32m7.9/8.0 MB\u001B[0m \u001B[31m22.6 MB/s\u001B[0m eta \u001B[36m0:00:01\u001B[0m\n\u001B[2K   \u001B[90m━━━━━━━━━━━━━━━━━━━━━━━━━━━━━━━━━━━━━━━━\u001B[0m \u001B[32m8.0/8.0 MB\u001B[0m \u001B[31m20.3 MB/s\u001B[0m eta \u001B[36m0:00:00\u001B[0m\n\u001B[?25hInstalling collected packages: litellm\n  Attempting uninstall: litellm\n    Found existing installation: litellm 1.72.0\n    Uninstalling litellm-1.72.0:\n      Successfully uninstalled litellm-1.72.0\nSuccessfully installed litellm-1.72.1\n\u001B[43mNote: you may need to restart the kernel using %restart_python or dbutils.library.restartPython() to use updated packages.\u001B[0m\n"
     ]
    }
   ],
   "source": [
    "%pip install --upgrade databricks-sdk mlflow databricks-vectorsearch dspy pillow litellm openai\n",
    "dbutils.library.restartPython()"
   ]
  },
  {
   "cell_type": "code",
   "execution_count": 0,
   "metadata": {
    "application/vnd.databricks.v1+cell": {
     "cellMetadata": {
      "byteLimit": 2048000,
      "rowLimit": 10000
     },
     "inputWidgets": {},
     "nuid": "87314150-8343-4b4e-9269-c5d8749a73de",
     "showTitle": false,
     "tableResultSettingsMap": {},
     "title": ""
    }
   },
   "outputs": [],
   "source": [
    "import mlflow\n",
    "import mlflow.deployments\n",
    "import base64\n",
    "import io\n",
    "from PIL import Image\n",
    "import dspy\n",
    "from databricks.vector_search.client import VectorSearchClient\n",
    "\n",
    "client = mlflow.deployments.get_deploy_client(\"databricks\")\n",
    "mlflow.dspy.autolog() "
   ]
  },
  {
   "cell_type": "markdown",
   "metadata": {
    "application/vnd.databricks.v1+cell": {
     "cellMetadata": {},
     "inputWidgets": {},
     "nuid": "b72b88ff-d0f2-471a-9d5e-dc28ad44069b",
     "showTitle": false,
     "tableResultSettingsMap": {},
     "title": ""
    }
   },
   "source": [
    "#Configure an LLM provider for DSPy\n",
    "\n",
    "You can use dspy.LM to specify what LLM you would like to use. If you wish to change what LLM and what provider you want to use, you can use dspy.configure() to change it. No other code needs to be updated"
   ]
  },
  {
   "cell_type": "code",
   "execution_count": 0,
   "metadata": {
    "application/vnd.databricks.v1+cell": {
     "cellMetadata": {
      "byteLimit": 2048000,
      "rowLimit": 10000
     },
     "inputWidgets": {},
     "nuid": "284be52f-5887-494d-a350-426ea106e478",
     "showTitle": false,
     "tableResultSettingsMap": {},
     "title": ""
    }
   },
   "outputs": [],
   "source": [
    "import dspy\n",
    "\n",
    "claude = dspy.LM('databricks/databricks-claude-3-7-sonnet', cache=False)\n",
    "claude_anthropic = dspy.LM('anthropic/claude-sonnet-4-20250514', api_key=\"\", cache=False)\n",
    "# llama = dspy.LM('databricks/databricks-llama-4-maverick', cache=False)\n",
    "dspy.configure(lm=claude_anthropic)"
   ]
  },
  {
   "cell_type": "code",
   "execution_count": 0,
   "metadata": {
    "application/vnd.databricks.v1+cell": {
     "cellMetadata": {
      "byteLimit": 2048000,
      "rowLimit": 10000
     },
     "inputWidgets": {},
     "nuid": "c3e825b3-4603-4c5f-9aa8-c64e7b2f3c28",
     "showTitle": false,
     "tableResultSettingsMap": {},
     "title": ""
    }
   },
   "outputs": [],
   "source": [
    "from config import volume_label, volume_name, catalog, schema, model_name, model_endpoint_name, embedding_table_name, embedding_table_name_index, registered_model_name, vector_search_endpoint_name"
   ]
  },
  {
   "cell_type": "markdown",
   "metadata": {
    "application/vnd.databricks.v1+cell": {
     "cellMetadata": {},
     "inputWidgets": {},
     "nuid": "2d7413e4-dd28-4840-8da8-7bbacc714606",
     "showTitle": false,
     "tableResultSettingsMap": {},
     "title": ""
    }
   },
   "source": [
    "#Testing our tools\n",
    "\n",
    "Let's instantiate our tools and test that they still work"
   ]
  },
  {
   "cell_type": "markdown",
   "metadata": {
    "application/vnd.databricks.v1+cell": {
     "cellMetadata": {},
     "inputWidgets": {},
     "nuid": "64e0b918-0862-414d-9b25-5dd56721afec",
     "showTitle": false,
     "tableResultSettingsMap": {},
     "title": ""
    }
   },
   "source": [
    "##Vector Search Index"
   ]
  },
  {
   "cell_type": "code",
   "execution_count": 0,
   "metadata": {
    "application/vnd.databricks.v1+cell": {
     "cellMetadata": {
      "byteLimit": 2048000,
      "rowLimit": 10000
     },
     "inputWidgets": {},
     "nuid": "4f44475b-7ee7-4c52-bf16-902ab16096e4",
     "showTitle": false,
     "tableResultSettingsMap": {},
     "title": ""
    }
   },
   "outputs": [
    {
     "output_type": "stream",
     "name": "stdout",
     "output_type": "stream",
     "text": [
      "[NOTICE] Using a notebook authentication token. Recommended for development only. For improved performance, please use Service Principal based authentication. To disable this message, pass disable_notice=True.\n"
     ]
    }
   ],
   "source": [
    "vs_client = VectorSearchClient()\n",
    "\n",
    "vector_search_endpoint_name = \"one-env-shared-endpoint-4\"\n",
    "index_name = f\"{embedding_table_name}_index\""
   ]
  },
  {
   "cell_type": "code",
   "execution_count": 0,
   "metadata": {
    "application/vnd.databricks.v1+cell": {
     "cellMetadata": {
      "byteLimit": 2048000,
      "rowLimit": 10000
     },
     "inputWidgets": {},
     "nuid": "dc8284b0-dbda-4c32-9b66-5bffdc312dc0",
     "showTitle": false,
     "tableResultSettingsMap": {},
     "title": ""
    }
   },
   "outputs": [],
   "source": [
    "index = vs_client.get_index(endpoint_name=vector_search_endpoint_name, index_name=f\"{catalog}.{schema}.{index_name}\")"
   ]
  },
  {
   "cell_type": "markdown",
   "metadata": {
    "application/vnd.databricks.v1+cell": {
     "cellMetadata": {},
     "inputWidgets": {},
     "nuid": "b049c763-a40c-4b3c-82d0-6d8fad1da8b1",
     "showTitle": false,
     "tableResultSettingsMap": {},
     "title": ""
    }
   },
   "source": [
    "##Vector Search Index + Model Serving Endpoint"
   ]
  },
  {
   "cell_type": "code",
   "execution_count": 0,
   "metadata": {
    "application/vnd.databricks.v1+cell": {
     "cellMetadata": {
      "byteLimit": 2048000,
      "rowLimit": 10000
     },
     "inputWidgets": {},
     "nuid": "9f6f7996-bfd4-4c05-8ea3-34391cbca2f7",
     "showTitle": false,
     "tableResultSettingsMap": {},
     "title": ""
    }
   },
   "outputs": [
    {
     "output_type": "stream",
     "name": "stdout",
     "output_type": "stream",
     "text": [
      "[NOTICE] Using a notebook authentication token. Recommended for development only. For improved performance, please use Service Principal based authentication. To disable this message, pass disable_notice=True.\n"
     ]
    }
   ],
   "source": [
    "input_query = \"what is my deductible for united healthcare\"\n",
    "\n",
    "response = client.predict(\n",
    "            endpoint=model_endpoint_name,\n",
    "            inputs={\"dataframe_split\": {\n",
    "                    \"columns\": [\"text\"],\n",
    "                    \"data\": [[input_query]]\n",
    "                    }\n",
    "            }\n",
    "          )\n",
    "\n",
    "query_embedding = response['predictions']['predictions']['embedding']\n",
    "results = index.similarity_search(num_results=5, columns=[\"base64_image\"], query_vector=query_embedding)"
   ]
  },
  {
   "cell_type": "code",
   "execution_count": 0,
   "metadata": {
    "application/vnd.databricks.v1+cell": {
     "cellMetadata": {
      "byteLimit": 2048000,
      "rowLimit": 10000
     },
     "inputWidgets": {},
     "nuid": "217b1df4-63fd-4a14-8f8c-ba23a39ebfa3",
     "showTitle": false,
     "tableResultSettingsMap": {},
     "title": ""
    }
   },
   "outputs": [
    {
     "output_type": "stream",
     "name": "stdout",
     "output_type": "stream",
     "text": [
      "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\n\n*** WARNING: max output size exceeded, skipping output. ***\n\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\n"
     ]
    }
   ],
   "source": [
    "base64_test_retrieved = results['result']['data_array'][0][0]\n",
    "print(base64_test_retrieved) #the matching image vector search retrieved"
   ]
  },
  {
   "cell_type": "markdown",
   "metadata": {
    "application/vnd.databricks.v1+cell": {
     "cellMetadata": {},
     "inputWidgets": {},
     "nuid": "a63b8871-6663-4740-a3ea-fedce7b6f6ea",
     "showTitle": false,
     "tableResultSettingsMap": {},
     "title": ""
    }
   },
   "source": [
    "#Check your Genie Space\n",
    "\n",
    "Change the genie_space_id to the space you created in the 3rd notebook then run the cell. It should return some information about a patient. If it does not work initially, go into your data and find a patient it created as the same patient name may not have been generated"
   ]
  },
  {
   "cell_type": "code",
   "execution_count": 0,
   "metadata": {
    "application/vnd.databricks.v1+cell": {
     "cellMetadata": {
      "byteLimit": 2048000,
      "rowLimit": 10000
     },
     "inputWidgets": {},
     "nuid": "d8a1abbc-e2b8-440d-83cd-443bada4feb2",
     "showTitle": false,
     "tableResultSettingsMap": {},
     "title": ""
    }
   },
   "outputs": [
    {
     "output_type": "stream",
     "name": "stdout",
     "output_type": "stream",
     "text": [
      "[['Richard', 'Massey', 'UnitedHealth', 'HMO', None, 'alawrence@example.org', 'LA', '8216', 'Those government continue charge recognize decide seem again.', 'Physical Therapy']]\n"
     ]
    }
   ],
   "source": [
    "from databricks.sdk import WorkspaceClient\n",
    "from databricks.sdk.service.dashboards import GenieAPI\n",
    "\n",
    "def hls_patient_genie(sql_instruction):\n",
    "\n",
    "  w = WorkspaceClient()\n",
    "  genie_space_id = \"01effef4c7e113f9b8952cf568b49ac7\" #replace this with your genie space ID that you created\n",
    "\n",
    "  conversation = w.genie.start_conversation_and_wait(\n",
    "      space_id=genie_space_id,\n",
    "      content=f\"{sql_instruction} always limit to one result\"\n",
    "  )\n",
    "\n",
    "  response = w.genie.get_message_attachment_query_result(\n",
    "    space_id=genie_space_id,\n",
    "    conversation_id=conversation.conversation_id,\n",
    "    message_id=conversation.message_id,\n",
    "    attachment_id=conversation.attachments[0].attachment_id\n",
    "  )\n",
    "\n",
    "  return response.statement_response.result.data_array\n",
    "hls_result = hls_patient_genie(sql_instruction=\"Find information about Richard Massey\")\n",
    "print(hls_result)"
   ]
  },
  {
   "cell_type": "markdown",
   "metadata": {
    "application/vnd.databricks.v1+cell": {
     "cellMetadata": {},
     "inputWidgets": {},
     "nuid": "bb4d542f-b153-4b83-a1dc-124b90c583aa",
     "showTitle": false,
     "tableResultSettingsMap": {},
     "title": ""
    }
   },
   "source": [
    "#DSPy development\n",
    "\n",
    "Now that we confirmed the resources work. Let's define the dspy.Signatures. \n",
    "\n",
    "Signature replace prompt engineering. Your goal for a signature is providing the parameters and defining an input-output relationship. Each signature should be clear on how it is achieving something. \n",
    "\n",
    "Each signature can also be used interchangeably with different modules and with each other. \n",
    "\n",
    "Below we will define 3 signatures: \n",
    "1. Extract_Keywords: To send more relevant words to the vector search index, we will first extract keywords from the text input \n",
    "2. Genie_Call: To send the text query to the genie space and understand what insurance type someone has\n",
    "3. image_analyzer: We will take the results of the vector search index and the original text query, send these to the LLM to interpret and create a response\n",
    "\n",
    "**Goal**: Identify the deductible of the patient's insurance\n",
    "\n",
    "**Problem**: Our tables the Genie Space queries does not have a column called deductible. This is located in the PDFs containing insurance information. Based on the input text query, we need to figure out: \n",
    "1. Who the Patient is\n",
    "2. What we are looking for\n",
    "3. Where to get it \n",
    "\n",
    "**Solution**: Let the agent take the text_query, find the patient and the keyword showing what we are looking for. Then, extract these keywords to send to our Genie and Vector Search Tools to find the necessary information. We consolidate this together and let the LLM read through the information to come to a conclusion. \n"
   ]
  },
  {
   "cell_type": "code",
   "execution_count": 0,
   "metadata": {
    "application/vnd.databricks.v1+cell": {
     "cellMetadata": {
      "byteLimit": 2048000,
      "rowLimit": 10000
     },
     "inputWidgets": {},
     "nuid": "6dd641e6-0b3d-4cb6-ba0f-19347b91784c",
     "showTitle": false,
     "tableResultSettingsMap": {},
     "title": ""
    }
   },
   "outputs": [],
   "source": [
    "class image_analyzer(dspy.Signature):\n",
    "  \"\"\"review the image and genie_patient_response to answer the text_query\"\"\"\n",
    "  image: dspy.Image = dspy.InputField() \n",
    "  genie_patient_response: list = dspy.InputField()\n",
    "  text_query: str = dspy.InputField()\n",
    "  response: str = dspy.OutputField() \n",
    "  deductible: str = dspy.OutputField()\n",
    "\n",
    "class patient_information_extraction(dspy.Signature):\n",
    "  \"\"\"This class only extracts and returns information from relevant tools based on the text_query. Include relevant information from the genie_patient_response in the keywords_for_vector_search\"\"\"\n",
    "  text_query: str = dspy.InputField()\n",
    "  genie_patient_response: list = dspy.OutputField()\n",
    "  keywords_for_vector_search: str = dspy.OutputField(desc=\"string of keywords to pass to vector search\")\n",
    "\n",
    "class MultiModalPatientInsuranceAnalyzer(dspy.Module):\n",
    "  def __init__(self):\n",
    "    super().__init__()\n",
    "    self.image_analyzer = dspy.Predict(image_analyzer)\n",
    "    self.patient_information_extraction = dspy.ReAct(patient_information_extraction, tools=[self.hls_patient_genie], max_iters=1)\n",
    "  \n",
    "  def process_image(self, base64_string):\n",
    "    image_data = base64.b64decode(base64_string) \n",
    "    pil_image = Image.open(io.BytesIO(image_data))\n",
    "    dspy_image = dspy.Image.from_PIL(pil_image)\n",
    "    return dspy_image\n",
    "  \n",
    "  def vector_search_for_patient_pdf(self, text_query):\n",
    "    \"\"\"Pulls matching Insurance Documents based on the text_query\"\"\"\n",
    "    client = mlflow.deployments.get_deploy_client(\"databricks\") \n",
    "    response = client.predict(\n",
    "              endpoint=model_endpoint_name,\n",
    "              inputs={\"dataframe_split\": {\n",
    "                      \"columns\": [\"text\"],\n",
    "                      \"data\": [[text_query]]\n",
    "                      }\n",
    "              }\n",
    "            )\n",
    "    text_embedding = response['predictions']['predictions']['embedding']\n",
    "    index = vs_client.get_index(endpoint_name=vector_search_endpoint_name, index_name=f\"{catalog}.{schema}.{index_name}\")\n",
    "    results = index.similarity_search(num_results=3, columns=[\"base64_image\"], query_vector=text_embedding)\n",
    "    return results['result']['data_array'][0][0]\n",
    "  \n",
    "  def hls_patient_genie(self, patient_name):\n",
    "    \"\"\"Pull Patient information based on the patient's name\"\"\"\n",
    "    w = WorkspaceClient()\n",
    "    genie_space_id = \"01effef4c7e113f9b8952cf568b49ac7\" #replace this with your genie space ID that you created\n",
    "\n",
    "    conversation = w.genie.start_conversation_and_wait(\n",
    "        space_id=genie_space_id,\n",
    "        content=f\"Find any details about {patient_name}. Limit your answer to one result.\"\n",
    "    )\n",
    "\n",
    "    response = w.genie.get_message_attachment_query_result(\n",
    "      space_id=genie_space_id,\n",
    "      conversation_id=conversation.conversation_id,\n",
    "      message_id=conversation.message_id,\n",
    "      attachment_id=conversation.attachments[0].attachment_id\n",
    "    )\n",
    "\n",
    "    return response.statement_response.result.data_array\n",
    "\n",
    "\n",
    "  def forward(self, text_query: str):\n",
    "    results = self.patient_information_extraction(text_query=text_query)\n",
    "    base64_str = self.vector_search_for_patient_pdf(text_query=results.keywords_for_vector_search)\n",
    "    dspy_image = self.process_image(base64_string=base64_str)\n",
    "    return self.image_analyzer(image=dspy_image, genie_patient_response=results.genie_patient_response, text_query=text_query)"
   ]
  },
  {
   "cell_type": "markdown",
   "metadata": {
    "application/vnd.databricks.v1+cell": {
     "cellMetadata": {},
     "inputWidgets": {},
     "nuid": "e6a3a87d-84be-4d7d-b4f4-d0a30408a755",
     "showTitle": false,
     "tableResultSettingsMap": {},
     "title": ""
    }
   },
   "source": [
    "#Let's run it!\n",
    "\n",
    "This agent will follow the following process: \n",
    "1. Identify the patient in the text_query\n",
    "2. Identify keywords to send to the vector search \n",
    "3. Use the results of the genie space to better retrieve relevant insurance document information as the insurance could be a HMO, PPO or EPO plan. \n",
    "3. Take the base64 image from the vector search index and the results of the genie to properly answer the question\n",
    "4. Provide a response and deductible as we programmed so that we can access the deductuble value"
   ]
  },
  {
   "cell_type": "code",
   "execution_count": 0,
   "metadata": {
    "application/vnd.databricks.v1+cell": {
     "cellMetadata": {
      "byteLimit": 2048000,
      "rowLimit": 10000
     },
     "inputWidgets": {},
     "nuid": "fe32268d-f21c-4615-b3fe-850f75118c65",
     "showTitle": false,
     "tableResultSettingsMap": {},
     "title": ""
    }
   },
   "outputs": [
    {
     "output_type": "stream",
     "name": "stderr",
     "output_type": "stream",
     "text": [
      "\u001B[92m00:44:01 - LiteLLM:INFO\u001B[0m: utils.py:3043 - \nLiteLLM completion() model= claude-sonnet-4-20250514; provider = anthropic\nINFO:LiteLLM:\nLiteLLM completion() model= claude-sonnet-4-20250514; provider = anthropic\nINFO:httpx:HTTP Request: POST https://api.anthropic.com/v1/messages \"HTTP/1.1 200 OK\"\n\u001B[92m00:44:04 - LiteLLM:INFO\u001B[0m: utils.py:1215 - Wrapper: Completed Call, calling success_handler\nINFO:LiteLLM:Wrapper: Completed Call, calling success_handler\n\u001B[92m00:44:04 - LiteLLM:INFO\u001B[0m: cost_calculator.py:655 - selected model name for cost calculation: anthropic/claude-sonnet-4-20250514\nINFO:LiteLLM:selected model name for cost calculation: anthropic/claude-sonnet-4-20250514\n\u001B[92m00:44:04 - LiteLLM:INFO\u001B[0m: cost_calculator.py:655 - selected model name for cost calculation: anthropic/claude-sonnet-4-20250514\nINFO:LiteLLM:selected model name for cost calculation: anthropic/claude-sonnet-4-20250514\n\u001B[92m00:44:04 - LiteLLM:INFO\u001B[0m: cost_calculator.py:655 - selected model name for cost calculation: anthropic/claude-sonnet-4-20250514\nINFO:LiteLLM:selected model name for cost calculation: anthropic/claude-sonnet-4-20250514\n\u001B[92m00:44:12 - LiteLLM:INFO\u001B[0m: utils.py:3043 - \nLiteLLM completion() model= claude-sonnet-4-20250514; provider = anthropic\nINFO:LiteLLM:\nLiteLLM completion() model= claude-sonnet-4-20250514; provider = anthropic\nINFO:httpx:HTTP Request: POST https://api.anthropic.com/v1/messages \"HTTP/1.1 200 OK\"\n\u001B[92m00:44:18 - LiteLLM:INFO\u001B[0m: utils.py:1215 - Wrapper: Completed Call, calling success_handler\nINFO:LiteLLM:Wrapper: Completed Call, calling success_handler\n\u001B[92m00:44:18 - LiteLLM:INFO\u001B[0m: cost_calculator.py:655 - selected model name for cost calculation: anthropic/claude-sonnet-4-20250514\nINFO:LiteLLM:selected model name for cost calculation: anthropic/claude-sonnet-4-20250514\n\u001B[92m00:44:18 - LiteLLM:INFO\u001B[0m: cost_calculator.py:655 - selected model name for cost calculation: anthropic/claude-sonnet-4-20250514\nINFO:LiteLLM:selected model name for cost calculation: anthropic/claude-sonnet-4-20250514\n\u001B[92m00:44:18 - LiteLLM:INFO\u001B[0m: cost_calculator.py:655 - selected model name for cost calculation: anthropic/claude-sonnet-4-20250514\nINFO:LiteLLM:selected model name for cost calculation: anthropic/claude-sonnet-4-20250514\n"
     ]
    },
    {
     "output_type": "stream",
     "name": "stdout",
     "output_type": "stream",
     "text": [
      "[NOTICE] Using a notebook authentication token. Recommended for development only. For improved performance, please use Service Principal based authentication. To disable this message, pass disable_notice=True.\n"
     ]
    },
    {
     "output_type": "stream",
     "name": "stderr",
     "output_type": "stream",
     "text": [
      "\u001B[92m00:44:19 - LiteLLM:INFO\u001B[0m: utils.py:3043 - \nLiteLLM completion() model= claude-sonnet-4-20250514; provider = anthropic\nINFO:LiteLLM:\nLiteLLM completion() model= claude-sonnet-4-20250514; provider = anthropic\nINFO:httpx:HTTP Request: POST https://api.anthropic.com/v1/messages \"HTTP/1.1 200 OK\"\n\u001B[92m00:44:23 - LiteLLM:INFO\u001B[0m: utils.py:1215 - Wrapper: Completed Call, calling success_handler\nINFO:LiteLLM:Wrapper: Completed Call, calling success_handler\n\u001B[92m00:44:23 - LiteLLM:INFO\u001B[0m: cost_calculator.py:655 - selected model name for cost calculation: anthropic/claude-sonnet-4-20250514\nINFO:LiteLLM:selected model name for cost calculation: anthropic/claude-sonnet-4-20250514\n\u001B[92m00:44:23 - LiteLLM:INFO\u001B[0m: cost_calculator.py:655 - selected model name for cost calculation: anthropic/claude-sonnet-4-20250514\nINFO:LiteLLM:selected model name for cost calculation: anthropic/claude-sonnet-4-20250514\n\u001B[92m00:44:23 - LiteLLM:INFO\u001B[0m: cost_calculator.py:655 - selected model name for cost calculation: anthropic/claude-sonnet-4-20250514\nINFO:LiteLLM:selected model name for cost calculation: anthropic/claude-sonnet-4-20250514\n"
     ]
    },
    {
     "output_type": "display_data",
     "data": {
      "application/databricks.mlflow.trace": "\"tr-a41433e3009b45c983de7fb693c78d63\"",
      "text/plain": [
       "Trace(request_id=tr-a41433e3009b45c983de7fb693c78d63)"
      ]
     },
     "metadata": {},
     "output_type": "display_data"
    }
   ],
   "source": [
    "analyzer = MultiModalPatientInsuranceAnalyzer()\n",
    "analyzer_output = analyzer(text_query=\"what is Ashley Hall's overall deductible?\")"
   ]
  },
  {
   "cell_type": "code",
   "execution_count": 0,
   "metadata": {
    "application/vnd.databricks.v1+cell": {
     "cellMetadata": {
      "byteLimit": 2048000,
      "rowLimit": 10000
     },
     "inputWidgets": {},
     "nuid": "d119670f-5627-435e-b587-078e66829aff",
     "showTitle": false,
     "tableResultSettingsMap": {},
     "title": ""
    }
   },
   "outputs": [
    {
     "output_type": "stream",
     "name": "stdout",
     "output_type": "stream",
     "text": [
      "The LLM Response: Based on the Summary of Benefits and Coverage document, Ashley Hall's overall deductible is $500 for an individual or $1,000 for a family. Since this appears to be a family plan (Plan Type: PPO), the family deductible would be $1,000, but each individual family member has their own $500 deductible that contributes to the overall family deductible amount.\n\nThe Deductible: $500 individual / $1,000 family\n"
     ]
    }
   ],
   "source": [
    "print(f\"The LLM Response: {analyzer_output.response}\\n\\nThe Deductible: {analyzer_output.deductible}\")"
   ]
  },
  {
   "cell_type": "markdown",
   "metadata": {
    "application/vnd.databricks.v1+cell": {
     "cellMetadata": {},
     "inputWidgets": {},
     "nuid": "f0ef5ef1-4527-4e12-9754-25abe3071508",
     "showTitle": false,
     "tableResultSettingsMap": {},
     "title": ""
    }
   },
   "source": [
    "Downstream, we could use the output and update the Delta Table the Genie Space uses allowing us the use a combination of unstructured and structured data to enrich our data sources!"
   ]
  }
 ],
 "metadata": {
  "application/vnd.databricks.v1+notebook": {
   "computePreferences": null,
   "dashboards": [],
   "environmentMetadata": {
    "base_environment": "",
    "environment_version": "2"
   },
   "inputWidgetPreferences": null,
   "language": "python",
   "notebookMetadata": {
    "pythonIndentUnit": 2
   },
   "notebookName": "04_DSPy Orchestration",
   "widgets": {}
  },
  "language_info": {
   "name": "python"
  }
 },
 "nbformat": 4,
 "nbformat_minor": 0
}
